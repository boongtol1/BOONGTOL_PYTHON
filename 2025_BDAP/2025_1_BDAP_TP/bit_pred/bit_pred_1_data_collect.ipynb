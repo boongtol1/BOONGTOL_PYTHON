{
 "cells": [
  {
   "cell_type": "code",
   "execution_count": 1,
   "id": "2d52a1fd",
   "metadata": {},
   "outputs": [
    {
     "name": "stdout",
     "output_type": "stream",
     "text": [
      "                          open      close       high        low       volume\n",
      "timestamp                                                                   \n",
      "2025-05-30 06:00:00  148341000  148332000  148441000  148315000   5.27757559\n",
      "2025-05-30 05:00:00  148416000  148402000  148600000  148319000  16.85723878\n",
      "2025-05-30 04:00:00  148670000  148401000  148684000  148267000  16.65593647\n",
      "2025-05-30 03:00:00  148502000  148684000  149099000  148439000  29.68742287\n",
      "2025-05-30 02:00:00  147996000  148502000  148751000  147990000   24.5188414\n",
      "Saved to btc_1h_candlestick.csv\n"
     ]
    }
   ],
   "source": [
    "import requests\n",
    "import pandas as pd\n",
    "\n",
    "def fetch_bithumb_candles(pair: str = 'BTC_KRW', interval: str = '1h') -> pd.DataFrame:\n",
    "    \"\"\"\n",
    "    Bithumb 공개 API에서 지정된 종목(pair)과 차트 간격(interval) 캔들 데이터를 가져와\n",
    "    pandas DataFrame으로 반환합니다.\n",
    "    \"\"\"\n",
    "    url = f'https://api.bithumb.com/public/candlestick/{pair}/{interval}'\n",
    "    resp = requests.get(url)\n",
    "    resp.raise_for_status()\n",
    "\n",
    "    result = resp.json()\n",
    "    if result.get('status') != '0000':\n",
    "        raise RuntimeError(f\"API error, status: {result.get('status')}\")\n",
    "\n",
    "    # data 필드에 [timestamp, open, close, high, low, volume] 리스트가 들어있음\n",
    "    candles = result['data']\n",
    "\n",
    "    # API가 최신순으로 반환하는 경우 시간순으로 뒤집기\n",
    "    candles.reverse()\n",
    "\n",
    "    # DataFrame 생성\n",
    "    df = pd.DataFrame(candles, columns=[\n",
    "        'timestamp',  # UNIX 시간(ms)\n",
    "        'open',       # 시가\n",
    "        'close',      # 종가\n",
    "        'high',       # 고가\n",
    "        'low',        # 저가\n",
    "        'volume'      # 거래량\n",
    "    ])\n",
    "\n",
    "    # timestamp를 datetime으로 변환 (단위 ms -> 초 단위라면 unit='s' 로 변경)\n",
    "    df['timestamp'] = pd.to_datetime(df['timestamp'], unit='ms')\n",
    "    df.set_index('timestamp', inplace=True)\n",
    "\n",
    "    return df\n",
    "\n",
    "if __name__ == '__main__':\n",
    "    # 1) 데이터 가져오기\n",
    "    df = fetch_bithumb_candles('BTC_KRW', '1h')\n",
    "\n",
    "    # 2) DataFrame 확인\n",
    "    print(df.head())\n",
    "\n",
    "    # 3) CSV로 저장\n",
    "    output_path = 'btc_1h_candlestick.csv'\n",
    "    df.to_csv(output_path)\n",
    "    print(f\"Saved to {output_path}\")\n"
   ]
  }
 ],
 "metadata": {
  "kernelspec": {
   "display_name": "bit_pred",
   "language": "python",
   "name": "python3"
  },
  "language_info": {
   "codemirror_mode": {
    "name": "ipython",
    "version": 3
   },
   "file_extension": ".py",
   "mimetype": "text/x-python",
   "name": "python",
   "nbconvert_exporter": "python",
   "pygments_lexer": "ipython3",
   "version": "3.11.8"
  }
 },
 "nbformat": 4,
 "nbformat_minor": 5
}
