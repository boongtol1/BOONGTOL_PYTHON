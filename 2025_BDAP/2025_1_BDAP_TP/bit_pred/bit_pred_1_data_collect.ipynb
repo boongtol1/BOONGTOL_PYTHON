version https://git-lfs.github.com/spec/v1
oid sha256:467fd998213a2ba7c415893a2c06a8e4f863b2a579f465395f43bbab089a3e73
size 3334
