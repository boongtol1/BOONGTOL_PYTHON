{
 "cells": [
  {
   "cell_type": "code",
   "execution_count": 4,
   "id": "caa95b62",
   "metadata": {},
   "outputs": [
    {
     "name": "stdout",
     "output_type": "stream",
     "text": [
      "                                open      close       high        low  \\\n",
      "timestamp                                                               \n",
      "2025-05-30 15:00:00+09:00  148341000  148072000  148441000  148044000   \n",
      "2025-05-30 14:00:00+09:00  148416000  148402000  148600000  148319000   \n",
      "2025-05-30 13:00:00+09:00  148670000  148401000  148684000  148267000   \n",
      "2025-05-30 12:00:00+09:00  148502000  148684000  149099000  148439000   \n",
      "2025-05-30 11:00:00+09:00  147996000  148502000  148751000  147990000   \n",
      "\n",
      "                                volume     target  \n",
      "timestamp                                          \n",
      "2025-05-30 15:00:00+09:00  12.43328597       None  \n",
      "2025-05-30 14:00:00+09:00  16.85723878  148072000  \n",
      "2025-05-30 13:00:00+09:00  16.65593647  148402000  \n",
      "2025-05-30 12:00:00+09:00  29.68742287  148401000  \n",
      "2025-05-30 11:00:00+09:00   24.5188414  148684000  \n",
      "                              close    target\n",
      "timestamp                                    \n",
      "2024-11-02 16:00:00+09:00  97797000  97655000\n",
      "2024-11-02 15:00:00+09:00  97697000  97797000\n",
      "2024-11-02 14:00:00+09:00  97693000  97697000\n",
      "2024-11-02 13:00:00+09:00  97502000  97693000\n",
      "2024-11-02 12:00:00+09:00  97477000  97502000\n"
     ]
    },
    {
     "name": "stderr",
     "output_type": "stream",
     "text": [
      "/var/folders/tk/ct0j8j1d0y1ft37qgdzljbzh0000gn/T/ipykernel_9086/918306517.py:19: FutureWarning: DataFrame.fillna with 'method' is deprecated and will raise in a future version. Use obj.ffill() or obj.bfill() instead.\n",
      "  df.fillna(method='ffill', inplace=True)\n"
     ]
    }
   ],
   "source": [
    "\n",
    "from bit_pred_1_data_collect import fetch_bithumb_candles\n",
    "\n",
    "import pandas as pd\n",
    "\n",
    "def preprocess_candles(df: pd.DataFrame) -> pd.DataFrame:\n",
    "    \"\"\"\n",
    "    1) 인덱스를 KST(Asia/Seoul) datetime으로 설정\n",
    "    2) 결측치는 직전 값으로 보간(Forward Fill)\n",
    "    3) 1시간 후 종가(target) 컬럼 생성\n",
    "    \"\"\"\n",
    "    df = df.copy()\n",
    "\n",
    "    # 1) 인덱스를 UTC로 간주하고 KST로 변환\n",
    "    #    (만약 df.index가 naive datetime이라면 UTC로 로컬라이즈 후 변환)\n",
    "    df.index = pd.to_datetime(df.index)\n",
    "    df.index = df.index.tz_localize('UTC').tz_convert('Asia/Seoul')\n",
    "\n",
    "    # 2) 결측치 처리: 직전 값 보간법\n",
    "    df.fillna(method='ffill', inplace=True)\n",
    "\n",
    "    # 3) 레이블 생성: 1시간 뒤 종가\n",
    "    #    1시간 간격이므로 shift(-1)을 사용\n",
    "    df['target'] = df['close'].shift(+1)\n",
    "\n",
    "    return df\n",
    "\n",
    "# 사용 예시\n",
    "if __name__ == '__main__':\n",
    "    # 이미 fetch_bithumb_candles()로 가져온 df가 있다고 가정\n",
    "    df = fetch_bithumb_candles('BTC_KRW', '1h')\n",
    "\n",
    "    # 전처리\n",
    "    df_preprocessed = preprocess_candles(df)\n",
    "\n",
    "    # 결과 확인\n",
    "    print(df_preprocessed.head())\n",
    "    print(df_preprocessed[['close', 'target']].tail())\n",
    "\n",
    "    # (원한다면) CSV로 저장\n",
    "    df_preprocessed.to_csv('btc_1h_candles_preprocessed.csv')\n"
   ]
  }
 ],
 "metadata": {
  "kernelspec": {
   "display_name": "bit_pred",
   "language": "python",
   "name": "python3"
  },
  "language_info": {
   "codemirror_mode": {
    "name": "ipython",
    "version": 3
   },
   "file_extension": ".py",
   "mimetype": "text/x-python",
   "name": "python",
   "nbconvert_exporter": "python",
   "pygments_lexer": "ipython3",
   "version": "3.11.11"
  }
 },
 "nbformat": 4,
 "nbformat_minor": 5
}
