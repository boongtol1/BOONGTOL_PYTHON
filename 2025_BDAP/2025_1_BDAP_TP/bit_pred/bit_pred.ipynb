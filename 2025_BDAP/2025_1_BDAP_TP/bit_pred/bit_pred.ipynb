version https://git-lfs.github.com/spec/v1
oid sha256:fa783f179dc6d265f4e28b57dc6dbe930f0b235ddce79437e557a20bcaae69dc
size 164983
