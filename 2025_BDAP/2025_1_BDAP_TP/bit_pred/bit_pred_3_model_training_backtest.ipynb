version https://git-lfs.github.com/spec/v1
oid sha256:56292c3b4efc93d2cb268e351c5a4c633276b4fafe42148f2257ebfbf203bec4
size 161686
