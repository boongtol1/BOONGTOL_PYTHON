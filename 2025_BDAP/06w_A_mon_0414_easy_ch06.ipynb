version https://git-lfs.github.com/spec/v1
oid sha256:ccdba55246813259a1056fb4a0705685f07f5c1c3d51d101733b8cf3c9a54929
size 1402104
