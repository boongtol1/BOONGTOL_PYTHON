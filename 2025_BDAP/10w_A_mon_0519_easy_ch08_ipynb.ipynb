version https://git-lfs.github.com/spec/v1
oid sha256:511a07d874d2a23edd50ad7a4a975016ebd7e8090e496e53f02b9e40e08b75c3
size 1309758
