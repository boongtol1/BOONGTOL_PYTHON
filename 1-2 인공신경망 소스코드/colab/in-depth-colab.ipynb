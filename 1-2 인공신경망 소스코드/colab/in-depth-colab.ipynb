version https://git-lfs.github.com/spec/v1
oid sha256:b6ff9e63fab7b89220557962e92e47ba630bd4873d22824e9b18308691273ff9
size 8907
