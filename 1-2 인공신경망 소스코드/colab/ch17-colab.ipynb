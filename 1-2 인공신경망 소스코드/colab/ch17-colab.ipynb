version https://git-lfs.github.com/spec/v1
oid sha256:fc24c5f167c05d0fef11dcf86b2df7addd9a0a96d9d547c8e157a9a031b3387f
size 11783
