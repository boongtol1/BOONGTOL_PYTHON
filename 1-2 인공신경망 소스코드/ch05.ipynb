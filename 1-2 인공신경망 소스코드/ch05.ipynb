version https://git-lfs.github.com/spec/v1
oid sha256:f8cf0aefb6e71120a31a9cf8cde741e7d281424bac8648c14cff6867d0153cf3
size 970380
