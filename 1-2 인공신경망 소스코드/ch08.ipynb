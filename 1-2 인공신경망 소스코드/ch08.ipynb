version https://git-lfs.github.com/spec/v1
oid sha256:d317c09d5fccae937d304a6e711b7c6f74397c9c48c37dbbfd0a024d2856a8a5
size 2501
