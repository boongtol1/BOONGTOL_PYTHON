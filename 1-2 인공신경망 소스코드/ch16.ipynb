version https://git-lfs.github.com/spec/v1
oid sha256:3133aebd53f00cc69615fdf5c70ebadca8290f8bc0d4722a1c6187d2722da10a
size 61124
