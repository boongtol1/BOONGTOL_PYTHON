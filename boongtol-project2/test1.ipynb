version https://git-lfs.github.com/spec/v1
oid sha256:7e1428a09611cefd41734703c519946e41d07508dad5dacec728c6da14851399
size 4500
