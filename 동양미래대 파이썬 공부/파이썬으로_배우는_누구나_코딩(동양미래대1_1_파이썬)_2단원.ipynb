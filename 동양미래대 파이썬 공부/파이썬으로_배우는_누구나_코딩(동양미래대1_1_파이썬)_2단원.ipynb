{
  "cells": [
    {
      "cell_type": "markdown",
      "metadata": {
        "id": "I3nfllFB0ZGt"
      },
      "source": [
        "문자열의 정의: 따옴표로 둘러쌓여 있는 모든 따옴표로 둘러쌓여 있는 존재 그 자체\n",
        "문자의 정의: 따옴표로 둘러쌓여 있는 모든 따옴표로 둘러쌓여 있는 존재 그 자체(이때 이 존재를 입력했을때 에러 발생하면 X) (단, n=1)--> 문자는 문자열에 포함된다!\n",
        "피문자열의 정의: 따옴표로 둘러쌓여 있는 모든 따옴표로 둘러쌓여 있는 존재 그 자체에서 가장 바깥쪽 따옴표 한쌍만 없앤 존재\n",
        "what is print 함수의 역할 in 문자열?--> 1.어떤 문자열의 피문자열을 출력한다.\n",
        "                                   2.개행한다.\n",
        "print 함수를 안쓰고 문자열이나 수나 진리값을 입력하면 마지막부분만 출력된다!\n",
        "\n",
        "삼중 따옴표와 일반적인 따옴표의 포함관계--> 삼중 따옴표는 일반적인 따옴표를 포함한다!(일반적인 따옴표가 못하는것?-->한 줄이 아닌 상황을 인식할수 없다!)\n",
        "\n",
        "이스케이프 시퀸스(탈출 문자)의 이해 (with\\n)\n",
        "\n",
        "\n",
        "\\n 에 대해 논해보자--> 피문자열에 \\n 이 포함되어 있을때의 의미는 \\n 이 있는 그 위치에서 줄바꿈을 하라는 의미다!\n",
        "\n",
        "cf) print 함수가 없을때는 항상 \\n 으로 문자로 인식되고 print 함수가 있을때는 \\n의 의미(개행)가 적용되서 인식된다!\n",
        "\n",
        "_ or __or ___ 는 기본적으로(런타임 초기화 즉후때) 파이썬에서 ''이다! (아무것도 없는 문자열이다!)--> ipynb only!\n",
        " 런타임에 특정한 값(문자열,수,진리값)이 저장되어 있으면 _or __or ___는 런타임의 가장 최근에 있는 값을 의미한다!!--> ipynb only!\n",
        "\n",
        " cf) what is 값(문자열,수,불리안) 런타임에 저장한다 함??--> 값(문자열,수,불리안)을 행들의 첫부분에 입력하는 것!\n",
        " cf) None 은 값이 아니다! 즉 None 은 런타임에 저장되어도\n",
        " _에 저장되지 않는다!!!\n",
        "\n",
        " p.44\n",
        "\n",
        " eval() 함수는 문자열로 표현된 파이썬 표현식을 실행하여 그 결과를 반환하는 파이썬 내장 함수입니다.\n",
        "\n",
        " eval() 함수가 실행 가능한 문자열의 기준은 파이썬의 문법을 따르며, 해당 코드를 인터프리터가 해석하고 실행할 수 있어야 합니다.\n",
        "\n",
        " cf) eval 함수는 항상 문자열을 인자로 받는다. 이때 이 문자열의 피문자열은 항상 파이썬 인터프리터가 해석가능해야 한다!!!(결과창에 에러가 나면 안된다) 또, 파이썬에서 결과란 결과창에 뜨는 것!! eval 함수는 피문자열의 결과를 출력하는 함수!(eval 함수의 리턴값도 None이다.)\n"
      ]
    },
    {
      "cell_type": "code",
      "execution_count": null,
      "metadata": {
        "colab": {
          "base_uri": "https://localhost:8080/",
          "height": 36
        },
        "id": "Gwrf_rBY65Yt",
        "outputId": "3c87c38a-46ca-4068-8061-28a0752ec2a5"
      },
      "outputs": [
        {
          "data": {
            "application/vnd.google.colaboratory.intrinsic+json": {
              "type": "string"
            },
            "text/plain": [
              "'\\\\'"
            ]
          },
          "execution_count": 2,
          "metadata": {},
          "output_type": "execute_result"
        }
      ],
      "source": []
    },
    {
      "cell_type": "code",
      "execution_count": null,
      "metadata": {
        "colab": {
          "base_uri": "https://localhost:8080/"
        },
        "id": "f_qVcku3J4ue",
        "outputId": "3c0aeadc-7ccd-4dfa-eb56-91737067012a"
      },
      "outputs": [
        {
          "name": "stdout",
          "output_type": "stream",
          "text": [
            "ww\n",
            "None\n"
          ]
        }
      ],
      "source": [
        "a=eval('print(\"ww\")')\n",
        "print(a)"
      ]
    },
    {
      "cell_type": "code",
      "execution_count": null,
      "metadata": {
        "colab": {
          "base_uri": "https://localhost:8080/"
        },
        "id": "uSUjmMnK6Iuv",
        "outputId": "633ca327-50d9-495d-9b9d-d5b4ccdedfd0"
      },
      "outputs": [
        {
          "name": "stdout",
          "output_type": "stream",
          "text": [
            "Hello, world!\n"
          ]
        }
      ],
      "source": [
        "result = print(\"Hello, world!\")  # Hello, world! 를 출력하고 개행하고 None 을 result 에 저장해라!!!\n",
        "result"
      ]
    },
    {
      "cell_type": "code",
      "execution_count": null,
      "metadata": {
        "colab": {
          "base_uri": "https://localhost:8080/"
        },
        "id": "mPZ7anyN5INu",
        "outputId": "f540037b-3a78-4185-df23-7a065af7ea5b"
      },
      "outputs": [
        {
          "name": "stdout",
          "output_type": "stream",
          "text": [
            "Hello, world!\n"
          ]
        }
      ],
      "source": [
        "print(\"Hello, world!\")  # Hello, world! 를 출력하고 개행하고 None 을 표시해라\n",
        "None"
      ]
    },
    {
      "cell_type": "code",
      "execution_count": null,
      "metadata": {
        "colab": {
          "base_uri": "https://localhost:8080/",
          "height": 36
        },
        "id": "B1GTVDDTQSwD",
        "outputId": "9126c24b-c0bd-4c09-9e0f-7116563dec45"
      },
      "outputs": [
        {
          "data": {
            "application/vnd.google.colaboratory.intrinsic+json": {
              "type": "string"
            },
            "text/plain": [
              "'b'"
            ]
          },
          "execution_count": 9,
          "metadata": {},
          "output_type": "execute_result"
        }
      ],
      "source": [
        "a='b'\n",
        "a"
      ]
    },
    {
      "cell_type": "code",
      "execution_count": null,
      "metadata": {
        "colab": {
          "base_uri": "https://localhost:8080/"
        },
        "id": "dr91OHtpHVH4",
        "outputId": "758973e7-0a40-4a1a-8512-acf0274fdf86"
      },
      "outputs": [
        {
          "data": {
            "text/plain": [
              "False"
            ]
          },
          "execution_count": 4,
          "metadata": {},
          "output_type": "execute_result"
        }
      ],
      "source": [
        "bool('')    # bool(None) 도 False 다!"
      ]
    },
    {
      "cell_type": "code",
      "execution_count": null,
      "metadata": {
        "colab": {
          "base_uri": "https://localhost:8080/"
        },
        "id": "hHO5iLT4IVRg",
        "outputId": "a493ee78-c0be-4055-f00d-d0379bfef01c"
      },
      "outputs": [
        {
          "data": {
            "text/plain": [
              "False"
            ]
          },
          "execution_count": 48,
          "metadata": {},
          "output_type": "execute_result"
        }
      ],
      "source": [
        "'a\\0'<'a'  # 빈 문자열('') 는 ord 함수의 인자로 들어갈 수 없다. 널 문자('\\0') 는 ord 의 인자로 들어갈수 있고 그 결과값은 0 이다.\n",
        "        # 여기서 알 수 있는 사실은 빈 문자열은 ord 함수의 인자가 될 수 없지만, 문자열끼리의 대소를 비교할때 가장 작다!\n",
        "        # 문자끼리의 대소를 비교할때, 각 문자의 ord 값을 비교해 생각한다.\n",
        "        # 문자열끼의 대소를 비교할때는 그 문자열의 가장 왼쪽부터 값을 비교해 결정되고 만약 가장 왼쪽 값이 같다면 다음 오른쪽 문자로 비교한다!"
      ]
    },
    {
      "cell_type": "code",
      "execution_count": null,
      "metadata": {
        "colab": {
          "base_uri": "https://localhost:8080/",
          "height": 183
        },
        "id": "IKwloULyK906",
        "outputId": "125e9714-ff35-4b0c-c8df-faa3c52db762"
      },
      "outputs": [
        {
          "ename": "TypeError",
          "evalue": "ord() expected a character, but string of length 3 found",
          "output_type": "error",
          "traceback": [
            "\u001b[0;31m---------------------------------------------------------------------------\u001b[0m",
            "\u001b[0;31mTypeError\u001b[0m                                 Traceback (most recent call last)",
            "\u001b[0;32m<ipython-input-7-af31c3c58f10>\u001b[0m in \u001b[0;36m<cell line: 3>\u001b[0;34m()\u001b[0m\n\u001b[1;32m      1\u001b[0m \u001b[0mord\u001b[0m\u001b[0;34m(\u001b[0m\u001b[0;34m'b'\u001b[0m\u001b[0;34m)\u001b[0m    \u001b[0;31m# \\가 들어간 문자(열)을 생각할때, \\의 오른쪽에 쓰여진 존재들과 \\는 모두 한 문자 취급이다!\u001b[0m\u001b[0;34m\u001b[0m\u001b[0;34m\u001b[0m\u001b[0m\n\u001b[1;32m      2\u001b[0m \u001b[0;34m\u001b[0m\u001b[0m\n\u001b[0;32m----> 3\u001b[0;31m \u001b[0mord\u001b[0m\u001b[0;34m(\u001b[0m\u001b[0;34m'sgh'\u001b[0m\u001b[0;34m)\u001b[0m\u001b[0;34m\u001b[0m\u001b[0;34m\u001b[0m\u001b[0m\n\u001b[0m",
            "\u001b[0;31mTypeError\u001b[0m: ord() expected a character, but string of length 3 found"
          ]
        }
      ],
      "source": [
        "ord('b')    # \\가 들어간 문자(열)을 생각할때, \\의 오른쪽에 쓰여진 존재들과 \\는 모두 한 문자 취급이다!\n",
        "\n",
        "ord('')"
      ]
    },
    {
      "cell_type": "code",
      "execution_count": null,
      "metadata": {
        "colab": {
          "base_uri": "https://localhost:8080/"
        },
        "id": "ruA8s5MGVd1I",
        "outputId": "1ff24075-6b68-4543-cfa0-46be8040c2e6"
      },
      "outputs": [
        {
          "name": "stdout",
          "output_type": "stream",
          "text": [
            "항목을 찾지 못했습니다.\n",
            "1\n",
            "<class 'int'>\n",
            "2\n",
            "<class 'int'>\n",
            "3\n",
            "<class 'int'>\n"
          ]
        }
      ],
      "source": [
        "my_list = [1, 2, 3, 4, 5]\n",
        "for item in my_list:\n",
        "    if item == 6:\n",
        "        print(\"항목을 찾았습니다.\")\n",
        "        break\n",
        "else:\n",
        "    print(\"항목을 찾지 못했습니다.\")\n",
        "# for 문에서의 else 절은 반복이 정상적으로 완료되었을 때(즉, 반복문이 break 문을 만나지 않고 종료되었을 때) 실행됩니다.\n",
        "\n",
        "for i in 1,2,3:\n",
        "    print(i)\n",
        "# 위 for 문에서 1, 2, 3 은 컴마로 구분된 값들의 집합이기 때문에 튜플로 취급됩니다. 괄호로 둘러싸지 않아도 튜플로 취급됩니다."
      ]
    },
    {
      "cell_type": "code",
      "execution_count": null,
      "metadata": {
        "colab": {
          "base_uri": "https://localhost:8080/"
        },
        "id": "DgGcfAVSyP_c",
        "outputId": "476e188f-6d52-49db-b68f-2fff3dec867b"
      },
      "outputs": [
        {
          "name": "stdout",
          "output_type": "stream",
          "text": [
            "6\n",
            "7\n"
          ]
        }
      ],
      "source": [
        "for i in 6,7 :\n",
        "    print(i)"
      ]
    },
    {
      "cell_type": "code",
      "execution_count": null,
      "metadata": {
        "colab": {
          "base_uri": "https://localhost:8080/"
        },
        "id": "-TbYAePu07tf",
        "outputId": "99d1640e-0d18-4c02-c347-c62fab54fe63"
      },
      "outputs": [
        {
          "name": "stdout",
          "output_type": "stream",
          "text": [
            "2\n"
          ]
        }
      ],
      "source": [
        "i=0\n",
        "for c in 'java':\n",
        "    if c=='v':\n",
        "        break\n",
        "    else:\n",
        "        i+=1\n",
        "print(i)"
      ]
    },
    {
      "cell_type": "code",
      "execution_count": null,
      "metadata": {
        "colab": {
          "base_uri": "https://localhost:8080/"
        },
        "id": "MOT1bFvL3wD5",
        "outputId": "c17badd8-d9ef-4321-ca1e-a93ba2ebb9d1"
      },
      "outputs": [
        {
          "data": {
            "text/plain": [
              "7"
            ]
          },
          "execution_count": 20,
          "metadata": {},
          "output_type": "execute_result"
        }
      ],
      "source": [
        "int('7',10)"
      ]
    },
    {
      "cell_type": "code",
      "execution_count": null,
      "metadata": {
        "colab": {
          "base_uri": "https://localhost:8080/"
        },
        "id": "as7g2qC18iHh",
        "outputId": "c547bc67-3a3d-47f3-acfe-247dcce4e995"
      },
      "outputs": [
        {
          "name": "stdout",
          "output_type": "stream",
          "text": [
            "7\n",
            "9\n",
            "7\n",
            "9\n"
          ]
        }
      ],
      "source": [
        "a=input()\n",
        "b=input()\n",
        "print(int(a))\n",
        "print(int(b))"
      ]
    },
    {
      "cell_type": "code",
      "execution_count": null,
      "metadata": {
        "colab": {
          "base_uri": "https://localhost:8080/",
          "height": 36
        },
        "id": "W9GhwpSZ-KtC",
        "outputId": "9f220e0d-fd30-4eb7-eed6-2063134a5fb4"
      },
      "outputs": [
        {
          "data": {
            "application/vnd.google.colaboratory.intrinsic+json": {
              "type": "string"
            },
            "text/plain": [
              "'j>a>v>a'"
            ]
          },
          "execution_count": 28,
          "metadata": {},
          "output_type": "execute_result"
        }
      ],
      "source": [
        "'>'.join('java')"
      ]
    },
    {
      "cell_type": "code",
      "execution_count": null,
      "metadata": {
        "colab": {
          "base_uri": "https://localhost:8080/",
          "height": 36
        },
        "id": "PrLPW-LQ-j7Z",
        "outputId": "4a9ac45d-a7b4-49c1-c7e4-0946d8db9ddb"
      },
      "outputs": [
        {
          "data": {
            "application/vnd.google.colaboratory.intrinsic+json": {
              "type": "string"
            },
            "text/plain": [
              "'2.3'"
            ]
          },
          "execution_count": 29,
          "metadata": {},
          "output_type": "execute_result"
        }
      ],
      "source": [
        "'%3.1f'%2.28"
      ]
    },
    {
      "cell_type": "code",
      "execution_count": null,
      "metadata": {
        "colab": {
          "base_uri": "https://localhost:8080/"
        },
        "id": "JIJReN5W_wVh",
        "outputId": "65874bdc-6ca6-4dbd-b681-d359d054d553"
      },
      "outputs": [
        {
          "data": {
            "text/plain": [
              "False"
            ]
          },
          "execution_count": 31,
          "metadata": {},
          "output_type": "execute_result"
        }
      ],
      "source": [
        "bool('')"
      ]
    },
    {
      "cell_type": "code",
      "execution_count": null,
      "metadata": {
        "colab": {
          "base_uri": "https://localhost:8080/"
        },
        "id": "M_QzBJmVAGI1",
        "outputId": "75c52090-cf5d-4e06-8570-04c5dd263f79"
      },
      "outputs": [
        {
          "data": {
            "text/plain": [
              "5"
            ]
          },
          "execution_count": 34,
          "metadata": {},
          "output_type": "execute_result"
        }
      ],
      "source": [
        "10//2+9\n"
      ]
    }
  ],
  "metadata": {
    "colab": {
      "provenance": []
    },
    "kernelspec": {
      "display_name": "Python 3",
      "name": "python3"
    },
    "language_info": {
      "name": "python"
    }
  },
  "nbformat": 4,
  "nbformat_minor": 0
}
