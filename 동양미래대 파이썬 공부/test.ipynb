{
 "cells": [
  {
   "cell_type": "code",
   "execution_count": 1,
   "metadata": {},
   "outputs": [
    {
     "name": "stdout",
     "output_type": "stream",
     "text": [
      "Hello, World!\n"
     ]
    }
   ],
   "source": [
    "class HelloWorld:\n",
    "    def __init__(self):\n",
    "        pass\n",
    "    \n",
    "    def print_message(self):\n",
    "        print(\"Hello, World!\")\n",
    "\n",
    "# 클래스의 인스턴스를 생성\n",
    "hello = HelloWorld()\n",
    "\n",
    "# 메서드를 호출하여 메시지를 출력\n",
    "hello.print_message()\n"
   ]
  }
 ],
 "metadata": {
  "kernelspec": {
   "display_name": "Python 3",
   "language": "python",
   "name": "python3"
  },
  "language_info": {
   "codemirror_mode": {
    "name": "ipython",
    "version": 3
   },
   "file_extension": ".py",
   "mimetype": "text/x-python",
   "name": "python",
   "nbconvert_exporter": "python",
   "pygments_lexer": "ipython3",
   "version": "3.12.3"
  }
 },
 "nbformat": 4,
 "nbformat_minor": 2
}
