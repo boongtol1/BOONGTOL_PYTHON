{
  "nbformat": 4,
  "nbformat_minor": 0,
  "metadata": {
    "colab": {
      "provenance": []
    },
    "kernelspec": {
      "name": "python3",
      "display_name": "Python 3"
    },
    "language_info": {
      "name": "python"
    }
  },
  "cells": [
    {
      "cell_type": "code",
      "execution_count": null,
      "metadata": {
        "colab": {
          "base_uri": "https://localhost:8080/"
        },
        "id": "eFD0cLZS-tta",
        "outputId": "9239077c-113d-4821-e33e-25fbb10d106f"
      },
      "outputs": [
        {
          "output_type": "stream",
          "name": "stdout",
          "text": [
            "# 이후는 주석\n",
            "string: \"python\"\n",
            "number: 1 5 3.14\n",
            "string: 'python'\n"
          ]
        }
      ],
      "source": [
        "print('# 이후는 주석')\n",
        "print('string: \"python\"')\n",
        "print(\"number: 1 5 3.14\")\n",
        "print(\"string: 'python'\")"
      ]
    },
    {
      "cell_type": "code",
      "source": [
        "print('계산금액')\n",
        "print(78000)\n",
        "print('오만 원권')\n",
        "print(78000 // 50000)\n",
        "78000 % 50000\n",
        "print('만 원권')\n",
        "print( _ // 10000)\n",
        "_ % 10000\n",
        "print('오천원권')\n",
        "print( _ // 5000 + 1)\n",
        "print('잔돈')\n",
        "print(5000 - _ % 5000)\n",
        "print(5000 - (78000 % 50000) % 10000 % 5000)"
      ],
      "metadata": {
        "colab": {
          "base_uri": "https://localhost:8080/",
          "height": 297
        },
        "id": "wUceCXPQAbAt",
        "outputId": "1511adb9-8ef7-4987-98f5-9033326ebef9"
      },
      "execution_count": null,
      "outputs": [
        {
          "output_type": "stream",
          "name": "stdout",
          "text": [
            "계산금액\n",
            "78000\n",
            "오만 원권\n",
            "1\n",
            "만 원권\n"
          ]
        },
        {
          "output_type": "error",
          "ename": "TypeError",
          "evalue": "unsupported operand type(s) for //: 'str' and 'int'",
          "traceback": [
            "\u001b[0;31m---------------------------------------------------------------------------\u001b[0m",
            "\u001b[0;31mTypeError\u001b[0m                                 Traceback (most recent call last)",
            "\u001b[0;32m<ipython-input-9-66a18c135887>\u001b[0m in \u001b[0;36m<cell line: 7>\u001b[0;34m()\u001b[0m\n\u001b[1;32m      5\u001b[0m \u001b[0;36m78000\u001b[0m \u001b[0;34m%\u001b[0m \u001b[0;36m50000\u001b[0m\u001b[0;34m\u001b[0m\u001b[0;34m\u001b[0m\u001b[0m\n\u001b[1;32m      6\u001b[0m \u001b[0mprint\u001b[0m\u001b[0;34m(\u001b[0m\u001b[0;34m'만 원권'\u001b[0m\u001b[0;34m)\u001b[0m\u001b[0;34m\u001b[0m\u001b[0;34m\u001b[0m\u001b[0m\n\u001b[0;32m----> 7\u001b[0;31m \u001b[0mprint\u001b[0m\u001b[0;34m(\u001b[0m \u001b[0m_\u001b[0m \u001b[0;34m//\u001b[0m \u001b[0;36m10000\u001b[0m\u001b[0;34m)\u001b[0m\u001b[0;34m\u001b[0m\u001b[0;34m\u001b[0m\u001b[0m\n\u001b[0m\u001b[1;32m      8\u001b[0m \u001b[0m_\u001b[0m \u001b[0;34m%\u001b[0m \u001b[0;36m10000\u001b[0m\u001b[0;34m\u001b[0m\u001b[0;34m\u001b[0m\u001b[0m\n\u001b[1;32m      9\u001b[0m \u001b[0mprint\u001b[0m\u001b[0;34m(\u001b[0m\u001b[0;34m'오천원권'\u001b[0m\u001b[0;34m)\u001b[0m\u001b[0;34m\u001b[0m\u001b[0;34m\u001b[0m\u001b[0m\n",
            "\u001b[0;31mTypeError\u001b[0m: unsupported operand type(s) for //: 'str' and 'int'"
          ]
        }
      ]
    },
    {
      "cell_type": "code",
      "source": [
        "print(1, 2, -5, 3.14, 2.71828)\n",
        "print('Hi,', 'Python!')\n",
        "\n",
        "print('23000원은', '5000원 ?개', '1000원 ?개')\n",
        "print('5000원', 23000 // 5000, '개')\n",
        "print('1000원', (23000 % 5000) // 1000, '개')"
      ],
      "metadata": {
        "colab": {
          "base_uri": "https://localhost:8080/"
        },
        "id": "aBV-Sj6PEQ1s",
        "outputId": "ac3ec6c6-11c4-4be6-f359-9cb54d539ac8"
      },
      "execution_count": null,
      "outputs": [
        {
          "output_type": "stream",
          "name": "stdout",
          "text": [
            "1 2 -5 3.14 2.71828\n",
            "Hi, Python!\n",
            "23000원은 5000원 ?개 1000원 ?개\n",
            "5000원 4 개\n",
            "1000원 3 개\n"
          ]
        }
      ]
    },
    {
      "cell_type": "code",
      "source": [
        "celsius = 37\n",
        "fahrenhite = celsius * 9/5 + 32 #화씨로 변환\n",
        "print('섭씨: ', celsius, ',', '화씨: ', fahrenhite)\n",
        "celsius += 3 # 3도 증가\n",
        "fahrenhite = celsius * 9/5 + 32 #화씨로 변환\n",
        "print('섭씨: ', celsius, ',', '화씨: ', fahrenhite)\n"
      ],
      "metadata": {
        "colab": {
          "base_uri": "https://localhost:8080/"
        },
        "id": "QLIwfmmaEdiG",
        "outputId": "e5a94fba-7e31-4eee-f149-98b04a7bf508"
      },
      "execution_count": null,
      "outputs": [
        {
          "output_type": "stream",
          "name": "stdout",
          "text": [
            "섭씨:  37 , 화씨:  98.6\n",
            "섭씨:  40 , 화씨:  104.0\n"
          ]
        }
      ]
    },
    {
      "cell_type": "code",
      "source": [
        "distance = 384400\n",
        "unit = 10000\n",
        "manUnit, remainder = divmod(distance, unit)\n",
        "print('지구에서 달까지의 거리:', manUnit, '만', remainder, '킬로미터')\n"
      ],
      "metadata": {
        "colab": {
          "base_uri": "https://localhost:8080/"
        },
        "id": "vwRuWeYVEpd-",
        "outputId": "c1c96872-b031-4302-da5b-08049a814d9f"
      },
      "execution_count": null,
      "outputs": [
        {
          "output_type": "stream",
          "name": "stdout",
          "text": [
            "지구에서 달까지의 거리: 38 만 4400 킬로미터\n"
          ]
        }
      ]
    },
    {
      "cell_type": "code",
      "source": [
        "int('python') #일반 글자\n",
        "int('6400i') #정수에 문자 i가 포함\n",
        "float('3.141592f') #실수에 문자 f가 포함\n",
        "int('2.71828') #정수가 아닌 실수 형태\n",
        "int('0b11') #10진수만 형태만 가능\n",
        "int(float('2.71828')) #정상적으로 2 반환"
      ],
      "metadata": {
        "colab": {
          "base_uri": "https://localhost:8080/",
          "height": 211
        },
        "id": "S2idU1pcExj2",
        "outputId": "49a89b10-a7a4-492b-d493-27ecd7d2ab06"
      },
      "execution_count": null,
      "outputs": [
        {
          "output_type": "error",
          "ename": "ValueError",
          "evalue": "invalid literal for int() with base 10: 'python'",
          "traceback": [
            "\u001b[0;31m---------------------------------------------------------------------------\u001b[0m",
            "\u001b[0;31mValueError\u001b[0m                                Traceback (most recent call last)",
            "\u001b[0;32m<ipython-input-13-5962a5013716>\u001b[0m in \u001b[0;36m<cell line: 1>\u001b[0;34m()\u001b[0m\n\u001b[0;32m----> 1\u001b[0;31m \u001b[0mint\u001b[0m\u001b[0;34m(\u001b[0m\u001b[0;34m'python'\u001b[0m\u001b[0;34m)\u001b[0m \u001b[0;31m#일반 글자\u001b[0m\u001b[0;34m\u001b[0m\u001b[0;34m\u001b[0m\u001b[0m\n\u001b[0m\u001b[1;32m      2\u001b[0m \u001b[0mint\u001b[0m\u001b[0;34m(\u001b[0m\u001b[0;34m'6400i'\u001b[0m\u001b[0;34m)\u001b[0m \u001b[0;31m#정수에 문자 i가 포함\u001b[0m\u001b[0;34m\u001b[0m\u001b[0;34m\u001b[0m\u001b[0m\n\u001b[1;32m      3\u001b[0m \u001b[0mfloat\u001b[0m\u001b[0;34m(\u001b[0m\u001b[0;34m'3.141592f'\u001b[0m\u001b[0;34m)\u001b[0m \u001b[0;31m#실수에 문자 f가 포함\u001b[0m\u001b[0;34m\u001b[0m\u001b[0;34m\u001b[0m\u001b[0m\n\u001b[1;32m      4\u001b[0m \u001b[0mint\u001b[0m\u001b[0;34m(\u001b[0m\u001b[0;34m'2.71828'\u001b[0m\u001b[0;34m)\u001b[0m \u001b[0;31m#정수가 아닌 실수 형태\u001b[0m\u001b[0;34m\u001b[0m\u001b[0;34m\u001b[0m\u001b[0m\n\u001b[1;32m      5\u001b[0m \u001b[0mint\u001b[0m\u001b[0;34m(\u001b[0m\u001b[0;34m'0b11'\u001b[0m\u001b[0;34m)\u001b[0m \u001b[0;31m#10진수만 형태만 가능\u001b[0m\u001b[0;34m\u001b[0m\u001b[0;34m\u001b[0m\u001b[0m\n",
            "\u001b[0;31mValueError\u001b[0m: invalid literal for int() with base 10: 'python'"
          ]
        }
      ]
    },
    {
      "cell_type": "code",
      "source": [
        "planet = input('원하는 행성은? ')\n",
        "strRadius = input(planet + ' 반지름은? ')\n",
        "radius = int(strRadius)\n",
        "length = 2 * 3.14 * radius\n",
        "print(planet, '반지름:', radius)\n",
        "print(planet, '둘레 길이:', length)\n"
      ],
      "metadata": {
        "colab": {
          "base_uri": "https://localhost:8080/"
        },
        "id": "seSLaFNZFbOY",
        "outputId": "1eec5a0e-a3c1-45a4-d826-40652ed14d05"
      },
      "execution_count": null,
      "outputs": [
        {
          "output_type": "stream",
          "name": "stdout",
          "text": [
            "원하는 행성은? 지구\n",
            "지구 반지름은? 6400\n",
            "지구 반지름: 6400\n",
            "지구 둘레 길이: 40192.0\n"
          ]
        }
      ]
    },
    {
      "cell_type": "code",
      "source": [
        "invar = input('16진수 정수 입력 >> ')\n",
        "data = int(invar, 16) #입력 문자열을 16진수로 인지하여 변환\n",
        "#여러 진수로 출력\n",
        "print('2진수:', bin(data))\n",
        "print('8진수:', oct(data))\n",
        "print('10진수:', data)\n",
        "print('16진수:', hex(data))\n"
      ],
      "metadata": {
        "colab": {
          "base_uri": "https://localhost:8080/"
        },
        "id": "fHMyuf8zFlc1",
        "outputId": "4d515574-dc2f-45a8-b5ad-47e4e0d7d118"
      },
      "execution_count": null,
      "outputs": [
        {
          "output_type": "stream",
          "name": "stdout",
          "text": [
            "16진수 정수 입력 >> 0x1c\n",
            "2진수: 0b11100\n",
            "8진수: 0o34\n",
            "10진수: 28\n",
            "16진수: 0x1c\n"
          ]
        }
      ]
    },
    {
      "cell_type": "code",
      "source": [
        "num1 = float(input('첫 번째 수 입력 >> '))\n",
        "num2 = float(input('두 번째 수 입력 >> '))\n",
        "print('합:', num1 + num2)\n",
        "print('차:', num1 - num2)\n",
        "print('곱하기:', num1 * num2)\n",
        "print('나누기:', num1 / num2)\n",
        "\n",
        "expression = input('연산식 입력(예 3.2 + 4 * 1.5) >> ')\n",
        "print('연산식:', expression, '결과:', eval(expression))\n"
      ],
      "metadata": {
        "colab": {
          "base_uri": "https://localhost:8080/"
        },
        "id": "h0yuYyfQF-lL",
        "outputId": "59ee0d32-8860-404a-f845-7cba252a6703"
      },
      "execution_count": null,
      "outputs": [
        {
          "output_type": "stream",
          "name": "stdout",
          "text": [
            "첫 번째 수 입력 >> 10.0\n",
            "두 번째 수 입력 >> 2.5\n",
            "합: 12.5\n",
            "차: 7.5\n",
            "곱하기: 25.0\n",
            "나누기: 4.0\n",
            "연산식 입력(예 3.2 + 4 * 1.5) >> 30//4\n",
            "연산식: 30//4 결과: 7\n"
          ]
        }
      ]
    },
    {
      "cell_type": "code",
      "source": [
        "#진수와 그에 맞는 정수를 입력 받아 2진수, 8진수, 10진수, 16진수 출력\n",
        "base = int(input('입력할 정수의 진수(base)는? '))\n",
        "invar = input(str(base) + '진수 정수 입력 >> ')\n",
        "data = int(invar, base) #입력 문자열을 base 진수로 변환\n",
        "#여러 진수로 출력\n",
        "print('2진수:', bin(data))\n",
        "print('8진수:', oct(data))\n",
        "print('10진수:', data)\n",
        "print('16진수:', hex(data))\n"
      ],
      "metadata": {
        "colab": {
          "base_uri": "https://localhost:8080/"
        },
        "id": "lyk65xv4GwKD",
        "outputId": "0e4c4757-3e96-4316-c57e-f456631921cc"
      },
      "execution_count": null,
      "outputs": [
        {
          "output_type": "stream",
          "name": "stdout",
          "text": [
            "입력할 정수의 진수(base)는? 16\n",
            "16진수 정수 입력 >> 1f\n",
            "2진수: 0b11111\n",
            "8진수: 0o37\n",
            "10진수: 31\n",
            "16진수: 0x1f\n"
          ]
        }
      ]
    },
    {
      "cell_type": "code",
      "source": [
        "str = 'Monty Python'\n",
        "print(len(str))\n",
        "print(str[0:5], str[6:], str[6:12])\n",
        "print(str[-12:-7], str[-6:], str[-6:0])\n"
      ],
      "metadata": {
        "colab": {
          "base_uri": "https://localhost:8080/"
        },
        "id": "GE5K8pDcHhZz",
        "outputId": "d86ded5e-4ad1-4251-9b58-3605c1731240"
      },
      "execution_count": null,
      "outputs": [
        {
          "output_type": "stream",
          "name": "stdout",
          "text": [
            "12\n",
            "Monty Python Python\n",
            "Monty Python \n"
          ]
        }
      ]
    },
    {
      "cell_type": "code",
      "source": [
        "value = input('실수(3자리.2자리로 345.78처럼)를 하나 입력하세요. >> ')\n",
        "#value = '345.34'\n",
        "num = value.replace('.', '')\n",
        "\n",
        "sum = 0\n",
        "sum += int(num[0])\n",
        "sum += int(num[1])\n",
        "sum += int(num[2])\n",
        "sum += int(num[3])\n",
        "sum += int(num[4])\n",
        "print('입력 값:', value)\n",
        "print('모든 자릿수 합:', sum)\n"
      ],
      "metadata": {
        "colab": {
          "base_uri": "https://localhost:8080/"
        },
        "id": "rMvHF8LMIJ26",
        "outputId": "86c1649c-d4e0-4fa8-c052-2fba0a7762e5"
      },
      "execution_count": null,
      "outputs": [
        {
          "output_type": "stream",
          "name": "stdout",
          "text": [
            "실수(3자리.2자리로 345.78처럼)를 하나 입력하세요. >> 345.67\n",
            "입력 값: 345.67\n",
            "모든 자릿수 합: 25\n"
          ]
        }
      ]
    },
    {
      "cell_type": "code",
      "source": [
        "m, n, x, y = input('4개의 수 입력 >> ').split()\n",
        "a, b, c, d = float(m), float(n), float(x), float(y)\n",
        "print('입력 값: ', a, b, c, d)\n",
        "sum = a + b + c + d\n",
        "print('합: ', sum, '평균: ', sum / 4)\n",
        "print('최대: ', max(a, b, c, d), '최소: ', min(a, b, c, d))"
      ],
      "metadata": {
        "colab": {
          "base_uri": "https://localhost:8080/"
        },
        "id": "XIf-mBprIVyC",
        "outputId": "3fd2678f-8f53-4c15-f7a5-c342a1f125d6"
      },
      "execution_count": null,
      "outputs": [
        {
          "output_type": "stream",
          "name": "stdout",
          "text": [
            "4개의 수 입력 >> 3.7 5.8 9 2.5\n",
            "입력 값:  3.7 5.8 9.0 2.5\n",
            "합:  21.0 평균:  5.25\n",
            "최대:  9.0 최소:  2.5\n"
          ]
        }
      ]
    },
    {
      "cell_type": "code",
      "source": [
        "a=input(\"문자열 1:\")\n",
        "b=input(\"문자열 2:\")\n",
        "print(a,b)"
      ],
      "metadata": {
        "colab": {
          "base_uri": "https://localhost:8080/"
        },
        "id": "r40UQGLOIp2b",
        "outputId": "259f7ad8-381f-44b1-967c-d0d155d0802f"
      },
      "execution_count": null,
      "outputs": [
        {
          "output_type": "stream",
          "name": "stdout",
          "text": [
            "문자열 1:python\n",
            "문자열 2:언어\n",
            "python 언어\n"
          ]
        }
      ]
    },
    {
      "cell_type": "code",
      "source": [
        "a=input('차의 속도를 입력(km)')\n",
        "km_1=1/1.61\n",
        "print(a+'(km)은', str(135*km_1),'마일(miles)이다.')\n"
      ],
      "metadata": {
        "colab": {
          "base_uri": "https://localhost:8080/"
        },
        "id": "oqVP6wlYJP24",
        "outputId": "cd03363b-e002-4eb2-e79c-822d77fca3e9"
      },
      "execution_count": null,
      "outputs": [
        {
          "output_type": "stream",
          "name": "stdout",
          "text": [
            "차의 속도를 입력(km)135\n",
            "135(km)은 83.85093167701862 마일(miles)이다.\n"
          ]
        }
      ]
    },
    {
      "cell_type": "code",
      "source": [
        "am=3500\n",
        "a=input('아메리카노 몇 개 주문하세요?')\n",
        "print('총 가격은 '+str(am*int(a)),'이다')"
      ],
      "metadata": {
        "colab": {
          "base_uri": "https://localhost:8080/"
        },
        "id": "HNcqB3MBMo6q",
        "outputId": "6046c5f5-ec5d-44de-c48e-046307258663"
      },
      "execution_count": null,
      "outputs": [
        {
          "output_type": "stream",
          "name": "stdout",
          "text": [
            "아메리카노 몇 개 주문하세요?7\n",
            "총 가격은 24500 이다\n"
          ]
        }
      ]
    },
    {
      "cell_type": "code",
      "source": [
        "a=input('알려진 지구 둘레: ')\n",
        "b=input('지구와 같은 원둘레: ')\n",
        "print('차이: '+str(int(a)-float(b))+'(km)')"
      ],
      "metadata": {
        "colab": {
          "base_uri": "https://localhost:8080/"
        },
        "id": "BcS1yQAbN47W",
        "outputId": "e582cb48-38db-4fef-be46-6d94b6f87abe"
      },
      "execution_count": null,
      "outputs": [
        {
          "output_type": "stream",
          "name": "stdout",
          "text": [
            "알려진 지구 둘레: 40120\n",
            "지구와 같은 원둘레: 40074.77587040001\n",
            "차이: 45.22412959999201(km)\n"
          ]
        }
      ]
    },
    {
      "cell_type": "code",
      "source": [
        "C=input('온도 입력 ')\n",
        "F=int(C)*9/5+32\n",
        "print('정확 계산: 섭씨: '+C+' , 화씨: '+str(F))\n",
        "f=int(C)*2+30\n",
        "print('약식 계산: 섭씨: '+C+' , 화씨: '+str(f))\n",
        "d=F-f\n",
        "print('차이: '+str(d))"
      ],
      "metadata": {
        "colab": {
          "base_uri": "https://localhost:8080/"
        },
        "id": "vRWjJDfvONdf",
        "outputId": "e54bcdbb-8a0c-4d43-cfde-e30466a73558"
      },
      "execution_count": null,
      "outputs": [
        {
          "output_type": "stream",
          "name": "stdout",
          "text": [
            "온도 입력 38\n",
            "정확 계산: 섭씨: 38 , 화씨: 100.4\n",
            "약식 계산: 섭씨: 38 , 화씨: 106\n",
            "차이: -5.599999999999994\n"
          ]
        }
      ]
    },
    {
      "cell_type": "code",
      "source": [
        "a=input('Enter First number:')\n",
        "b=input('Enter Second number:')\n",
        "print(int(a)/int(b))\n",
        "print(int(a)%int(b))\n",
        "print(int(a)//int(b))\n",
        "print(int(a)**int(b))"
      ],
      "metadata": {
        "colab": {
          "base_uri": "https://localhost:8080/"
        },
        "id": "Ld0gMG9lOU8B",
        "outputId": "b984a237-683d-438d-8026-7697661c02f8"
      },
      "execution_count": null,
      "outputs": [
        {
          "output_type": "stream",
          "name": "stdout",
          "text": [
            "Enter First number:12\n",
            "Enter Second number:5\n",
            "2.4\n",
            "2\n",
            "2\n",
            "248832\n"
          ]
        }
      ]
    },
    {
      "cell_type": "code",
      "source": [],
      "metadata": {
        "id": "aChO-Xj3O83A"
      },
      "execution_count": null,
      "outputs": []
    },
    {
      "cell_type": "code",
      "source": [
        "a=input('네 자리 정수 입력 ')\n",
        "print(a[3]+a[2]+a[1]+a[0])"
      ],
      "metadata": {
        "colab": {
          "base_uri": "https://localhost:8080/"
        },
        "id": "vtQB3bI8PJvI",
        "outputId": "eaaca508-e9fc-486d-ce72-8b4758996f78"
      },
      "execution_count": null,
      "outputs": [
        {
          "output_type": "stream",
          "name": "stdout",
          "text": [
            "네 자리 정수 입력 5432\n",
            "2345\n"
          ]
        }
      ]
    }
  ]
}