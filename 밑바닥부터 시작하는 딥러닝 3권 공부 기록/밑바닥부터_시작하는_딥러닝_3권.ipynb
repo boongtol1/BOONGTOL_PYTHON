{
  "nbformat": 4,
  "nbformat_minor": 0,
  "metadata": {
    "colab": {
      "provenance": []
    },
    "kernelspec": {
      "name": "python3",
      "display_name": "Python 3"
    },
    "language_info": {
      "name": "python"
    }
  },
  "cells": [
    {
      "cell_type": "code",
      "source": [
        "import numpy as np\n",
        "\n",
        "\n",
        "class Variable:\n",
        "    def __init__(self, data):\n",
        "        self.data = data\n",
        "\n",
        "\n",
        "data = np.array(1.0)\n",
        "x = Variable(data)\n",
        "print(x.data)\n",
        "\n",
        "x.data = np.array(2.0)\n",
        "print(x.data)"
      ],
      "metadata": {
        "id": "mKF4fxEEbGIC"
      },
      "execution_count": null,
      "outputs": []
    },
    {
      "cell_type": "code",
      "execution_count": null,
      "metadata": {
        "id": "udNxUNSoK2rZ",
        "colab": {
          "base_uri": "https://localhost:8080/"
        },
        "outputId": "c1b707d5-3e86-4a92-edd4-ab2df289a8c1"
      },
      "outputs": [
        {
          "output_type": "stream",
          "name": "stdout",
          "text": [
            "<class '__main__.Variable'>\n",
            "100\n"
          ]
        }
      ],
      "source": [
        "import numpy as np\n",
        "\n",
        "\n",
        "class Variable:\n",
        "    def __init__(self, data):\n",
        "        self.data = data\n",
        "\n",
        "\n",
        "class Function:\n",
        "    def __call__(self, input):      # 일반적으로 어떤 클래스에 값을 입력하면 그 값은 이 클래스의 __init__ 메서드의 두번째 매개변수부터 차례대로 저장된다.\n",
        "                                    # 이때 만약 __init__ 메서드가 정의되어 있지 않거나, 두번째 이상 매개변수가 없다면, 이 클래스에 아무런 값도 넣을수 없다!(아무것도 없다만 입력가능하다!)\n",
        "        x = input\n",
        "        y = self\n",
        "        output = Variable(y)\n",
        "        return output\n",
        "\n",
        "    def forward(self, in_data):\n",
        "        raise NotImplementedError()\n",
        "\n",
        "\n",
        "class Square:\n",
        "    def forward(self, x):\n",
        "        return x ** 2\n",
        "    def __call__(self, input):      # 일반적으로 어떤 클래스에 값을 입력하면 그 값은 이 클래스의 __init__ 메서드의 두번째 매개변수부터 차례대로 저장된다.\n",
        "                                    # 이때 만약 __init__ 메서드가 정의되어 있지 않거나, 두번째 이상 매개변수가 없다면, 이 클래스에 아무런 값도 넣을수 없다!(아무것도 없다만 입력가능하다!)\n",
        "        x = input.data\n",
        "        y = self.forward(x)\n",
        "        output = Variable(y)\n",
        "        return output\n",
        "\n",
        "x = Variable(np.array(10))\n",
        "f = Square()\n",
        "y = f(x)\n",
        "print(type(y))\n",
        "print(y.data)"
      ]
    },
    {
      "cell_type": "code",
      "source": [
        "import numpy as np\n",
        "\n",
        "\n",
        "class Variable:\n",
        "    def __init__(self, data):\n",
        "        self.data = data\n",
        "\n",
        "\n",
        "class Function:\n",
        "    def __call__(self, input):  # input 에는 Variable의 객체(x)가 저장된다!\n",
        "        t = input.data\n",
        "        s = self.forward(t)     # 객체 f 가 파생된 클래스의 foward 메서드에 t 를 입력해라! (일반적으로 객체 f 의 메서드는 객체 f 가 파생된 클래스의 foward 메서드이다!)\n",
        "        output = Variable(s)\n",
        "        return output\n",
        "\n",
        "    def forward(self, in_data):\n",
        "        raise NotImplementedError()\n",
        "\n",
        "\n",
        "class Square(Function):\n",
        "    def forward(self, x):\n",
        "        return x ** 2\n",
        "\n",
        "\n",
        "x = Variable(np.array(10))\n",
        "f = Square()\n",
        "y = f(x)\n",
        "print(type(y))\n",
        "print(y.data)\n",
        "print(x.data)\n",
        "np.array(9)"
      ],
      "metadata": {
        "colab": {
          "base_uri": "https://localhost:8080/"
        },
        "id": "zAh7gcYVkFhs",
        "outputId": "91f4d395-c7e8-479d-f4cb-35d36c0a67ec"
      },
      "execution_count": null,
      "outputs": [
        {
          "output_type": "stream",
          "name": "stdout",
          "text": [
            "<class '__main__.Variable'>\n",
            "100\n",
            "10\n"
          ]
        },
        {
          "output_type": "execute_result",
          "data": {
            "text/plain": [
              "array(9)"
            ]
          },
          "metadata": {},
          "execution_count": 11
        }
      ]
    },
    {
      "cell_type": "code",
      "source": [
        "import numpy as np\n",
        "\n",
        "\n",
        "class Variable:\n",
        "    def __init__(self, data):\n",
        "        self.data = data\n",
        "\n",
        "\n",
        "class Function:\n",
        "    def __call__(self, input):\n",
        "        x = input.data\n",
        "        y = self.forward(x)\n",
        "        output = Variable(y)\n",
        "        return output\n",
        "\n",
        "    def forward(self, x):\n",
        "        raise NotImplementedError()\n",
        "\n",
        "\n",
        "class Square(Function):\n",
        "    def forward(self, x):\n",
        "        return x ** 2\n",
        "\n",
        "\n",
        "class Exp(Function):\n",
        "    def forward(self, x):\n",
        "        return np.exp(x)\n",
        "\n",
        "\n",
        "A = Square()\n",
        "B = Exp()\n",
        "C = Square()\n",
        "\n",
        "x = Variable(np.array(0.5))\n",
        "a = A(x)        # x라는 객체는 Square 클래스의 __call__ 메서드 의 input 매개변수에 저장된다!\n",
        "b = B(a)\n",
        "y = C(b)\n",
        "print(y.data)"
      ],
      "metadata": {
        "colab": {
          "base_uri": "https://localhost:8080/"
        },
        "id": "Y2IUCewf9zQI",
        "outputId": "c87662f8-e959-4ebc-cce6-c99782d764f6"
      },
      "execution_count": null,
      "outputs": [
        {
          "output_type": "stream",
          "name": "stdout",
          "text": [
            "1.648721270700128\n"
          ]
        }
      ]
    },
    {
      "cell_type": "code",
      "source": [
        "import numpy as np\n",
        "\n",
        "\n",
        "class Variable:\n",
        "    def __init__(self, data):\n",
        "        self.data = data\n",
        "\n",
        "\n",
        "class Function:\n",
        "    def __call__(self, input):\n",
        "        x = input.data\n",
        "        y = self.forward(x)\n",
        "        output = Variable(y)\n",
        "        self.input = input\n",
        "        self.output = output\n",
        "        return output\n",
        "\n",
        "    def forward(self, x):\n",
        "        raise NotImplementedError()\n",
        "\n",
        "\n",
        "class Square(Function):\n",
        "    def forward(self, x):\n",
        "        return x ** 2\n",
        "\n",
        "\n",
        "class Exp(Function):\n",
        "    def forward(self, x):\n",
        "        return np.exp(x)\n",
        "\n",
        "\n",
        "def numerical_diff(f, x, eps=1e-4):\n",
        "    x0 = Variable(x.data - eps)\n",
        "    x1 = Variable(x.data + eps)\n",
        "    y0 = f(x0)\n",
        "    y1 = f(x1)\n",
        "    return (y1.data - y0.data) / (2 * eps)\n",
        "\n",
        "\n",
        "f = Square()\n",
        "x = Variable(np.array(2.0))\n",
        "dy = numerical_diff(f, x)\n",
        "print(dy)\n",
        "\n",
        "\n",
        "def f(x):\n",
        "    A = Square()\n",
        "    B = Exp()\n",
        "    C = Square()\n",
        "    return C(B(A(x)))\n",
        "\n",
        "\n",
        "x = Variable(np.array(0.5))\n",
        "dy = numerical_diff(f, x)\n",
        "print(dy)"
      ],
      "metadata": {
        "id": "ubPOsFrJwFqO"
      },
      "execution_count": null,
      "outputs": []
    }
  ]
}