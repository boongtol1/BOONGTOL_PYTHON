version https://git-lfs.github.com/spec/v1
oid sha256:09c68d52e032cfecee379dcff8c4ee40ea69d9853a92fbaf259ef92177b5d1e1
size 22602
