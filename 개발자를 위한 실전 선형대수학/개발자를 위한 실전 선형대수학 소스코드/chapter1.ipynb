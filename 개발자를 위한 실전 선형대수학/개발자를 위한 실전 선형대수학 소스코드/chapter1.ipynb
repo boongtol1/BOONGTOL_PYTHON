{
 "cells": [
  {
   "cell_type": "code",
   "execution_count": 1,
   "metadata": {},
   "outputs": [
    {
     "name": "stdout",
     "output_type": "stream",
     "text": [
      "[[14 15 16]\n",
      " [24 25 26]\n",
      " [34 35 36]]\n",
      "(1, 3)\n",
      "(3, 1)\n"
     ]
    }
   ],
   "source": [
    "import numpy as np\n",
    "v=np.array([[4,5,6]])\n",
    "w=np.array([[10,20,30]]).T\n",
    "print(v+w)\n",
    "print(v.shape)\n",
    "print(w.shape)"
   ]
  },
  {
   "cell_type": "code",
   "execution_count": 6,
   "metadata": {},
   "outputs": [
    {
     "name": "stdout",
     "output_type": "stream",
     "text": [
      "(3,)\n",
      "(2, 2, 3)\n",
      "[[[ 2  4  6]\n",
      "  [ 5  7  9]]\n",
      "\n",
      " [[ 8 10 12]\n",
      "  [11 13 15]]]\n"
     ]
    }
   ],
   "source": [
    "# 1차원 배열\n",
    "vector = np.array([1, 2, 3])\n",
    "\n",
    "# 3차원 배열\n",
    "tensor = np.array([[[1, 2, 3]   , [4, 5, 6]],\n",
    "                   [[7, 8, 9], [10, 11, 12]]])\n",
    "\n",
    "print(vector.shape)\n",
    "print(tensor.shape)\n",
    "print(vector+tensor)\n"
   ]
  },
  {
   "cell_type": "code",
   "execution_count": 4,
   "metadata": {},
   "outputs": [
    {
     "name": "stdout",
     "output_type": "stream",
     "text": [
      "6\n",
      "14.422205101855956\n"
     ]
    }
   ],
   "source": [
    "v=np.array([1,2,3,7,8,9])\n",
    "v_dim=len(v)\n",
    "v_mag=np.linalg.norm(v)\n",
    "print(v_dim)\n",
    "print(v_mag)"
   ]
  },
  {
   "cell_type": "code",
   "execution_count": 16,
   "metadata": {},
   "outputs": [
    {
     "name": "stdout",
     "output_type": "stream",
     "text": [
      "[ 5 12 21 32]\n"
     ]
    }
   ],
   "source": [
    "s=1\n",
    "a=np.array([1,2,3,4])\n",
    "b=np.array([5,6,7,8])\n",
    "\n",
    "print(a*b)"
   ]
  },
  {
   "cell_type": "code",
   "execution_count": null,
   "metadata": {},
   "outputs": [],
   "source": [
    "# 연습문제 1-1\n"
   ]
  }
 ],
 "metadata": {
  "kernelspec": {
   "display_name": "Python 3",
   "language": "python",
   "name": "python3"
  },
  "language_info": {
   "codemirror_mode": {
    "name": "ipython",
    "version": 3
   },
   "file_extension": ".py",
   "mimetype": "text/x-python",
   "name": "python",
   "nbconvert_exporter": "python",
   "pygments_lexer": "ipython3",
   "version": "3.12.3"
  }
 },
 "nbformat": 4,
 "nbformat_minor": 2
}
