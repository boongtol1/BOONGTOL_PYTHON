{
 "cells": [
  {
   "cell_type": "code",
   "execution_count": 4,
   "metadata": {},
   "outputs": [
    {
     "data": {
      "text/plain": [
       "(datetime.datetime(2018, 8, 1, 0, 0), 39.6)"
      ]
     },
     "execution_count": 4,
     "metadata": {},
     "output_type": "execute_result"
    }
   ],
   "source": [
    "# Since the user wants a solution using standard Python, let's demonstrate how to load and process the CSV without pandas.\n",
    "\n",
    "import csv\n",
    "from datetime import datetime\n",
    "\n",
    "# Define the file path\n",
    "file_path = '서울 날씨 변화 과제.csv'\n",
    "\n",
    "# Initialize variables to store the maximum temperature and the corresponding date\n",
    "max_temp = float('-inf')\n",
    "max_temp_date = None\n",
    "\n",
    "# Open and read the CSV file using Python's standard csv module\n",
    "with open(file_path, mode='r', encoding='utf-8') as file:\n",
    "    reader = csv.reader(file)\n",
    "    header = next(reader)  # Skip the header\n",
    "    \n",
    "    for row in reader:\n",
    "        try:\n",
    "            date = datetime.strptime(row[0], '%Y-%m-%d')\n",
    "            temp = float(row[3])  # Assuming the maximum temperature is in the fourth column\n",
    "            \n",
    "            if temp > max_temp:\n",
    "                max_temp = temp\n",
    "                max_temp_date = date\n",
    "        except ValueError:\n",
    "            # Handle any potential errors with invalid data types\n",
    "            continue\n",
    "\n",
    "(max_temp_date, max_temp)\n"
   ]
  }
 ],
 "metadata": {
  "kernelspec": {
   "display_name": "base",
   "language": "python",
   "name": "python3"
  },
  "language_info": {
   "codemirror_mode": {
    "name": "ipython",
    "version": 3
   },
   "file_extension": ".py",
   "mimetype": "text/x-python",
   "name": "python",
   "nbconvert_exporter": "python",
   "pygments_lexer": "ipython3",
   "version": "3.12.4"
  }
 },
 "nbformat": 4,
 "nbformat_minor": 2
}
