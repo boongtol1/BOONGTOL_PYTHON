{
 "cells": [
  {
   "cell_type": "code",
   "execution_count": 12,
   "metadata": {},
   "outputs": [
    {
     "name": "stdout",
     "output_type": "stream",
     "text": [
      "1.0\n",
      "None\n",
      "8\n",
      "2.0\n"
     ]
    }
   ],
   "source": [
    "# 1\n",
    "import numpy as np\n",
    "\n",
    "\n",
    "class Variable:\n",
    "    def __init__(self, data):\n",
    "        self.data = data\n",
    "\n",
    "\n",
    "data = np.array(1.0)    # 클래스 정의 내에서는 self를 , 클래스 정의 외에서는 객체이름 을 사용한다!!\n",
    "x = Variable(data)  # 하는 순간 Variable의 x 의 정의적인 존재들 생성됨!!(ex--> x 의 __init__ , x 의 self.data...등)\n",
    "print(x.data)   # 초기화변수 내의 속성은 클래스 외부에서도 접근 가능하다!(객체이름.속성 이런식으로!)\n",
    "print(x.__init__(8))\n",
    "print(x.data)\n",
    "x.data = np.array(2.0)\n",
    "print(x.data)"
   ]
  },
  {
   "cell_type": "code",
   "execution_count": 13,
   "metadata": {},
   "outputs": [
    {
     "name": "stdout",
     "output_type": "stream",
     "text": [
      "<class '__main__.Variable'>\n",
      "100\n",
      "36\n"
     ]
    }
   ],
   "source": [
    "# 2\n",
    "import numpy as np\n",
    "\n",
    "\n",
    "class Variable:\n",
    "    def __init__(self, data):\n",
    "        self.data = data\n",
    "\n",
    "\n",
    "class Function:\n",
    "    def __call__(self, input):\n",
    "        x = input.data\n",
    "        y = self.forward(x) # f 의 forward 메서드 사용하고 싶다! --> but in class \n",
    "        output = Variable(y) \n",
    "        return output\n",
    "\n",
    "    def forward(self, in_data):\n",
    "        raise NotImplementedError()\n",
    "\n",
    "\n",
    "class Square(Function): # Square(Function)의 해석 방법?--> Square 만 놓고 forward 와 __call__ 을 가지는 클래스로 생각하기!!\n",
    "    def forward(self, x):\n",
    "        return x ** 2\n",
    "\n",
    "\n",
    "x = Variable(np.array(10))\n",
    "f = Square()    # 하는 순간, f의 정의적인 존재들 생성됨! (f 의 forward 메서드, f 의 __call__ 메서드 등)\n",
    "y = f(x)\n",
    "print(type(y))\n",
    "print(y.data)\n",
    "print(f.forward(6))"
   ]
  }
 ],
 "metadata": {
  "kernelspec": {
   "display_name": "Python 3",
   "language": "python",
   "name": "python3"
  },
  "language_info": {
   "codemirror_mode": {
    "name": "ipython",
    "version": 3
   },
   "file_extension": ".py",
   "mimetype": "text/x-python",
   "name": "python",
   "nbconvert_exporter": "python",
   "pygments_lexer": "ipython3",
   "version": "3.12.3"
  }
 },
 "nbformat": 4,
 "nbformat_minor": 2
}
