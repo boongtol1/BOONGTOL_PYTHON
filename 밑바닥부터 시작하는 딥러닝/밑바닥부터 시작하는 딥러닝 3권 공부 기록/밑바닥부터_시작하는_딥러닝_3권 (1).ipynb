{
  "cells": [
    {
      "cell_type": "code",
      "execution_count": 1,
      "metadata": {
        "id": "mKF4fxEEbGIC"
      },
      "outputs": [
        {
          "name": "stdout",
          "output_type": "stream",
          "text": [
            "1.0\n",
            "2.0\n"
          ]
        }
      ],
      "source": [
        "import numpy as np\n",
        "\n",
        "\n",
        "class Variable:\n",
        "    def __init__(self, data):\n",
        "        self.tt = data\n",
        "        self.ts=2      # '초기화 변수'는 그 내부를 해석해야 하는 정의적인 변수다! // tt 는 현재 객체의 속성이라고 부른다!\n",
        "        # what is 속성?--> 초기화를 진행할때 여러 초기화 변수들을 구분해주는(이 코드에서는 tt로 1개!)초기화 변수 내의 요소!(클래스 밖에서도 접근 가능!)\n",
        "# 클래스 내에서는 self, 클래스 외에서는 객체이름으로 속성에 접근가능하다!\n",
        "# 초기화 변수란 생성자(init)메서드 내에서 현재 객체(self)와 속성을 점으로 이어논것을 의미한다!\n",
        "data = np.array(1.0)\n",
        "x = Variable(data)\n",
        "print(x.tt)\n",
        "\n",
        "x.tt = np.array(2.0)  # 재정의 가능!\n",
        "print(x.tt)     # Variable 클래스의 인스턴스인 x는 tt라는 속성(성질)을 가지며, 이 속성은 초기화변수에 의한 초기화 후에도 다른 값으로 변경될 수 있습니다."
      ]
    },
    {
      "cell_type": "code",
      "execution_count": 9,
      "metadata": {
        "colab": {
          "base_uri": "https://localhost:8080/"
        },
        "id": "udNxUNSoK2rZ",
        "outputId": "c1b707d5-3e86-4a92-edd4-ab2df289a8c1"
      },
      "outputs": [
        {
          "name": "stdout",
          "output_type": "stream",
          "text": [
            "<class '__main__.Variable'>\n",
            "100\n"
          ]
        }
      ],
      "source": [
        "import numpy as np\n",
        "\n",
        "\n",
        "class Variable:\n",
        "    def __init__(self, data):\n",
        "        self.data = data\n",
        "\n",
        "\n",
        "class Function:\n",
        "    def __call__(self, input):      # 일반적으로 어떤 클래스에 값을 입력하면 그 값은 이 클래스의 __init__ 메서드의 두번째 매개변수부터 차례대로 저장된다.\n",
        "                                    # 이때 만약 __init__ 메서드가 정의되어 있지 않거나, 두번째 이상 매개변수가 없다면, 이 클래스에 아무런 값도 넣을수 없다!(아무것도 없다만 입력가능하다!)\n",
        "        x = input\n",
        "        y = self\n",
        "        output = Variable(y)\n",
        "        return output\n",
        "\n",
        "    def forward(self, in_data):\n",
        "        raise NotImplementedError()     # 클래스 상속으로 속성을 상속받다?--> 1.부모 클래스와 자식 클래스에 모두 init 가 있을때 --> 새로운 생성자에서 동일한(이름 안바꾸고) 속성을 재정의(super 사용하는것도 재정의에 속함!)해서 사용가능하다!\n",
        "                                        # 2. 부모 클래스에는 init 가 있지만 자식 클래스에는 없을때 --> 부모 클래스의 init를 모두 그대로 받아오므로 속성을 처음으로 정의한 것으로 보기 가능!!(자식 클래스에서)\n",
        "\n",
        "class Square:\n",
        "    def __call__(self, input):      \n",
        "                                        \n",
        "        x = input.data\n",
        "        y = self.forward(x)\n",
        "        output = Variable(y)\n",
        "        return output\n",
        "    def forward(self, x):\n",
        "        return x ** 2\n",
        "    \n",
        "\n",
        "x = Variable(np.array(10))\n",
        "f = Square()\n",
        "y = f(x)\n",
        "print(type(y))\n",
        "print(y.data)"
      ]
    },
    {
      "cell_type": "code",
      "execution_count": 1,
      "metadata": {
        "colab": {
          "base_uri": "https://localhost:8080/"
        },
        "id": "zAh7gcYVkFhs",
        "outputId": "91f4d395-c7e8-479d-f4cb-35d36c0a67ec"
      },
      "outputs": [
        {
          "name": "stdout",
          "output_type": "stream",
          "text": [
            "<class '__main__.Variable'>\n",
            "100\n",
            "10\n"
          ]
        }
      ],
      "source": [
        "import numpy as np\n",
        "\n",
        "\n",
        "class Variable:\n",
        "    def __init__(self, data):\n",
        "        self.data = data\n",
        "\n",
        "\n",
        "class Function:     # Python에서 클래스와 그 메서드를 정의할 때, Python 인터프리터는 클래스를 한 번에 처리합니다. 즉 어떤 클래스 내의 메서드들은 클래스를 인식하는 동시에 인식된다!(클래스를 인식함과 동시에!)\n",
        "    def __call__(self, input):  \n",
        "        t = input.data\n",
        "        s = self.forward(t)     # 객체 f 가 파생된 클래스의 foward 메서드에 t 를 입력해라! (일반적으로 객체 f 의 forward 메서드는 객체 f 가 파생된 클래스의 foward 메서드이다!)\n",
        "        output = Variable(s)    # output에 객체를 저장하는 이유?--> 나중에 객체의 속성값에 접근하기 위해!!\n",
        "        return output\n",
        "\n",
        "    def forward(self, in_data):     # 자식 클래스(Sqaure)에서 foward 메서드를 오버라이드하지 않으면 에러 발생시킴!\n",
        "        raise NotImplementedError()\n",
        "\n",
        "\n",
        "class Square(Function):     # 클래스 내의 메서드에 __call__ 메서드가 있으면 이는, 이 클래스의 객체는 __call__ 메서드의 2번째 매개변수부터를 매개변수로 갖는 함수가 된다!\n",
        "    def forward(self, x):\n",
        "        return x ** 2\n",
        "    \n",
        "\n",
        "x = Variable(np.array(10))      # 이 문맥에서 __main__은 현재 실행 중인 모듈의 이름을 의미합니다.\n",
        "f = Square()    # 파이썬에서 각 모듈은 __name__이라는 내장 변수를 가지며, 이 변수는 모듈의 이름을 문자열로 저장합니다. \n",
        "                # 만약 모듈이 직접 실행되면 __name__ 변수는 __main__으로 설정됩니다. 하지만 모듈1이 다른 모듈2에 의해 임포트되면, 모듈1의 __name__ 변수는 모듈1의 실제 이름을 가집니다.\n",
        "\n",
        "\n",
        "y = f(x)\n",
        "print(type(y))\n",
        "print(y.data)\n",
        "print(x.data)"
      ]
    },
    {
      "cell_type": "code",
      "execution_count": null,
      "metadata": {
        "colab": {
          "base_uri": "https://localhost:8080/"
        },
        "id": "Y2IUCewf9zQI",
        "outputId": "c87662f8-e959-4ebc-cce6-c99782d764f6"
      },
      "outputs": [
        {
          "name": "stdout",
          "output_type": "stream",
          "text": [
            "1.648721270700128\n"
          ]
        }
      ],
      "source": [
        "import numpy as np\n",
        "\n",
        "\n",
        "class Variable:\n",
        "    def __init__(self, data):\n",
        "        self.data = data\n",
        "\n",
        "\n",
        "class Function:\n",
        "    def __call__(self, input):\n",
        "        x = input.data\n",
        "        y = self.forward(x)\n",
        "        output = Variable(y)\n",
        "        return output\n",
        "\n",
        "    def forward(self, x):\n",
        "        raise NotImplementedError()\n",
        "\n",
        "\n",
        "class Square(Function):\n",
        "    def forward(self, x):\n",
        "        return x ** 2\n",
        "\n",
        "\n",
        "class Exp(Function):\n",
        "    def forward(self, x):\n",
        "        return np.exp(x)\n",
        "\n",
        "\n",
        "A = Square()\n",
        "B = Exp()\n",
        "C = Square()\n",
        "\n",
        "x = Variable(np.array(0.5))\n",
        "a = A(x)        # x라는 객체는 Square 클래스의 __call__ 메서드 의 input 매개변수에 저장된다!\n",
        "b = B(a)\n",
        "y = C(b)\n",
        "print(y.data)"
      ]
    },
    {
      "cell_type": "code",
      "execution_count": 2,
      "metadata": {
        "id": "ubPOsFrJwFqO"
      },
      "outputs": [
        {
          "name": "stdout",
          "output_type": "stream",
          "text": [
            "4.000000000004\n",
            "3.2974426293330694\n"
          ]
        }
      ],
      "source": [
        "import numpy as np\n",
        "\n",
        "\n",
        "class Variable:\n",
        "    def __init__(self, data):\n",
        "        self.data = data\n",
        "\n",
        "\n",
        "class Function:\n",
        "    def __call__(self, input):\n",
        "        x = input.data\n",
        "        y = self.forward(x)\n",
        "        output = Variable(y)\n",
        "        self.input = input\n",
        "        self.output = output\n",
        "        return output\n",
        "\n",
        "    def forward(self, x):\n",
        "        raise NotImplementedError()\n",
        "\n",
        "\n",
        "class Square(Function):\n",
        "    def forward(self, x):\n",
        "        return x ** 2\n",
        "\n",
        "\n",
        "class Exp(Function):\n",
        "    def forward(self, x):\n",
        "        return np.exp(x)\n",
        "\n",
        "\n",
        "def numerical_diff(f, x, eps=1e-4):\n",
        "    x0 = Variable(x.data - eps)\n",
        "    x1 = Variable(x.data + eps)\n",
        "    y0 = f(x0)\n",
        "    y1 = f(x1)\n",
        "    return (y1.data - y0.data) / (2 * eps)\n",
        "\n",
        "\n",
        "f = Square()\n",
        "x = Variable(np.array(2.0))\n",
        "dy = numerical_diff(f, x)\n",
        "print(dy)\n",
        "\n",
        "\n",
        "def f(x):\n",
        "    A = Square()\n",
        "    B = Exp()\n",
        "    C = Square()\n",
        "    return C(B(A(x)))\n",
        "\n",
        "\n",
        "x = Variable(np.array(0.5))\n",
        "dy = numerical_diff(f, x)   \n",
        "print(dy)"
      ]
    },
    {
      "cell_type": "code",
      "execution_count": 11,
      "metadata": {},
      "outputs": [
        {
          "name": "stdout",
          "output_type": "stream",
          "text": [
            "1.648721270700128\n",
            "3.297442541400256\n"
          ]
        }
      ],
      "source": [
        "import numpy as np\n",
        "\n",
        "\n",
        "class Variable:         \n",
        "    def __init__(self, data):\n",
        "        self.data = data\n",
        "        self.grad = None\n",
        "\n",
        "\n",
        "class Function:\n",
        "    def __call__(self, input):\n",
        "        x = input.data\n",
        "        y = self.forward(x)  # 일반적인 메서드들도 초기화를 할 수 있다!!(단, init 처럼 객체가 만들어질때 자동으로 호출되지는 않는다!)\n",
        "        output = Variable(y)    # 명시적으로 호출되어야 합니다!\n",
        "        self.input = input      \n",
        "        return output\n",
        "\n",
        "    def forward(self, x):\n",
        "        raise NotImplementedError()\n",
        "\n",
        "    def backward(self, gy):\n",
        "        raise NotImplementedError()\n",
        "\n",
        "\n",
        "class Square(Function):\n",
        "    def forward(self, x):\n",
        "        y = x ** 2\n",
        "        return y\n",
        "\n",
        "    def backward(self, gy):\n",
        "        x = self.input.data\n",
        "        gx = 2 * x * gy\n",
        "        return gx\n",
        "\n",
        "\n",
        "class Exp(Function):\n",
        "    def forward(self, x):\n",
        "        y = np.exp(x)\n",
        "        return y\n",
        "\n",
        "    def backward(self, gy):\n",
        "        x = self.input.data\n",
        "        gx = np.exp(x) * gy\n",
        "        return gx\n",
        "\n",
        "\n",
        "A = Square()        # 47행의 의미?--> 이미 인식해논 Sqaure 클래스의 인스턴스를 만들어서 변수 A에 저장해라!!!(not Sqaure 클래스를 인식해라!)\n",
        "                    # 객체생성시에는 클래스 안의 메서드들이 인식되지 않는다!!!\n",
        "B = Exp()\n",
        "C = Square()\n",
        "\n",
        "x = Variable(np.array(0.5))\n",
        "a = A(x)\n",
        "b = B(a)\n",
        "y = C(b)\n",
        "print(y.data)\n",
        "y.grad = np.array(1.0)\n",
        "b.grad = C.backward(y.grad)\n",
        "a.grad = B.backward(b.grad)\n",
        "x.grad = A.backward(a.grad)\n",
        "print(x.grad)\n",
        "# class 가 포함된 파이썬 코드는 두 부분으로 구분할수 있다. 첫번째는 바로 객체가 실제로 만들어지지 않은(미래의 객체가 있다고 가정한) 상태에서 생각하는 부분이고, 두번째는 바로 실제 객체가 만들어져 있는 부분이다!\n",
        "# 이때 실제로 코드를 짤때는 첫번째에서만 논리(이치)가 맞으면 된다!! 즉, 첫번째와 두번째를 동시에 생각하면서 첫번째 부분의 코드를 짤 필요는 없다!// 각 순간에 대해 현재에만 충실하면 된다적 느낌!!!\n",
        "# 클래스 정의가 올바르다면 자동적으로 객체 사용도 문제가 없을 것입니다.// 분리시키는 연습을 해라!!(첫번째와 두번째를)\n",
        "# 함수엔 함수의 정의와 호출이 있다면 클래스엔 클래스의 정의와 객체생성이 있다!!! 이때 인식은 첫 인식 즉 정의를 말한다!\n",
        "# Python에서 클래스와 그 메서드를 정의할 때, Python 인터프리터는 클래스를 한 번에 처리합니다. 즉 어떤 클래스 내의 메서드들은 클래스를 인식하는 동시에 인식된다!(클래스를 인식함과 동시에!)"
      ]
    },
    {
      "cell_type": "code",
      "execution_count": null,
      "metadata": {},
      "outputs": [],
      "source": [
        "import numpy as np\n",
        "\n",
        "\n",
        "class Variable:\n",
        "    def __init__(self, data):\n",
        "        self.data = data\n",
        "        self.grad = None\n",
        "        self.creator = None\n",
        "\n",
        "    def set_creator(self, func):\n",
        "        self.creator = func\n",
        "\n",
        "    def backward(self):\n",
        "        f = self.creator  # 1. Get a function\n",
        "        if f is not None:\n",
        "            x = f.input  # 2. Get the function's input\n",
        "            x.grad = f.backward(self.grad)  # 3. Call the function's backward\n",
        "            x.backward()\n",
        "\n",
        "\n",
        "class Function:\n",
        "    def __call__(self, input):\n",
        "        x = input.data\n",
        "        y = self.forward(x)\n",
        "        output = Variable(y)\n",
        "        output.set_creator(self)  # Set parent(function)\n",
        "        self.input = input\n",
        "        self.output = output  # Set output\n",
        "        return output\n",
        "\n",
        "    def forward(self, x):\n",
        "        raise NotImplementedError()\n",
        "\n",
        "    def backward(self, gy):\n",
        "        raise NotImplementedError()\n",
        "\n",
        "\n",
        "class Square(Function):\n",
        "    def forward(self, x):\n",
        "        y = x ** 2\n",
        "        return y\n",
        "\n",
        "    def backward(self, gy):\n",
        "        x = self.input.data\n",
        "        gx = 2 * x * gy\n",
        "        return gx\n",
        "\n",
        "\n",
        "class Exp(Function):\n",
        "    def forward(self, x):\n",
        "        y = np.exp(x)\n",
        "        return y\n",
        "\n",
        "    def backward(self, gy):\n",
        "        x = self.input.data\n",
        "        gx = np.exp(x) * gy\n",
        "        return gx\n",
        "\n",
        "\n",
        "A = Square()\n",
        "B = Exp()\n",
        "C = Square()\n",
        "\n",
        "x = Variable(np.array(0.5))\n",
        "a = A(x)\n",
        "b = B(a)\n",
        "y = C(b)\n",
        "\n",
        "# backward\n",
        "y.grad = np.array(1.0)\n",
        "y.backward()\n",
        "print(x.grad)"
      ]
    }
  ],
  "metadata": {
    "colab": {
      "provenance": []
    },
    "kernelspec": {
      "display_name": "Python 3",
      "name": "python3"
    },
    "language_info": {
      "codemirror_mode": {
        "name": "ipython",
        "version": 3
      },
      "file_extension": ".py",
      "mimetype": "text/x-python",
      "name": "python",
      "nbconvert_exporter": "python",
      "pygments_lexer": "ipython3",
      "version": "3.12.3"
    }
  },
  "nbformat": 4,
  "nbformat_minor": 0
}
