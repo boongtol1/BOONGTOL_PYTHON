{
 "cells": [
  {
   "cell_type": "code",
   "execution_count": 4,
   "metadata": {},
   "outputs": [
    {
     "name": "stdout",
     "output_type": "stream",
     "text": [
      "Name: Buddy\n",
      "Species: Dog\n",
      "Breed: Golden Retriever\n",
      "Buddy barks.\n"
     ]
    }
   ],
   "source": [
    "class Animal:\n",
    "    def __init__(self, name, species):\n",
    "        self.name = name\n",
    "        self.species = species\n",
    "\n",
    "    def make_sound(self):\n",
    "        print(f\"{self.name} makes a sound.\")\n",
    "\n",
    "class Dog(Animal):\n",
    "    def __init__(self, name, species, breed):\n",
    "        self.name = name      # 부모 클래스와 동일한 이름의 속성 재정의\n",
    "        self.species = species\n",
    "        self.breed = breed\n",
    "\n",
    "    def make_sound(self):\n",
    "        print(f\"{self.name} barks.\")\n",
    "\n",
    "# 인스턴스 생성\n",
    "my_dog = Dog(name=\"Buddy\", species=\"Dog\", breed=\"Golden Retriever\")\n",
    "\n",
    "print(f\"Name: {my_dog.name}\")     # 출력: Name: Buddy\n",
    "print(f\"Species: {my_dog.species}\") # 출력: Species: Dog\n",
    "print(f\"Breed: {my_dog.breed}\")     # 출력: Breed: Golden Retriever\n",
    "\n",
    "my_dog.make_sound()  # 출력: Buddy barks.\n"
   ]
  },
  {
   "cell_type": "code",
   "execution_count": null,
   "metadata": {},
   "outputs": [
    {
     "name": "stdout",
     "output_type": "stream",
     "text": [
      "Using device: mps\n",
      "Forward result: tensor(1.6487, device='mps:0')\n",
      "Numerical diff: tensor(3.2979, device='mps:0')\n",
      "Executed on: mps\n"
     ]
    }
   ],
   "source": [
    "import torch\n",
    "\n",
    "# MPS(Apple Silicon GPU) 사용 가능 여부 체크\n",
    "device = torch.device(\"mps\" if torch.backends.mps.is_available() else \"cpu\")\n",
    "print(\"Using device:\", device)\n",
    "\n",
    "# DeZero Variable 클래스와 유사한 PyTorch 기반 클래스\n",
    "class Variable:\n",
    "    def __init__(self, data):\n",
    "        if not isinstance(data, torch.Tensor):\n",
    "            data = torch.tensor(data, dtype=torch.float32)\n",
    "        self.data = data.to(device)\n",
    "        self.grad = None\n",
    "\n",
    "    def __repr__(self):\n",
    "        return f\"Variable({self.data}, grad={self.grad})\"\n",
    "\n",
    "# DeZero Function과 유사한 클래스\n",
    "class Function:\n",
    "    def __call__(self, input):\n",
    "        x = input.data\n",
    "        y = self.forward(x)\n",
    "        output = Variable(y)\n",
    "        self.input = input\n",
    "        return output\n",
    "\n",
    "    def forward(self, x):\n",
    "        raise NotImplementedError()\n",
    "\n",
    "    def backward(self, gy):\n",
    "        raise NotImplementedError()\n",
    "\n",
    "# Square 함수 구현\n",
    "class Square(Function):\n",
    "    def forward(self, x):\n",
    "        return x ** 2\n",
    "\n",
    "    def backward(self, gy):\n",
    "        x = self.input.data\n",
    "        return 2 * x * gy\n",
    "\n",
    "# Exp 함수 구현\n",
    "class Exp(Function):\n",
    "    def forward(self, x):\n",
    "        return torch.exp(x)\n",
    "\n",
    "    def backward(self, gy):\n",
    "        x = self.input.data\n",
    "        return torch.exp(x) * gy\n",
    "\n",
    "# 수치 미분 함수\n",
    "def numerical_diff(f, x, eps=1e-4):\n",
    "    x0 = Variable(x.data - eps)\n",
    "    x1 = Variable(x.data + eps)\n",
    "    y0 = f(x0)\n",
    "    y1 = f(x1)\n",
    "    return (y1.data - y0.data) / (2 * eps)\n",
    "\n",
    "# 테스트\n",
    "if __name__ == \"__main__\":\n",
    "    A = Square()\n",
    "    B = Exp()\n",
    "    C = Square()\n",
    "\n",
    "    x = Variable(torch.tensor(0.5))\n",
    "    a = A(x)\n",
    "    b = B(a)\n",
    "    y = C(b)\n",
    "\n",
    "    print(\"Forward result:\", y.data)\n",
    "\n",
    "    # 수치 미분으로 검증\n",
    "    f = lambda var: C(B(A(var)))\n",
    "    dy = numerical_diff(f, x)\n",
    "    print(\"Numerical diff:\", dy)\n",
    "\n",
    "    print(\"Executed on:\", device)\n"
   ]
  },
  {
   "cell_type": "code",
   "execution_count": 2,
   "metadata": {},
   "outputs": [
    {
     "name": "stdout",
     "output_type": "stream",
     "text": [
      "__main__\n"
     ]
    }
   ],
   "source": [
    "import p1\n",
    "print(__name__)"
   ]
  },
  {
   "cell_type": "code",
   "execution_count": 4,
   "metadata": {},
   "outputs": [
    {
     "name": "stdout",
     "output_type": "stream",
     "text": [
      "This is a private method\n",
      "<bound method MyClass.__init__ of <__main__.MyClass object at 0x1042ab410>>\n"
     ]
    },
    {
     "ename": "AttributeError",
     "evalue": "'MyClass' object has no attribute '__private_method'",
     "output_type": "error",
     "traceback": [
      "\u001b[0;31m---------------------------------------------------------------------------\u001b[0m",
      "\u001b[0;31mAttributeError\u001b[0m                            Traceback (most recent call last)",
      "Cell \u001b[0;32mIn[4], line 16\u001b[0m\n\u001b[1;32m     14\u001b[0m \u001b[38;5;66;03m# 클래스 외부에서 직접 접근 시도\u001b[39;00m\n\u001b[1;32m     15\u001b[0m \u001b[38;5;28mprint\u001b[39m(obj\u001b[38;5;241m.\u001b[39m\u001b[38;5;21m__init__\u001b[39m)  \u001b[38;5;66;03m# AttributeError: 'MyClass' object has no attribute '__private_var'\u001b[39;00m\n\u001b[0;32m---> 16\u001b[0m \u001b[38;5;28mprint\u001b[39m(\u001b[43mobj\u001b[49m\u001b[38;5;241;43m.\u001b[39;49m\u001b[43m__private_method\u001b[49m())  \u001b[38;5;66;03m# AttributeError: 'MyClass' object has no attribute '__private_method'\u001b[39;00m\n\u001b[1;32m     18\u001b[0m \u001b[38;5;66;03m# 네임 맹글링을 통해 접근 시도 (비권장)\u001b[39;00m\n\u001b[1;32m     19\u001b[0m \u001b[38;5;28mprint\u001b[39m(obj\u001b[38;5;241m.\u001b[39m_MyClass__private_var)  \u001b[38;5;66;03m# 42\u001b[39;00m\n",
      "\u001b[0;31mAttributeError\u001b[0m: 'MyClass' object has no attribute '__private_method'"
     ]
    }
   ],
   "source": [
    "class MyClass:\n",
    "    def __init__(self):\n",
    "        self.__private_var = 42\n",
    "\n",
    "    def __private_method(self):\n",
    "        return \"This is a private method\"\n",
    "\n",
    "    def public_method(self):\n",
    "        return self.__private_method()          # _에 관한 접근 제어는 자바에서 공부하고 다시 공부하기로 한다!\n",
    "\n",
    "obj = MyClass()\n",
    "print(obj.public_method())  # This is a private method\n",
    "\n",
    "# 클래스 외부에서 직접 접근 시도\n",
    "print(obj.__init__)  # AttributeError: 'MyClass' object has no attribute '__private_var'\n",
    "print(obj.__private_method())  # AttributeError: 'MyClass' object has no attribute '__private_method'\n",
    "\n",
    "# 네임 맹글링을 통해 접근 시도 (비권장)\n",
    "print(obj._MyClass__private_var)  # 42\n",
    "print(obj._MyClass__private_method())  # This is a private method\n"
   ]
  },
  {
   "cell_type": "code",
   "execution_count": 7,
   "metadata": {},
   "outputs": [
    {
     "name": "stdout",
     "output_type": "stream",
     "text": [
      "__name__ in current_module: __main__\n",
      "__name__ in and_gate: __main__\n"
     ]
    }
   ],
   "source": [
    "# current_module.py\n",
    "print(\"__name__ in current_module:\", __name__)\n",
    "\n",
    "from and_gate import *\n",
    "\n",
    "# and_gate.py\n",
    "print(\"__name__ in and_gate:\", __name__)\n"
   ]
  }
 ],
 "metadata": {
  "kernelspec": {
   "display_name": "dezero",
   "language": "python",
   "name": "python3"
  },
  "language_info": {
   "codemirror_mode": {
    "name": "ipython",
    "version": 3
   },
   "file_extension": ".py",
   "mimetype": "text/x-python",
   "name": "python",
   "nbconvert_exporter": "python",
   "pygments_lexer": "ipython3",
   "version": "3.9.7"
  }
 },
 "nbformat": 4,
 "nbformat_minor": 2
}
