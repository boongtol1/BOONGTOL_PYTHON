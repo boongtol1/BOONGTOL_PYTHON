{
 "cells": [
  {
   "cell_type": "code",
   "execution_count": 4,
   "metadata": {},
   "outputs": [
    {
     "name": "stdout",
     "output_type": "stream",
     "text": [
      "Name: Buddy\n",
      "Species: Dog\n",
      "Breed: Golden Retriever\n",
      "Buddy barks.\n"
     ]
    }
   ],
   "source": [
    "class Animal:\n",
    "    def __init__(self, name, species):\n",
    "        self.name = name\n",
    "        self.species = species\n",
    "\n",
    "    def make_sound(self):\n",
    "        print(f\"{self.name} makes a sound.\")\n",
    "\n",
    "class Dog(Animal):\n",
    "    def __init__(self, name, species, breed):\n",
    "        self.name = name      # 부모 클래스와 동일한 이름의 속성 재정의\n",
    "        self.species = species\n",
    "        self.breed = breed\n",
    "\n",
    "    def make_sound(self):\n",
    "        print(f\"{self.name} barks.\")\n",
    "\n",
    "# 인스턴스 생성\n",
    "my_dog = Dog(name=\"Buddy\", species=\"Dog\", breed=\"Golden Retriever\")\n",
    "\n",
    "print(f\"Name: {my_dog.name}\")     # 출력: Name: Buddy\n",
    "print(f\"Species: {my_dog.species}\") # 출력: Species: Dog\n",
    "print(f\"Breed: {my_dog.breed}\")     # 출력: Breed: Golden Retriever\n",
    "\n",
    "my_dog.make_sound()  # 출력: Buddy barks.\n"
   ]
  }
 ],
 "metadata": {
  "kernelspec": {
   "display_name": "Python 3",
   "language": "python",
   "name": "python3"
  },
  "language_info": {
   "codemirror_mode": {
    "name": "ipython",
    "version": 3
   },
   "file_extension": ".py",
   "mimetype": "text/x-python",
   "name": "python",
   "nbconvert_exporter": "python",
   "pygments_lexer": "ipython3",
   "version": "3.12.3"
  }
 },
 "nbformat": 4,
 "nbformat_minor": 2
}
