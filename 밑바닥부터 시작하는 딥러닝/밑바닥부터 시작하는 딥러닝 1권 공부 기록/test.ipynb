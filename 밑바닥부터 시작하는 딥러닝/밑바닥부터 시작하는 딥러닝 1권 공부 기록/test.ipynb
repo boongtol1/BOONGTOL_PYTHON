{
 "cells": [
  {
   "cell_type": "code",
   "execution_count": null,
   "metadata": {},
   "outputs": [],
   "source": [
    "def numerical_gradient(f, x):\n",
    "    h = 1e-4  # 아주 작은 값\n",
    "    \n",
    "    # x[0,0]에 대한 기울기를 계산한다고 가정\n",
    "    # 1) x[0,0] + h 일 때의 손실 계산\n",
    "    temp_w = net.W.copy()\n",
    "    temp_w[0,0] = net.W[0,0] + h  # 0.1 + 0.0001\n",
    "    loss1 = f(temp_w)  # 이때 f 함수 호출\n",
    "    \n",
    "    # 2) x[0,0] - h 일 때의 손실 계산\n",
    "    temp_w = net.W.copy()\n",
    "    temp_w[0,0] = net.W[0,0] - h  # 0.1 - 0.0001\n",
    "    loss2 = f(temp_w)  # 이때 f 함수 호출\n",
    "    \n",
    "    # 3) 기울기 계산\n",
    "    grad = (loss1 - loss2) / (2*h)"
   ]
  }
 ],
 "metadata": {
  "kernelspec": {
   "display_name": "base",
   "language": "python",
   "name": "python3"
  },
  "language_info": {
   "name": "python",
   "version": "3.12.4"
  }
 },
 "nbformat": 4,
 "nbformat_minor": 2
}
