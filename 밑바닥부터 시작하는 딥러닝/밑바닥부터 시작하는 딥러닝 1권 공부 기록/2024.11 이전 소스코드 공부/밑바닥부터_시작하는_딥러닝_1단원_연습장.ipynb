version https://git-lfs.github.com/spec/v1
oid sha256:73e61e718c81c7cd164e50eee49dac4a59e2e8882bdfc527412899a9ed02ad8d
size 320298
