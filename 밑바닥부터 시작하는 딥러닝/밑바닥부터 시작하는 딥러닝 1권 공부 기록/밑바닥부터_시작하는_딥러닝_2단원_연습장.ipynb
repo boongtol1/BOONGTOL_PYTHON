{
  "nbformat": 4,
  "nbformat_minor": 0,
  "metadata": {
    "colab": {
      "provenance": []
    },
    "kernelspec": {
      "name": "python3",
      "display_name": "Python 3"
    },
    "language_info": {
      "name": "python"
    }
  },
  "cells": [
    {
      "cell_type": "code",
      "source": [
        "# coding: utf-8\n",
        "import numpy as np\n",
        "\n",
        "\n",
        "def OR(x1, x2):\n",
        "    x = np.array([x1, x2])\n",
        "    w = np.array([0.5, 0.5])\n",
        "    b = -0.2\n",
        "    tmp = np.sum(w*x) + b\n",
        "    if tmp <= 0:\n",
        "        return 0\n",
        "    else:\n",
        "        return 1\n",
        "\n",
        "if __name__ == '__main__':\n",
        "    for xs in [(0, 0), (1, 0), (0, 1), (1, 1)]:\n",
        "        y = OR(xs[0], xs[1])\n",
        "        print(str(xs) + \" -> \" + str(y))"
      ],
      "metadata": {
        "colab": {
          "base_uri": "https://localhost:8080/"
        },
        "id": "275T_z4VtCQL",
        "outputId": "ee67412b-149e-406c-92fd-8f88ff27354f"
      },
      "execution_count": null,
      "outputs": [
        {
          "output_type": "stream",
          "name": "stdout",
          "text": [
            "(0, 0) -> 0\n",
            "(1, 0) -> 1\n",
            "(0, 1) -> 1\n",
            "(1, 1) -> 1\n"
          ]
        }
      ]
    },
    {
      "cell_type": "code",
      "source": [
        "# coding: utf-8\n",
        "from and_gate import AND        # if and_gate의 0번째 들여쓰기에 print(8)이 있으면 8이 먼저 출력된다!!\n",
        "from or_gate import OR\n",
        "from nand_gate import NAND      # 여기서 알 수 있는것?-->어떤 모듈에서 특정 존재(함수 등)를 import 할때, 즉시 순서대로 그 모듈의 0번째 들여쓰기는 모두 인식된다!\n",
        "\n",
        "\n",
        "def XOR(x1, x2):\n",
        "    s1 = NAND(x1, x2)\n",
        "    s2 = OR(x1, x2)\n",
        "    y = AND(s1, s2)\n",
        "    return y\n",
        "\n",
        "if __name__ == '__main__':\n",
        "    for xs in [(0, 0), (1, 0), (0, 1), (1, 1)]:\n",
        "        y = XOR(xs[0], xs[1])\n",
        "        print(str(xs) + \" -> \" + str(y))\n"
      ],
      "metadata": {
        "colab": {
          "base_uri": "https://localhost:8080/"
        },
        "id": "N_M1HJKEvIis",
        "outputId": "91428b00-26d3-416d-9a0d-251c1f36a9c4"
      },
      "execution_count": null,
      "outputs": [
        {
          "output_type": "stream",
          "name": "stdout",
          "text": [
            "9\n",
            "8\n",
            "4\n",
            "3\n",
            "1\n",
            "2\n",
            "(0, 0) -> 0\n",
            "(1, 0) -> 1\n",
            "(0, 1) -> 1\n",
            "(1, 1) -> 0\n"
          ]
        }
      ]
    },
    {
      "cell_type": "code",
      "source": [
        "# coding: utf-8\n",
        "import numpy as np\n",
        "\n",
        "\n",
        "def OR(x1, x2):\n",
        "    x = np.array([x1, x2])\n",
        "    w = np.array([0.5, 0.5])\n",
        "    b = -0.2\n",
        "    tmp = np.sum(w*x) + b\n",
        "    if tmp <= 0:\n",
        "        return 0\n",
        "    else:\n",
        "        return 1\n",
        "\n",
        "if __name__ == '__main__':\n",
        "    for xs in [(0, 0), (1, 0), (0, 1), (1, 1)]:\n",
        "        y = OR(xs[0], xs[1])\n",
        "        print(str(xs) + \" -> \" + str(y))\n",
        "print(__name__)"
      ],
      "metadata": {
        "colab": {
          "base_uri": "https://localhost:8080/"
        },
        "id": "NEG0DXmXzKX3",
        "outputId": "a0898942-cc5e-4873-9ab5-10623738534f"
      },
      "execution_count": null,
      "outputs": [
        {
          "output_type": "stream",
          "name": "stdout",
          "text": [
            "(0, 0) -> 0\n",
            "(1, 0) -> 1\n",
            "(0, 1) -> 1\n",
            "(1, 1) -> 1\n",
            "__main__\n"
          ]
        }
      ]
    },
    {
      "cell_type": "code",
      "source": [
        "# coding: utf-8\n",
        "import numpy as np\n",
        "\n",
        "\n",
        "def NOR(x1, x2):\n",
        "    x = np.array([x1, x2])\n",
        "    w = np.array([-2.5, -2.5])\n",
        "    b = 1\n",
        "    tmp = np.sum(w*x) + b\n",
        "    if tmp <= 0:\n",
        "        return 0\n",
        "    else:\n",
        "        return 1\n",
        "\n",
        "if __name__ == '__main__':\n",
        "    for xs in [(0, 0), (1, 0), (0, 1), (1, 1)]:\n",
        "        y = NOR(xs[0], xs[1])\n",
        "        print(str(xs) + \" -> \" + str(y))"
      ],
      "metadata": {
        "colab": {
          "base_uri": "https://localhost:8080/"
        },
        "id": "HsnxAxPQwu0K",
        "outputId": "6a2f0210-65a6-4f7a-cdb5-a2076080ae8e"
      },
      "execution_count": null,
      "outputs": [
        {
          "output_type": "stream",
          "name": "stdout",
          "text": [
            "(0, 0) -> 1\n",
            "(1, 0) -> 0\n",
            "(0, 1) -> 0\n",
            "(1, 1) -> 0\n"
          ]
        }
      ]
    },
    {
      "cell_type": "code",
      "source": [
        "# coding: utf-8\n",
        "import numpy as np\n",
        "\n",
        "\n",
        "def AND(x1, x2):\n",
        "    x = np.array([x1, x2])\n",
        "    w = np.array([0.5, 0.5])\n",
        "    b = -0.7\n",
        "    tmp = np.sum(w*x) + b\n",
        "    if tmp <= 0:\n",
        "        return 0\n",
        "    else:\n",
        "        return 1\n",
        "\n",
        "if __name__ == '__main__':\n",
        "    for xs in [(0, 0), (1, 0), (0, 1), (1, 1)]:\n",
        "        y = AND(xs[0], xs[1])\n",
        "        print(str(xs) + \" -> \" + str(y))\n"
      ],
      "metadata": {
        "id": "5GMTsyCS218a",
        "colab": {
          "base_uri": "https://localhost:8080/"
        },
        "outputId": "e9b5e483-b93d-48ab-a5c5-8666b7f8f6df"
      },
      "execution_count": null,
      "outputs": [
        {
          "output_type": "stream",
          "name": "stdout",
          "text": [
            "(0, 0) -> 0\n",
            "(1, 0) -> 0\n",
            "(0, 1) -> 0\n",
            "(1, 1) -> 1\n"
          ]
        }
      ]
    },
    {
      "cell_type": "code",
      "source": [
        "# coding: utf-8\n",
        "import numpy as np\n",
        "\n",
        "\n",
        "def AND(x1, x2):\n",
        "    x = np.array([x1, x2])\n",
        "    w = np.array([0.5, 0.5])\n",
        "    b = -0.7\n",
        "    tmp = np.sum(w*x) + b\n",
        "    if tmp <= 0:\n",
        "        return 0\n",
        "    else:\n",
        "        return 1\n",
        "if __name__ == '__main__':\n",
        "    for xs in [(0, 0), (1, 0), (0, 1), (1, 1)]:\n",
        "        y = AND(xs[0], xs[1])\n",
        "        print(str(xs) + \" -> \" + str(y))\n"
      ],
      "metadata": {
        "id": "QJs-ZZEpJB_7"
      },
      "execution_count": null,
      "outputs": []
    },
    {
      "cell_type": "code",
      "source": [
        "# coding: utf-8\n",
        "import numpy as np\n",
        "\n",
        "\n",
        "def IF(x1, x2):\n",
        "    x = np.array([x1, x2])\n",
        "    w = np.array([-10/7, 10/7])\n",
        "    b = 1\n",
        "    tmp = np.sum(w*x) + b\n",
        "    if tmp <= 0:\n",
        "        return 0\n",
        "    else:\n",
        "        return 1\n",
        "\n",
        "if __name__ == '__main__':\n",
        "    for xs in [(0, 0), (1, 0), (0, 1), (1, 1)]:\n",
        "        y = IF(xs[0], xs[1])\n",
        "        print(str(xs) + \" -> \" + str(y))\n"
      ],
      "metadata": {
        "colab": {
          "base_uri": "https://localhost:8080/"
        },
        "id": "bqpHJitruFyZ",
        "outputId": "ec7d0c27-5d00-4249-87be-2c001363df51"
      },
      "execution_count": null,
      "outputs": [
        {
          "output_type": "stream",
          "name": "stdout",
          "text": [
            "(0, 0) -> 1\n",
            "(1, 0) -> 0\n",
            "(0, 1) -> 1\n",
            "(1, 1) -> 1\n"
          ]
        }
      ]
    },
    {
      "cell_type": "code",
      "source": [
        "def step_function(x):\n",
        "    return np.array(x > 0, dtype=np.int)"
      ],
      "metadata": {
        "id": "WgoyliKzEGdD"
      },
      "execution_count": null,
      "outputs": []
    },
    {
      "cell_type": "code",
      "source": [
        "x=np.array([0,3,4])\n",
        "x>0\n",
        "np.array(x > 0, dtype=np.int)"
      ],
      "metadata": {
        "colab": {
          "base_uri": "https://localhost:8080/"
        },
        "id": "bQm8EUPmEKJQ",
        "outputId": "d88ddbcc-ea1c-4235-8e31-e020adf28de0"
      },
      "execution_count": null,
      "outputs": [
        {
          "output_type": "stream",
          "name": "stderr",
          "text": [
            "<ipython-input-12-6a0afae0ab88>:3: DeprecationWarning: `np.int` is a deprecated alias for the builtin `int`. To silence this warning, use `int` by itself. Doing this will not modify any behavior and is safe. When replacing `np.int`, you may wish to use e.g. `np.int64` or `np.int32` to specify the precision. If you wish to review your current use, check the release note link for additional information.\n",
            "Deprecated in NumPy 1.20; for more details and guidance: https://numpy.org/devdocs/release/1.20.0-notes.html#deprecations\n",
            "  np.array(x > 0, dtype=np.int)\n"
          ]
        },
        {
          "output_type": "execute_result",
          "data": {
            "text/plain": [
              "array([0, 1, 1])"
            ]
          },
          "metadata": {},
          "execution_count": 12
        }
      ]
    }
  ]
}