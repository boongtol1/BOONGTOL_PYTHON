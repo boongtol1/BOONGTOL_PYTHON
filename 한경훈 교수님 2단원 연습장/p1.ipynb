{
 "cells": [
  {
   "cell_type": "code",
   "execution_count": 1,
   "metadata": {},
   "outputs": [
    {
     "name": "stdout",
     "output_type": "stream",
     "text": [
      "(0, 0) -> 0\n",
      "(1, 0) -> 1\n",
      "(0, 1) -> 1\n",
      "(1, 1) -> 0\n"
     ]
    }
   ],
   "source": [
    "# coding: utf-8\n",
    "from and_gate import AND\n",
    "from or_gate import OR\n",
    "from nand_gate import NAND\n",
    "\n",
    "\n",
    "def XOR(x1, x2):\n",
    "    s1 = NAND(x1, x2)\n",
    "    s2 = OR(x1, x2)\n",
    "    y = AND(s1, s2)\n",
    "    return y\n",
    "\n",
    "if __name__ == '__main__':\n",
    "    for xs in [(0, 0), (1, 0), (0, 1), (1, 1)]:\n",
    "        y = XOR(xs[0], xs[1])\n",
    "        print(str(xs) + \" -> \" + str(y))"
   ]
  },
  {
   "cell_type": "code",
   "execution_count": 4,
   "metadata": {},
   "outputs": [
    {
     "name": "stdout",
     "output_type": "stream",
     "text": [
      "(0, 0) -> 1\n",
      "(1, 0) -> 1\n",
      "(0, 1) -> 1\n",
      "(1, 1) -> 1\n"
     ]
    }
   ],
   "source": [
    "# coding: utf-8\n",
    "import numpy as np\n",
    "\n",
    "\n",
    "def NOR(x1, x2):\n",
    "    x = np.array([x1, x2])\n",
    "    w = np.array([0, 0])\n",
    "    b = 1\n",
    "    tmp = np.sum(w*x) + b\n",
    "    if tmp <= 0:\n",
    "        return 0\n",
    "    else:\n",
    "        return 1\n",
    "\n",
    "if __name__ == '__main__':\n",
    "    for xs in [(0, 0), (1, 0), (0, 1), (1, 1)]:\n",
    "        y = NOR(xs[0], xs[1])\n",
    "        print(str(xs) + \" -> \" + str(y))"
   ]
  },
  {
   "cell_type": "code",
<<<<<<< Updated upstream
   "execution_count": 1,
=======
   "execution_count": 2,
   "metadata": {},
   "outputs": [
    {
     "data": {
      "image/png": "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",
      "text/plain": [
       "<Figure size 640x480 with 1 Axes>"
      ]
     },
     "metadata": {},
     "output_type": "display_data"
    }
   ],
   "source": [
    "import matplotlib.pyplot as plt\n",
    "\n",
    "# 단순한 플롯을 생성합니다.\n",
    "plt.plot([1, 2, 3, 4], [10, 20, 25, 30])\n",
    "\n",
    "# 그래프를 출력합니다.\n",
    "plt.show()\n"
   ]
  },
  {
   "cell_type": "code",
   "execution_count": 4,
>>>>>>> Stashed changes
   "metadata": {},
   "outputs": [
    {
     "name": "stdout",
     "output_type": "stream",
     "text": [
<<<<<<< Updated upstream
      "(0, 0) -> 1\n",
      "(1, 0) -> 0\n",
      "(0, 1) -> 0\n",
      "(1, 1) -> 1\n"
=======
      "[-1.  0.]\n"
>>>>>>> Stashed changes
     ]
    }
   ],
   "source": [
<<<<<<< Updated upstream
    "# coding: utf-8\n",
    "from and_gate import AND\n",
    "from or_gate import OR\n",
    "from nand_gate import NAND\n",
    "\n",
    "\n",
    "def XOR(x1, x2):\n",
    "    s1 = NAND(x1, x2)\n",
    "    s2 = OR(x1, x2)\n",
    "    y = NAND(s1, s2)\n",
    "    return y\n",
    "\n",
    "if __name__ == '__main__':\n",
    "    for xs in [(0, 0), (1, 0), (0, 1), (1, 1)]:\n",
    "        y = XOR(xs[0], xs[1])\n",
    "        print(str(xs) + \" -> \" + str(y))"
   ]
  },
  {
   "cell_type": "code",
   "execution_count": 13,
   "metadata": {},
   "outputs": [
    {
     "name": "stdout",
     "output_type": "stream",
     "text": [
      "0 --> 1\n",
      "1 --> 0\n"
     ]
    }
   ],
   "source": [
    "def Not(x):\n",
    "    w=-3\n",
    "    t=-2\n",
    "    if w*x<=t:\n",
    "        return 0\n",
    "    else: \n",
    "        return 1\n",
    "\n",
    "if __name__=='__main__':\n",
    "    for x in [0,1]:\n",
    "        y=Not(x)\n",
    "        print(str(x),'-->',str(y))\n"
   ]
  },
  {
   "cell_type": "code",
   "execution_count": 10,
   "metadata": {},
   "outputs": [],
   "source": [
    "def NOT(x):\n",
    "    w=-1\n",
    "    theta=-0.5\n",
    "    if w*x > theta:\n",
    "        return 1\n",
    "    else:\n",
    "        return 0\n",
    "\n",
    "if __name__ == '__main__':\n",
    "    for x in [0,1]:\n",
    "        y = NOT(x)"
   ]
  },
  {
   "cell_type": "code",
   "execution_count": 16,
   "metadata": {},
   "outputs": [
    {
     "name": "stdout",
     "output_type": "stream",
     "text": [
      "[0, 0] -> 0\n",
      "[0, 1] -> 1\n",
      "[1, 0] -> 1\n",
      "[1, 1] -> 0\n"
     ]
    }
   ],
   "source": [
    "def XOR(x1,x2):\n",
    "    if -0.5*x1-0.5*x2<=-0.7:\n",
    "        y1=0\n",
    "    else:\n",
    "        y1=1\n",
    "    if 0.5*x2+0.5*x1<=0.2:\n",
    "        y2=0\n",
    "    else:\n",
    "        y2=1\n",
    "    if 0.5*y1+0.5*y2<=0.7:\n",
    "        z=0\n",
    "    else:\n",
    "        z=1\n",
    "    return z\n",
    "\n",
    "for i in ([0,0],[0,1],[1,0],[1,1]):\n",
    "    k=XOR(i[0],i[1])\n",
    "    print(str(i),'->',str(k))"
   ]
  },
  {
   "cell_type": "code",
   "execution_count": null,
   "metadata": {},
   "outputs": [],
   "source": []
=======
    "import numpy as np\n",
    "\n",
    "# np.arange 함수로 배열 생성\n",
    "arr = np.arange(-1.0, 1, 1)\n",
    "print(arr)\n"
   ]
>>>>>>> Stashed changes
  }
 ],
 "metadata": {
  "kernelspec": {
   "display_name": "Python 3",
   "language": "python",
   "name": "python3"
  },
  "language_info": {
   "codemirror_mode": {
    "name": "ipython",
    "version": 3
   },
   "file_extension": ".py",
   "mimetype": "text/x-python",
   "name": "python",
   "nbconvert_exporter": "python",
   "pygments_lexer": "ipython3",
   "version": "3.12.3"
  }
 },
 "nbformat": 4,
 "nbformat_minor": 2
}
