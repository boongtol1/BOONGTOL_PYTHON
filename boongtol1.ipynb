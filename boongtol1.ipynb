{
  "cells": [
    {
      "cell_type": "code",
      "execution_count": null,
      "metadata": {
        "colab": {
          "base_uri": "https://localhost:8080/",
          "height": 403
        },
        "id": "_2QPLDmvqu6d",
        "outputId": "f18f24d6-bd75-4468-ce1a-a161d42d0922"
      },
      "outputs": [
        {
          "output_type": "stream",
          "name": "stdout",
          "text": [
            "위치 : 5\n",
            "66 67\n"
          ]
        },
        {
          "output_type": "error",
          "ename": "KeyboardInterrupt",
          "evalue": "Interrupted by user",
          "traceback": [
            "\u001b[0;31m---------------------------------------------------------------------------\u001b[0m",
            "\u001b[0;31mKeyboardInterrupt\u001b[0m                         Traceback (most recent call last)",
            "\u001b[0;32m<ipython-input-23-0f46b0f8ceff>\u001b[0m in \u001b[0;36m<cell line: 4>\u001b[0;34m()\u001b[0m\n\u001b[1;32m     11\u001b[0m                     \u001b[0;31m# 반면 print(c[0])는 해당 바이트의 실제 정수 값을 출력하여, 어떤 데이터가 파일에 저장되어 있는지 명확하게 이해할 수 있게 합니다.\u001b[0m\u001b[0;34m\u001b[0m\u001b[0;34m\u001b[0m\u001b[0m\n\u001b[1;32m     12\u001b[0m \u001b[0;34m\u001b[0m\u001b[0m\n\u001b[0;32m---> 13\u001b[0;31m         \u001b[0mretry\u001b[0m \u001b[0;34m=\u001b[0m \u001b[0minput\u001b[0m\u001b[0;34m(\u001b[0m\u001b[0;34m'값 변경[Y/N]：'\u001b[0m\u001b[0;34m)\u001b[0m     \u001b[0;31m# c가 바이트 형식이라면, c[0]는 바이트 시퀀스의 첫 번째 요소를 가리키며, 이는 정수 값으로 표현됩니다.\u001b[0m\u001b[0;34m\u001b[0m\u001b[0;34m\u001b[0m\u001b[0m\n\u001b[0m\u001b[1;32m     14\u001b[0m         \u001b[0;32mif\u001b[0m \u001b[0mretry\u001b[0m \u001b[0;32min\u001b[0m \u001b[0;34m{\u001b[0m\u001b[0;34m'Y'\u001b[0m\u001b[0;34m,\u001b[0m \u001b[0;34m'y'\u001b[0m\u001b[0;34m}\u001b[0m\u001b[0;34m:\u001b[0m\u001b[0;34m\u001b[0m\u001b[0;34m\u001b[0m\u001b[0m\n\u001b[1;32m     15\u001b[0m             \u001b[0mvalue\u001b[0m \u001b[0;34m=\u001b[0m \u001b[0mint\u001b[0m\u001b[0;34m(\u001b[0m\u001b[0minput\u001b[0m\u001b[0;34m(\u001b[0m\u001b[0;34m'0~255의 수 ：'\u001b[0m\u001b[0;34m)\u001b[0m\u001b[0;34m)\u001b[0m \u001b[0;31m# f.read(1)을 실행할 때, 1바이트 데이터를 읽습니다. 이때 파일 포인터는 자동으로 읽은 바이트 다음 위치로 이동합니다.\u001b[0m\u001b[0;34m\u001b[0m\u001b[0;34m\u001b[0m\u001b[0m\n",
            "\u001b[0;32m/usr/local/lib/python3.10/dist-packages/ipykernel/kernelbase.py\u001b[0m in \u001b[0;36mraw_input\u001b[0;34m(self, prompt)\u001b[0m\n\u001b[1;32m    849\u001b[0m                 \u001b[0;34m\"raw_input was called, but this frontend does not support input requests.\"\u001b[0m\u001b[0;34m\u001b[0m\u001b[0;34m\u001b[0m\u001b[0m\n\u001b[1;32m    850\u001b[0m             )\n\u001b[0;32m--> 851\u001b[0;31m         return self._input_request(str(prompt),\n\u001b[0m\u001b[1;32m    852\u001b[0m             \u001b[0mself\u001b[0m\u001b[0;34m.\u001b[0m\u001b[0m_parent_ident\u001b[0m\u001b[0;34m,\u001b[0m\u001b[0;34m\u001b[0m\u001b[0;34m\u001b[0m\u001b[0m\n\u001b[1;32m    853\u001b[0m             \u001b[0mself\u001b[0m\u001b[0;34m.\u001b[0m\u001b[0m_parent_header\u001b[0m\u001b[0;34m,\u001b[0m\u001b[0;34m\u001b[0m\u001b[0;34m\u001b[0m\u001b[0m\n",
            "\u001b[0;32m/usr/local/lib/python3.10/dist-packages/ipykernel/kernelbase.py\u001b[0m in \u001b[0;36m_input_request\u001b[0;34m(self, prompt, ident, parent, password)\u001b[0m\n\u001b[1;32m    893\u001b[0m             \u001b[0;32mexcept\u001b[0m \u001b[0mKeyboardInterrupt\u001b[0m\u001b[0;34m:\u001b[0m\u001b[0;34m\u001b[0m\u001b[0;34m\u001b[0m\u001b[0m\n\u001b[1;32m    894\u001b[0m                 \u001b[0;31m# re-raise KeyboardInterrupt, to truncate traceback\u001b[0m\u001b[0;34m\u001b[0m\u001b[0;34m\u001b[0m\u001b[0m\n\u001b[0;32m--> 895\u001b[0;31m                 \u001b[0;32mraise\u001b[0m \u001b[0mKeyboardInterrupt\u001b[0m\u001b[0;34m(\u001b[0m\u001b[0;34m\"Interrupted by user\"\u001b[0m\u001b[0;34m)\u001b[0m \u001b[0;32mfrom\u001b[0m \u001b[0;32mNone\u001b[0m\u001b[0;34m\u001b[0m\u001b[0;34m\u001b[0m\u001b[0m\n\u001b[0m\u001b[1;32m    896\u001b[0m             \u001b[0;32mexcept\u001b[0m \u001b[0mException\u001b[0m \u001b[0;32mas\u001b[0m \u001b[0me\u001b[0m\u001b[0;34m:\u001b[0m\u001b[0;34m\u001b[0m\u001b[0;34m\u001b[0m\u001b[0m\n\u001b[1;32m    897\u001b[0m                 \u001b[0mself\u001b[0m\u001b[0;34m.\u001b[0m\u001b[0mlog\u001b[0m\u001b[0;34m.\u001b[0m\u001b[0mwarning\u001b[0m\u001b[0;34m(\u001b[0m\u001b[0;34m\"Invalid Message:\"\u001b[0m\u001b[0;34m,\u001b[0m \u001b[0mexc_info\u001b[0m\u001b[0;34m=\u001b[0m\u001b[0;32mTrue\u001b[0m\u001b[0;34m)\u001b[0m\u001b[0;34m\u001b[0m\u001b[0;34m\u001b[0m\u001b[0m\n",
            "\u001b[0;31mKeyboardInterrupt\u001b[0m: Interrupted by user"
          ]
        }
      ],
      "source": [
        "# 13장 정리2\n",
        "# List 13-7으로 만든 바이너리 파일의 임의의 위치에 있는 문자를 읽고 쓰기\n",
        "\n",
        "with open('Green Day - One Eyed Bastard.bin', 'br+') as f:   # binfile의 정체?-->0부터 255까지의 정수가 바이너리 형태로 나열되어있는 file!(8개씩 묶어서 사고해라!)\n",
        "    while True:\n",
        "        pos = int(input('위치 : ')) # 파일을 읽거나 쓸 때 시스템은 \"파일 포인터\"라는 지시자를 사용하여 현재 작업 중인 파일 내 위치를 추적합니다.\n",
        "                                   # 이 포인터는 파일의 어느 부분이 읽히거나 쓰여질 차례인지를 나타냅니다.\n",
        "        f.seek(pos)       # 파일의 시작에서 150바이트 떨어진 위치로 파일 포인터를 이동시키고 싶다면, seek 함수를 사용하여 pos를 150으로 설정합니다:\n",
        "        c = f.read(2)   # 파일에서 현재 포인터의 위치에서부터 1바이트(1개)의 데이터를 읽어와서 변수 c에 저장하는 동작을 수행합니다.\n",
        "        print(c[0],c[1])        #  바이트 객체를 직접 출력하는 것(print(c))은 데이터를 해석하기 어려울 수 있습니다. 특히 비표준 문자나 바이너리 데이터를 다룰 때는 더욱 그렇습니다.\n",
        "                    # 반면 print(c[0])는 해당 바이트의 실제 정수 값을 출력하여, 어떤 데이터가 파일에 저장되어 있는지 명확하게 이해할 수 있게 합니다.\n",
        "\n",
        "        retry = input('값 변경[Y/N]：')     # c가 바이트 형식이라면, c[0]는 바이트 시퀀스의 첫 번째 요소를 가리키며, 이는 정수 값으로 표현됩니다.\n",
        "        if retry in {'Y', 'y'}:\n",
        "            value = int(input('0~255의 수 ：')) # f.read(1)을 실행할 때, 1바이트 데이터를 읽습니다. 이때 파일 포인터는 자동으로 읽은 바이트 다음 위치로 이동합니다.\n",
        "                                        # 예를 들어, 파일의 10번째 바이트를 읽었다면, f.read(1) 실행 후 파일 포인터는 11번째 바이트의 위치를 가리키게 됩니다.\n",
        "            if 0 <= value <= 255:\n",
        "                f.seek(pos)\n",
        "                f.write(bytes([value,value+1]))     # []안에 있는 각 요소를 바이트 형식(8 bit)으로 만들어서 반환한다!(bytes 클래스는!)\n",
        "                                          # f.write(bytes([value]))에서 value를 대괄호로 감싸는 이유는 bytes 객체를 생성할 때 이터러블(iterable) 한 입력이 필요하기 때문입니다.\n",
        "            else:                       # 파이썬에서 bytes 클래스는 불변(immutable)한 바이트 시퀀스를 생성하는 데 사용됩니다.\n",
        "                print('올바르지 않은 값입니다.')    # bytes(5)와 같이 숫자 하나를 입력하면, 그 숫자만큼의 크기를 가지는 빈 공간(바이트)을 만들어내는데, 이 공간은 '0'으로 채워져 있습니다.\n",
        "                                        # 바이너리 데이터란, 0과 1 두 가지 상태만을 사용해 정보를 표현하는 데이터 형식을 말합니다.\n",
        "        retry = input('한 번 더[Y/N]：')  # bytes 클래스에 입력된 반복가능한 값은 8개의 bit 로 표현된다!!(bytes 라는 클래스는 0부터 255까지의 숫자만 인식가능하도록 설계되어있다!)\n",
        "        if retry in {'N', 'n'}:     # 서로 다르다라고 인식되는 경우의 수가 곧 표현가능한 수의 개수!\n",
        "            break           # Python의 bytes 클래스에서 객체가 생성될 때 바이트 객체를 실제로 생성하고 반환하는 메서드는 __new__ 메서드입니다.\n",
        "                            # __new__ 메서드는 객체가 생성될때 자동으로 불려오는 메서드다!"
      ]
    },
    {
      "cell_type": "code",
      "execution_count": null,
      "metadata": {
        "colab": {
          "base_uri": "https://localhost:8080/"
        },
        "id": "dv2MSRT1C_dk",
        "outputId": "c2374ab9-f5b6-41ad-c064-45338926bb2e"
      },
      "outputs": [
        {
          "output_type": "stream",
          "name": "stdout",
          "text": [
            "3 232\n"
          ]
        }
      ],
      "source": [
        "import struct\n",
        "\n",
        "# 정수 1000을 2바이트의 빅 엔디언 포맷으로 변환\n",
        "bytes_data = struct.pack('>H', 1000)\n",
        "print(bytes_data[0],bytes_data[1])  # 출력: b'\\x03\\xe8'\n"
      ]
    }
  ],
  "metadata": {
    "colab": {
      "provenance": []
    },
    "kernelspec": {
      "display_name": "Python 3",
      "name": "python3"
    },
    "language_info": {
      "name": "python"
    }
  },
  "nbformat": 4,
  "nbformat_minor": 0
}
