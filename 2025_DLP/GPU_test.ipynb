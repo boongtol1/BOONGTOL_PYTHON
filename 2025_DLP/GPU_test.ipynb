{
 "cells": [
  {
   "cell_type": "code",
   "execution_count": 1,
   "id": "d04a7380",
   "metadata": {},
   "outputs": [
    {
     "name": "stdout",
     "output_type": "stream",
     "text": [
      "Available devices:\n",
      "[PhysicalDevice(name='/physical_device:CPU:0', device_type='CPU'), PhysicalDevice(name='/physical_device:GPU:0', device_type='GPU')]\n",
      "✅ GPU detected: [PhysicalDevice(name='/physical_device:GPU:0', device_type='GPU')]\n"
     ]
    }
   ],
   "source": [
    "import tensorflow as tf\n",
    "\n",
    "# 장치 리스트 출력\n",
    "print(\"Available devices:\")\n",
    "print(tf.config.list_physical_devices())\n",
    "\n",
    "# GPU 사용 가능한지 여부 확인\n",
    "gpus = tf.config.list_physical_devices('GPU')\n",
    "if gpus:\n",
    "    print(f\"✅ GPU detected: {gpus}\")\n",
    "else:\n",
    "    print(\"❌ No GPU detected.\")\n"
   ]
  },
  {
   "cell_type": "code",
   "execution_count": 2,
   "id": "1647679e",
   "metadata": {},
   "outputs": [
    {
     "name": "stderr",
     "output_type": "stream",
     "text": [
      "2025-05-30 16:55:08.608303: I metal_plugin/src/device/metal_device.cc:1154] Metal device set to: Apple M2 Max\n",
      "2025-05-30 16:55:08.608344: I metal_plugin/src/device/metal_device.cc:296] systemMemory: 96.00 GB\n",
      "2025-05-30 16:55:08.608354: I metal_plugin/src/device/metal_device.cc:313] maxCacheSize: 36.00 GB\n",
      "2025-05-30 16:55:08.608387: I tensorflow/core/common_runtime/pluggable_device/pluggable_device_factory.cc:305] Could not identify NUMA node of platform GPU ID 0, defaulting to 0. Your kernel may not have been built with NUMA support.\n",
      "2025-05-30 16:55:08.608408: I tensorflow/core/common_runtime/pluggable_device/pluggable_device_factory.cc:271] Created TensorFlow device (/job:localhost/replica:0/task:0/device:GPU:0 with 0 MB memory) -> physical PluggableDevice (device: 0, name: METAL, pci bus id: <undefined>)\n"
     ]
    },
    {
     "name": "stdout",
     "output_type": "stream",
     "text": [
      "tf.Tensor(\n",
      "[[1. 3.]\n",
      " [3. 7.]], shape=(2, 2), dtype=float32)\n"
     ]
    }
   ],
   "source": [
    "# 단순한 연산 테스트\n",
    "with tf.device('/GPU:0'):\n",
    "    a = tf.constant([[1.0, 2.0], [3.0, 4.0]])\n",
    "    b = tf.constant([[1.0, 1.0], [0.0, 1.0]])\n",
    "    c = tf.matmul(a, b)\n",
    "    print(c)\n"
   ]
  },
  {
   "cell_type": "code",
   "execution_count": 3,
   "id": "3c7dca73",
   "metadata": {},
   "outputs": [
    {
     "name": "stdout",
     "output_type": "stream",
     "text": [
      "✅ MPS (Apple GPU) is available!\n",
      "tensor([[2., 2.],\n",
      "        [2., 2.]], device='mps:0')\n",
      "Tensor device: mps:0\n"
     ]
    }
   ],
   "source": [
    "import torch\n",
    "\n",
    "if torch.backends.mps.is_available():\n",
    "    print(\"✅ MPS (Apple GPU) is available!\")\n",
    "    device = torch.device(\"mps\")\n",
    "else:\n",
    "    print(\"❌ MPS not available. Using CPU instead.\")\n",
    "    device = torch.device(\"cpu\")\n",
    "\n",
    "# 텐서 연산 테스트\n",
    "x = torch.ones(2, 2).to(device)\n",
    "y = torch.ones(2, 2).to(device)\n",
    "z = x + y\n",
    "print(z)\n",
    "print(f\"Tensor device: {z.device}\")\n"
   ]
  }
 ],
 "metadata": {
  "kernelspec": {
   "display_name": "VDLP",
   "language": "python",
   "name": "python3"
  },
  "language_info": {
   "codemirror_mode": {
    "name": "ipython",
    "version": 3
   },
   "file_extension": ".py",
   "mimetype": "text/x-python",
   "name": "python",
   "nbconvert_exporter": "python",
   "pygments_lexer": "ipython3",
   "version": "3.11.11"
  }
 },
 "nbformat": 4,
 "nbformat_minor": 5
}
