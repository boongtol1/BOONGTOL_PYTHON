{
  "nbformat": 4,
  "nbformat_minor": 0,
  "metadata": {
    "colab": {
      "provenance": []
    },
    "kernelspec": {
      "name": "python3",
      "display_name": "Python 3"
    },
    "language_info": {
      "name": "python"
    }
  },
  "cells": [
    {
      "cell_type": "code",
      "execution_count": null,
      "metadata": {
        "id": "_LcJsbTdqLe_",
        "outputId": "2359bff9-15e0-4438-ac4e-6f7045fc7804",
        "colab": {
          "base_uri": "https://localhost:8080/"
        }
      },
      "outputs": [
        {
          "output_type": "stream",
          "name": "stdout",
          "text": [
            "정수 a：7\n",
            "정수 b：9\n",
            "매개 변수가 범위를 벗어났습니다.\n",
            "수고하셨습니다.\n"
          ]
        }
      ],
      "source": [
        "# 12장 정리2\n",
        "\n",
        "class RangeException(Exception):\n",
        "    \"\"\"범위를 벗어난 예외\"\"\"\n",
        "    pass\n",
        "\n",
        "class ParameterRangeException(RangeException):\n",
        "    \"\"\"가인수의 범위를 벗어난 예외\"\"\"\n",
        "    pass\n",
        "\n",
        "class ResultException(RangeException):\n",
        "    \"\"\"리턴 값의 범위를 벗어난 예외\"\"\"\n",
        "    pass\n",
        "\n",
        "def is_valid(value:int) -> bool:\n",
        "    \"\"\"value는 0~9인가?\"\"\"\n",
        "    return 0 <= value <= 9\n",
        "\n",
        "def add(a: int, b: int) -> int:\n",
        "    \"\"\"a와 b의 합을 리턴\n",
        "\n",
        "    사전 조건 : a와 b는 0~9\n",
        "             충족하지 않은 경우 ParameterRangeException를 전송\n",
        "\n",
        "    사후 조건 : 리턴하는 합은 0~9\n",
        "             충족하지 않은 경우 ResultRangeException를 전송\n",
        "\n",
        "    \"\"\"\n",
        "    if not is_valid(a):\n",
        "        raise ParameterRangeException\n",
        "    if not is_valid(b):\n",
        "        raise ParameterRangeException\n",
        "\n",
        "    result = a + b\n",
        "\n",
        "    if not is_valid(result):\n",
        "        raise ResultException\n",
        "    return result\n",
        "\n",
        "a = int(input('정수 a：'))\n",
        "b = int(input('정수 b：'))\n",
        "\n",
        "try:\n",
        "    print('두 수의 합은 {}입니다.'.format(add(a, b)))\n",
        "except ParameterRangeException:     # Python 프로그래밍에서는 except 블록이 순차적으로 평가되고 실행됩니다.\n",
        "    print('매개 변수가 범위를 벗어났습니다.')\n",
        "except ResultException:\n",
        "    print('리턴 값이 범위를 벗어났습니다.')\n",
        "except:\n",
        "    print('알 수 없는 예외가 발생하였습니다.')\n",
        "finally:\n",
        "    print('수고하셨습니다.')\n",
        "\n"
      ]
    }
  ]
}