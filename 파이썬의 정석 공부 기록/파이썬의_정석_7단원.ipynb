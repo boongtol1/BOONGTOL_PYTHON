{
  "nbformat": 4,
  "nbformat_minor": 0,
  "metadata": {
    "colab": {
      "provenance": [],
      "gpuType": "T4"
    },
    "kernelspec": {
      "name": "python3",
      "display_name": "Python 3"
    },
    "language_info": {
      "name": "python"
    },
    "accelerator": "GPU"
  },
  "cells": [
    {
      "cell_type": "code",
      "source": [
        "# 7장 정리\n",
        "\n",
        "import random\n",
        "\n",
        "MAX = 10\n",
        "print('0～{} 사이의 난수를 생성합니다.'.format(MAX))\n",
        "number = int(input('난수 개수：'))\n",
        "\n",
        "# 요소 개수가 number이고 모든 요소가 None인 리스트 생성하기\n",
        "v = [None] * number                    # None은 파이썬에서 사용되는 특별한 값으로, 아무 값도 없음을 나타냅니다.(여기서 꼭 None 일 필요 X 왜냐면 좀이따 결국 다른 값을 할당할건데 이는 덮어쓰기가 되기 때문이다!!)\n",
        "\n",
        "# 모든 요소에 0 ~ MAX의 난수 대입하기\n",
        "for i in range(number):              # 여기서 range(number)는 0부터 number-1까지의 정수를 생성하는 범위를 나타냅니다.\n",
        "    v[i] = random.randint(0, MAX)    # v[i] = random.randint(0, MAX)은 리스트 v의 i번째 위치에 0부터 MAX까지의 난수를 할당하는 것입니다.\n",
        "\n",
        "# 리스트로 출력하기\n",
        "print(v)\n",
        "\n",
        "# '*'으로 수직 막대 그래프로 출력하기\n",
        "for i in range(MAX, 0, -1):               # 변수 i는 기존의 존재정보가 초기화되고 새로운 존재정보가 들어온다적 사고 하자!(10--->1 간격=1)\n",
        "    for j in range(0, number):            # 0~number-1\n",
        "        if v[j] >= i:                     # key: 변수의 상수화적 이해!\n",
        "            print('*', end='')\n",
        "        else:\n",
        "            print(' ', end='')\n",
        "    print()             #개행하라!!!\n",
        "\n",
        "\n",
        "print('-' * number)\n",
        "for i in range(number):\n",
        "    print(i % 10, end='')"
      ],
      "metadata": {
        "colab": {
          "base_uri": "https://localhost:8080/"
        },
        "id": "I_amOk3GnjO8",
        "outputId": "ff607c62-75f2-4f47-9fe4-d188474027fa"
      },
      "execution_count": null,
      "outputs": [
        {
          "output_type": "stream",
          "name": "stdout",
          "text": [
            "0～10 사이의 난수를 생성합니다.\n",
            "난수 개수：5\n",
            "[4, 10, 4, 5, 1]\n",
            " *   \n",
            " *   \n",
            " *   \n",
            " *   \n",
            " *   \n",
            " * * \n",
            "**** \n",
            "**** \n",
            "**** \n",
            "*****\n",
            "-----\n",
            "01234"
          ]
        }
      ]
    },
    {
      "cell_type": "code",
      "source": [],
      "metadata": {
        "id": "HB4BvnshrcB1"
      },
      "execution_count": null,
      "outputs": []
    },
    {
      "cell_type": "code",
      "source": [
        "print(v[i])\n",
        "\n",
        "\n",
        "print(i)"
      ],
      "metadata": {
        "colab": {
          "base_uri": "https://localhost:8080/"
        },
        "id": "5UBL4-LvPPHr",
        "outputId": "11c94d9d-5f6f-4526-b6b6-3280a84b3362"
      },
      "execution_count": null,
      "outputs": [
        {
          "output_type": "stream",
          "name": "stdout",
          "text": [
            "5\n",
            "1\n"
          ]
        }
      ]
    },
    {
      "cell_type": "code",
      "source": [
        "for i in range(MAX, 0, -1):               # 변수 i는 기존의 존재정보가 초기화되고 새로운 존재정보가 들어온다적 사고 하자!\n",
        "    for j in range(0, number):\n",
        "        if v[j] >= i:                     # key: 변수의 상수화적 이해!\n",
        "            print('*', end='')\n",
        "        else:\n",
        "            print(' ', end='')\n",
        "    print()"
      ],
      "metadata": {
        "colab": {
          "base_uri": "https://localhost:8080/"
        },
        "id": "mbG1KRobq3jg",
        "outputId": "7ef3a152-55bd-4f30-9823-d3a257270788"
      },
      "execution_count": null,
      "outputs": [
        {
          "output_type": "stream",
          "name": "stdout",
          "text": [
            "        \n",
            "      * \n",
            "   *  * \n",
            "*  *  **\n",
            "*  ** **\n",
            "*  ** **\n",
            "** ** **\n",
            "** *****\n",
            "** *****\n",
            "** *****\n"
          ]
        }
      ]
    }
  ]
}