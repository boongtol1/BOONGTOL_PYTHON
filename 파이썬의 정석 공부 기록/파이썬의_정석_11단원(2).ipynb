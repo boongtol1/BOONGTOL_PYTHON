{
  "cells": [
    {
      "cell_type": "code",
      "execution_count": 1,
      "metadata": {
        "colab": {
          "base_uri": "https://localhost:8080/"
        },
        "id": "zq9EgI3_NdNQ",
        "outputId": "066e2564-1f66-4b7a-d918-b4197033eee8"
      },
      "outputs": [
        {
          "ename": "IndentationError",
          "evalue": "unexpected indent (2050449749.py, line 29)",
          "output_type": "error",
          "traceback": [
            "\u001b[0;36m  Cell \u001b[0;32mIn[1], line 29\u001b[0;36m\u001b[0m\n\u001b[0;31m    \"\"\"생성자\"\"\"\u001b[0m\n\u001b[0m    ^\u001b[0m\n\u001b[0;31mIndentationError\u001b[0m\u001b[0;31m:\u001b[0m unexpected indent\n"
          ]
        }
      ],
      "source": [
        "# 애완동물 클래스와 로봇 클래스 // 코드 전체에서 들여쓰기가 n번 (n은 자연수) 사용될때 첫 행에서 들여쓰기를 n번 하면 에러가 발생한다!(그 외에는 에러 발생 X)--> ipynb 의 특징중 하나!\n",
        "\n",
        "class Pet:\n",
        "    \"\"\"애완동물 클래스\"\"\"\n",
        "\n",
        "    def __init__(self, name: str, master: str) -> None:\n",
        "        \"\"\"생성자\"\"\"\n",
        "        self._name = name           # 이름\n",
        "        self._master = master       # 주인의 이름\n",
        "\n",
        "    def introduce(self) -> None:\n",
        "        \"\"\"자기 소개\"\"\"\n",
        "        print('제 이름은 {}입니다!'.format(self._name))\n",
        "        print('주인의 이름은 {}입니다!'.format(self._master))\n",
        "\n",
        "    def __str__(self) -> str:\n",
        "        \"\"\"문자열화\"\"\"\n",
        "        return self._name + ' <<' + self._master + '>>'\n",
        "\n",
        "    def print(self) -> None:\n",
        "        \"\"\"출력(__str__이 리턴하는 문자열을 출력하고 개행)\"\"\"\n",
        "        print(self.__str__())\n",
        "\n",
        "class RobotPet(Pet):\n",
        "    \"\"\"로봇 클래스\"\"\"           # 상속을 사용하면 '부모 클래스' (또는 '슈퍼 클래스', '베이스 클래스')의 모든 속성과 메서드를 '자식 클래스' (또는 '서브 클래스', '파생 클래스')가 이어받습니다.\n",
        "                             # 자식 클래스는 추가적인 속성이나 메서드를 정의할 수 있고, 부모 클래스의 메서드를 재정의(오버라이딩)할 수도 있습니다.\n",
        "\n",
        "    def __init__(self, tt: str, mm: str, type_no: str) -> None:  # 초기화변수의 self도 입력되는 변수처럼 해석할때 제일 가까운 정의적인 변수를 따라간다!!! --> 10단원 필기 참고!!\n",
        "        \"\"\"생성자\"\"\"\n",
        "        super().__init__(tt, mm)  # 기본 클래스의 생성자를 호출 // .은 의 를 뜻함을 인지해라! // key=입력되는 변수, 정의적인 변수 구분하기!!\n",
        "        self._type_no = type_no         # 번호 // super().메서드이름(인자)에서 인자는 그 메서드의 self를 건너뛰고 입력된다!--> 약속적인 느낌!\n",
        "\n",
        "    def introduce(self) -> None:        # Pet 클래스의 __init__ 메서드에 tt,mm을 입력해라!\n",
        "        \"\"\"자기 소개\"\"\"\n",
        "        print('◆나는 로봇. 이름은 {}'.format(self._name))\n",
        "        print('◆번호는 {}.'.format(self._type_no))\n",
        "        print('◆내 주인은 {}.'.format(self._master))\n",
        "\n",
        "    def __str__(self) -> str:\n",
        "        \"\"\"문자열화\"\"\"\n",
        "        return(self._name + ' [[' + self._type_no + ']]'\n",
        "                          + ' <<' + self._master + '>>')\n",
        "\n",
        "    def work(self, sw: int) -> None:\n",
        "        \"\"\"집안일을 수행\"\"\"\n",
        "        if   sw == 0: print('청소합니다.')\n",
        "        elif sw == 1: print('세탁합니다.')\n",
        "        elif sw == 2: print('요리합니다.')\n",
        "\n",
        "#  애완동물 클래스와 로봇 클래스 테스트\n",
        "\n",
        "kurt = Pet('Kurt', '소영')\n",
        "kurt.introduce()\n",
        "print(kurt)\n",
        "\n",
        "r2d2 = RobotPet('R2D2', '준우', 'R2')\n",
        "r2d2.introduce()\n",
        "print(r2d2)\n",
        "\n",
        "def self_introduce(obj: object) -> None:\n",
        "    \"\"\"obj에 자기소개를 요청\"\"\"\n",
        "    obj.introduce()\n",
        "\n",
        "self_introduce(kurt)\n",
        "self_introduce(r2d2)\n",
        "\n",
        "#  애완동물 클래스와 로봇 클래스 테스트(계속)\n",
        "\n",
        "# kurt는 Pet타입 인스턴스\n",
        "kurt.print()\n",
        "\n",
        "# r2d2는 RobotPet타입 인스턴스\n",
        "r2d2.print()\n",
        "r2d2.work(1)\n"
      ]
    }
  ],
  "metadata": {
    "colab": {
      "provenance": []
    },
    "kernelspec": {
      "display_name": "Python 3",
      "name": "python3"
    },
    "language_info": {
      "codemirror_mode": {
        "name": "ipython",
        "version": 3
      },
      "file_extension": ".py",
      "mimetype": "text/x-python",
      "name": "python",
      "nbconvert_exporter": "python",
      "pygments_lexer": "ipython3",
      "version": "3.12.3"
    }
  },
  "nbformat": 4,
  "nbformat_minor": 0
}
