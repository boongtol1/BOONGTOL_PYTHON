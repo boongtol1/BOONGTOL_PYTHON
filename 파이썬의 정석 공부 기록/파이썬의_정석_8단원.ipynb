{
  "nbformat": 4,
  "nbformat_minor": 0,
  "metadata": {
    "colab": {
      "provenance": []
    },
    "kernelspec": {
      "name": "python3",
      "display_name": "Python 3"
    },
    "language_info": {
      "name": "python"
    }
  },
  "cells": [
    {
      "cell_type": "code",
      "execution_count": null,
      "metadata": {
        "colab": {
          "base_uri": "https://localhost:8080/"
        },
        "id": "j58lIFiX7Q1i",
        "outputId": "e4e8e5f3-8224-4c91-eae6-86e5bcf98ad2"
      },
      "outputs": [
        {
          "output_type": "stream",
          "name": "stdout",
          "text": [
            "(('최', '하준'), 89, 77)\n",
            "(('이', '서아'), 56, 85)\n",
            "(('김', '서준'), 75, 42)\n"
          ]
        }
      ],
      "source": [
        "# 8장 정리\n",
        "\n",
        "p1 = [75, 56, 89]  # 영어 점수 리스트\n",
        "p2 = [42, 85, 77]  # 수학 점수 리스트\n",
        "\n",
        "# 키가 성이고 이름이 값인 사전\n",
        "name = {\n",
        "    '김': '서준',               # 딕셔너리?---> (여기선) 성과 이름을 대응시킴(매핑)이라 부른다!!!---> 집합과 비교 공부!!\n",
        "    '이': '서아',               # name은 성(성씨)을 키로 하고 이름을 값으로 하는 딕셔너리입니다.\n",
        "    '최': '하준',\n",
        "}\n",
        "\n",
        "# zip화하여 집합 리턴하기(집합의 요소는 튜플형)       # items() 메서드는 파이썬 딕셔너리 (객체)에서 사용되는 메서드 중 하나입니다. 이 메서드는 딕셔너리의 모든 키-값 쌍을 가져와서 각각의 키-값 쌍을 튜플로 묶은 리스트를 반환합니다.\n",
        "\n",
        "                                            # 그러므로 name.items() 는 곧, [('김', '서준'), ('이', '서아'), ('최', '하준')]\n",
        "\n",
        "plist = set(zip((name.items()), p1, p2))      # zip 함수는 순서대로 하나씩 원(요)소를 가져와 튜플로 묶어주는 함수입니다.\n",
        "\n",
        "# 집합의 모든 요소 출력하기                        # zip 함수는 어떤 형태(튜플, 리스트, 집합)든 간에 모두 튜플로 변환한다!\n",
        "for m in plist:\n",
        "    print(m)                             # 집합은 순서 생각 X 중복 허용 X 임을 인지해라!!  원소의 순서의 임의성은 set 함수에서 생김을 인지하자!\n",
        "                                            # 14행의 set 함수는 zip된 요소들을 원소로 하는 집합을 만든다! 이때, 순서는 매번(런타임 끊을때마다) 임의로 잡힌다!! if 런타임 안끊긴 상태?--->변수와 비슷하다고 보면 된다!! 일시적으로 저장되어 있는 느낌!!\n",
        "\n",
        "                                            # 역으로 추론해나가는 사고 과정을 가지자! 결과를 보고 함수나 메서드들의 기능을 파악!"
      ]
    },
    {
      "cell_type": "code",
      "source": [
        "print(name.items())         # 결과 창에서 ...items 바로 오른쪽 옆에 있는 ( 는 dic_items 에 종속인 괄호일 뿐이다! 큰 의미X"
      ],
      "metadata": {
        "colab": {
          "base_uri": "https://localhost:8080/"
        },
        "id": "soy3pbBw8kqe",
        "outputId": "51ce7718-c975-43c1-88d8-b5d962f47518"
      },
      "execution_count": null,
      "outputs": [
        {
          "output_type": "stream",
          "name": "stdout",
          "text": [
            "dict_items([('김', '서준'), ('이', '서아'), ('최', '하준')])\n"
          ]
        }
      ]
    },
    {
      "cell_type": "code",
      "source": [
        "# 두 개의 리스트를 만듭니다.\n",
        "list1 = (1, 2, 3)\n",
        "list2 = ('a', 'b', 'c')\n",
        "\n",
        "# zip 함수를 사용하여 두 리스트를 묶어줍니다.\n",
        "zipped = zip(list1, list2)\n",
        "\n",
        "# 결과를 출력합니다.\n",
        "for item in zipped:\n",
        "    print(item)\n"
      ],
      "metadata": {
        "colab": {
          "base_uri": "https://localhost:8080/"
        },
        "id": "qYydarN92-HV",
        "outputId": "0a9bf13c-5065-40cb-9c07-472bdb3db3b2"
      },
      "execution_count": null,
      "outputs": [
        {
          "output_type": "stream",
          "name": "stdout",
          "text": [
            "(1, 'a')\n",
            "(2, 'b')\n",
            "(3, 'c')\n"
          ]
        }
      ]
    },
    {
      "cell_type": "code",
      "source": [
        "# 두 개의 리스트를 만듭니다.\n",
        "list1 = [1, 2, 3]             # 소괄호는 무효 처리다!! 아무리 많은 소괄호로 감싸도 그 알맹이만 나온다 파이썬에선! 이때 소괄호를 무효처리로 안하고 튜플로 보고싶을때는 어떻게 하는가?\n",
        "list2 = ['a', 'b', 'c']        # 파이썬에서 한 원소만 갖는 튜플을 생성하려면 원소 뒤에 쉼표(,)를 붙여야 합니다. 쉼표를 붙이지 않으면 그냥 값이 됩니다. ex) single_element_tuple = (42,)\n",
        "\n",
        "\n",
        "\n",
        "# zip 함수를 사용하여 두 리스트를 묶어줍니다.\n",
        "zipped = zip(list1, list2)\n",
        "\n",
        "\n",
        "# 결과를 출력합니다.\n",
        "for item in zipped:\n",
        "    print(item)\n"
      ],
      "metadata": {
        "colab": {
          "base_uri": "https://localhost:8080/"
        },
        "id": "0xE4nCgf3hsJ",
        "outputId": "656a5993-103e-4faf-e8c2-dd73694d3bd6"
      },
      "execution_count": null,
      "outputs": [
        {
          "output_type": "stream",
          "name": "stdout",
          "text": [
            "(1, 'a')\n",
            "(2, 'b')\n",
            "(3, 'c')\n"
          ]
        }
      ]
    },
    {
      "cell_type": "code",
      "source": [
        "# 두 개의 리스트를 만듭니다.\n",
        "list1 = {1, 2, 3 }\n",
        "list2 = {'a', 'b', 'c'}\n",
        "\n",
        "# zip 함수를 사용하여 두 리스트를 묶어줍니다.\n",
        "zipped = zip(list1, list2)\n",
        "\n",
        "# 결과를 출력합니다.\n",
        "for item in zipped:\n",
        "    print(item)\n"
      ],
      "metadata": {
        "colab": {
          "base_uri": "https://localhost:8080/"
        },
        "id": "D01RrZcm6xRm",
        "outputId": "c4865c5e-5523-40ce-f531-4352790a6b74"
      },
      "execution_count": null,
      "outputs": [
        {
          "output_type": "stream",
          "name": "stdout",
          "text": [
            "(1, 'b')\n",
            "(2, 'a')\n",
            "(3, 'c')\n"
          ]
        }
      ]
    },
    {
      "cell_type": "code",
      "source": [
        "set(zip(), [1,2], [2,3])"
      ],
      "metadata": {
        "colab": {
          "base_uri": "https://localhost:8080/",
          "height": 144
        },
        "id": "EunoaaQM4TAL",
        "outputId": "798d1879-ae29-4b67-9a55-ccad0a40c1e9"
      },
      "execution_count": null,
      "outputs": [
        {
          "output_type": "error",
          "ename": "SyntaxError",
          "evalue": "ignored",
          "traceback": [
            "\u001b[0;36m  File \u001b[0;32m\"<ipython-input-3-9ba9a2aa0013>\"\u001b[0;36m, line \u001b[0;32m1\u001b[0m\n\u001b[0;31m    set(zip(), [1,2], [2,3]))\u001b[0m\n\u001b[0m                            ^\u001b[0m\n\u001b[0;31mSyntaxError\u001b[0m\u001b[0;31m:\u001b[0m unmatched ')'\n"
          ]
        }
      ]
    }
  ]
}