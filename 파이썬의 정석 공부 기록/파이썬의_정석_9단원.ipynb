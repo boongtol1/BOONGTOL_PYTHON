{
  "cells": [
    {
      "cell_type": "code",
      "execution_count": null,
      "metadata": {
        "colab": {
          "base_uri": "https://localhost:8080/"
        },
        "id": "GWy4cBYyODkU",
        "outputId": "af94934c-6932-418b-93d0-2276a0e930ff"
      },
      "outputs": [
        {
          "name": "stdout",
          "output_type": "stream",
          "text": [
            "range_of(1, 5)           =  4\n",
            "range_of(1, -3, 2, 5, 4) =  8\n"
          ]
        },
        {
          "data": {
            "text/plain": [
              "0"
            ]
          },
          "execution_count": 1,
          "metadata": {},
          "output_type": "execute_result"
        }
      ],
      "source": [
        "# 9장 정리\n",
        "\n",
        "def range_of(*v):\n",
        "    \"\"\"최댓값과 최솟값의 차를 리턴\"\"\"               # 매개변수(parameter)는 함수가 호출될 때 함수의 입력으로 전달되는 값을 저장하는 변수입니다.(여기서는 v!!)\n",
        "    return abs(max(v) - min(v))\n",
        "\n",
        "print('range_of(1, 5)           = ', range_of(1, 5))\n",
        "print('range_of(1, -3, 2, 5, 4) = ', range_of(1, -3, 2, 5, 4))\n",
        "\n",
        "range_of(1,8,3,9) #--> range_of(1,8,3,9) 는 8과 동치다!!!!\n",
        "                                         #(출력 기능 vs 반환 기능):(print , return)\n",
        "                                       # return 과 print의 차이점1: return 된 값은 새로운 변수로 할당될수 있는 반면에 print (자체)는 반환 값이 없습니다.(반환 값이 'None'이다.)\n",
        "range_of(6)                                   # return 과 print의 차이점2: return된 존재는 값 자체다. 따라서 코드행의 마지막 부분만 출력된다 if print함수 안쓸때!-->(1+2 예시 들어 이해하기!)"
      ]
    },
    {
      "cell_type": "code",
      "execution_count": 3,
      "metadata": {
        "colab": {
          "base_uri": "https://localhost:8080/"
        },
        "id": "xqv2Pz7pEnRW",
        "outputId": "441265c0-8906-41af-db0a-cc4c6c85e06b"
      },
      "outputs": [
        {
          "name": "stdout",
          "output_type": "stream",
          "text": [
            "1\n",
            "5\n",
            "range_of(1, 5)           =  None\n",
            "1\n",
            "-3\n",
            "2\n",
            "5\n",
            "4\n",
            "range_of(1, -3, 2, 5, 4) =  None\n",
            "6\n",
            "4\n",
            "ㅎ\n",
            "None\n"
          ]
        }
      ],
      "source": [
        "# 9장 정리\n",
        "\n",
        "def example_function(*v):     # 함수 이름은 example_function이고, 매개변수로 *v가 있습니다. *v는 가변 인수를 나타내며, 이는 함수를 호출할 때 여러 개의 인수를 전달할 수 있도록 합니다.\n",
        "    for value in v:           # 함수의 정의에서 *v는 가변 인수를 나타냅니다. 가변 인수는 함수를 호출할 때 전달되는 인수의 개수에 상관없이 모든 인수를 하나의 튜플로 묶어서 받을 수 있도록 합니다.\n",
        "        print(value)\n",
        "\n",
        "\n",
        "\n",
        "print('range_of(1, 5)           = ', example_function(1, 5))            # 알아낸것?--->,는 +와 다르게 문자열끼리의 연결하는것 뿐만 아니라 모든 형태의 값을 연결할수 있다!(print 함수에서) 이때 공백은 자동으로 추가되는 성질은 항상 유지된다!\n",
        "print('range_of(1, -3, 2, 5, 4) = ', example_function(1, -3, 2, 5, 4))\n",
        "\n",
        "print(example_function(6,4,2))"
      ]
    },
    {
      "cell_type": "code",
      "execution_count": null,
      "metadata": {
        "id": "3MLDZEPPgcDV"
      },
      "outputs": [],
      "source": []
    },
    {
      "cell_type": "code",
      "execution_count": 2,
      "metadata": {
        "colab": {
          "base_uri": "https://localhost:8080/"
        },
        "id": "tkeRHFCkTbZy",
        "outputId": "2b0325f9-cd1c-4689-9e72-3cf269b5da0a"
      },
      "outputs": [
        {
          "ename": "NameError",
          "evalue": "name 'range_of' is not defined",
          "output_type": "error",
          "traceback": [
            "\u001b[0;31m---------------------------------------------------------------------------\u001b[0m",
            "\u001b[0;31mNameError\u001b[0m                                 Traceback (most recent call last)",
            "Cell \u001b[0;32mIn[2], line 5\u001b[0m\n\u001b[1;32m      2\u001b[0m     \u001b[38;5;28;01mfor\u001b[39;00m value \u001b[38;5;129;01min\u001b[39;00m v:           \u001b[38;5;66;03m# 함수의 정의에서 *v는 가변 인수를 나타냅니다. 가변 인수는 함수를 호출할 때 전달되는 인수의 개수에 상관없이 모든 인수를 하나의 튜플로 묶어서 받을 수 있도록 합니다.\u001b[39;00m\n\u001b[1;32m      3\u001b[0m         \u001b[38;5;28mprint\u001b[39m(value)\n\u001b[0;32m----> 5\u001b[0m \u001b[38;5;28mprint\u001b[39m(\u001b[38;5;124m'\u001b[39m\u001b[38;5;124mrange_of(1, 5)           = \u001b[39m\u001b[38;5;124m'\u001b[39m, \u001b[43mrange_of\u001b[49m(\u001b[38;5;241m1\u001b[39m, \u001b[38;5;241m5\u001b[39m))            \u001b[38;5;66;03m# 알아낸것?--->,는 +와 다르게 문자열끼리의 연결하는것 뿐만 아니라 모든 형태의 값을 연결할수 있다!(print 함수에서) 이때 공백은 자동으로 추가되는 성질은 항상 유지된다!\u001b[39;00m\n\u001b[1;32m      6\u001b[0m \u001b[38;5;28mprint\u001b[39m(\u001b[38;5;124m'\u001b[39m\u001b[38;5;124mrange_of(1, -3, 2, 5, 4) = \u001b[39m\u001b[38;5;124m'\u001b[39m, range_of(\u001b[38;5;241m1\u001b[39m, \u001b[38;5;241m-\u001b[39m\u001b[38;5;241m3\u001b[39m, \u001b[38;5;241m2\u001b[39m, \u001b[38;5;241m5\u001b[39m, \u001b[38;5;241m4\u001b[39m))\n",
            "\u001b[0;31mNameError\u001b[0m: name 'range_of' is not defined"
          ]
        }
      ],
      "source": [
        "def example_function(*v):     # 함수 이름은 example_function이고, 매개변수로 *v가 있습니다. *v는 가변 인수를 나타내며, 이는 함수를 호출할 때 여러 개의 인수를 전달할 수 있도록 합니다.\n",
        "    for value in v:           # 함수의 정의에서 *v는 가변 인수를 나타냅니다. 가변 인수는 함수를 호출할 때 전달되는 인수의 개수에 상관없이 모든 인수를 하나의 튜플로 묶어서 받을 수 있도록 합니다.\n",
        "        print(value)\n",
        "\n",
        "print('range_of(1, 5)           = ', range_of(1, 5))            # 알아낸것?--->,는 +와 다르게 문자열끼리의 연결하는것 뿐만 아니라 모든 형태의 값을 연결할수 있다!(print 함수에서) 이때 공백은 자동으로 추가되는 성질은 항상 유지된다!\n",
        "print('range_of(1, -3, 2, 5, 4) = ', range_of(1, -3, 2, 5, 4))\n",
        "\n"
      ]
    },
    {
      "cell_type": "code",
      "execution_count": null,
      "metadata": {
        "colab": {
          "base_uri": "https://localhost:8080/"
        },
        "id": "yYcc2gueTep0",
        "outputId": "09a56112-efaa-4673-d66a-c120ce6b934f"
      },
      "outputs": [
        {
          "name": "stdout",
          "output_type": "stream",
          "text": [
            "6 7 8\n",
            "a None\n"
          ]
        }
      ],
      "source": [
        "print('a', print(6,7,8))         # 튜플 (7,)는 곧 (7)과 표현상 동치!!"
      ]
    },
    {
      "cell_type": "code",
      "execution_count": null,
      "metadata": {
        "colab": {
          "base_uri": "https://localhost:8080/"
        },
        "id": "BRULLwkJpnq-",
        "outputId": "34c89ae9-eba1-4a75-c8e8-15fa0541dcde"
      },
      "outputs": [
        {
          "name": "stdout",
          "output_type": "stream",
          "text": [
            "77\n",
            "None\n"
          ]
        }
      ],
      "source": [
        "def example_function(v):     # 고정된 수의 매개변수는 함수를 정의할 때 미리 정해진 개수의 매개변수를 말합니다.(여기서는 1개!(v)) 즉, 함수를 호출할 때마다 전달되는 인수의 개수가 일정하게 고정되어 있습니다.\n",
        "    for value in v:          # 가변적인<-->고정적인\n",
        "        print(value)         # 매개변수(parameter)는 함수가 호출될 때 함수의 입력으로 전달되는 값을 저장하는 변수입니다.\n",
        "\n",
        "result = example_function(range(77,78))     # 파이썬에서 수 객체는 반복 가능한(iterable) 객체가 아닙니다.---> for,while 문 사용시 주의!\n",
        "print(result)  # 출력: None\n",
        "                                            #  정수나 부동소수점 수에 대해 순회를 수행하는 것은 불가능합니다."
      ]
    },
    {
      "cell_type": "code",
      "execution_count": null,
      "metadata": {
        "colab": {
          "base_uri": "https://localhost:8080/"
        },
        "id": "0PZoZqTlppdn",
        "outputId": "33d39294-e4fc-48de-fbba-c1ad58eb518b"
      },
      "outputs": [
        {
          "name": "stdout",
          "output_type": "stream",
          "text": [
            "1\n",
            "2\n",
            "3\n"
          ]
        }
      ],
      "source": [
        "example_function((1,2,3))\n"
      ]
    },
    {
      "cell_type": "code",
      "execution_count": null,
      "metadata": {
        "colab": {
          "base_uri": "https://localhost:8080/"
        },
        "id": "S-NgfunTRxvp",
        "outputId": "3edd49d8-c4b2-4a85-90ac-52189ccced74"
      },
      "outputs": [
        {
          "name": "stdout",
          "output_type": "stream",
          "text": [
            "77\n",
            "None\n"
          ]
        }
      ],
      "source": [
        "result = example_function((77,))\n",
        "print(result)  # 출력: None\n",
        "\n"
      ]
    },
    {
      "cell_type": "code",
      "execution_count": null,
      "metadata": {
        "colab": {
          "base_uri": "https://localhost:8080/"
        },
        "id": "V2v4NZxoX4M-",
        "outputId": "bf4aa2d0-6bf5-4ad2-ddf5-e14e7cc7b38a"
      },
      "outputs": [
        {
          "name": "stdout",
          "output_type": "stream",
          "text": [
            "8\n"
          ]
        }
      ],
      "source": [
        "print(range_of(1, -3, 2, 5, 4))"
      ]
    },
    {
      "cell_type": "code",
      "execution_count": null,
      "metadata": {
        "colab": {
          "base_uri": "https://localhost:8080/"
        },
        "id": "w79V-Ouaid2z",
        "outputId": "b1dd895a-7425-44cd-fcfc-1980a48a7156"
      },
      "outputs": [
        {
          "name": "stdout",
          "output_type": "stream",
          "text": [
            "\n",
            "None\n",
            "<built-in function abs>\n"
          ]
        }
      ],
      "source": [
        "print(print())\n",
        "                                            # 인식할것 3가지  1. 속함수부터 실행된다\n",
        "                                          # 2. print(어떤 함수 그 자체)---> (아직 잘 모르지만) 객체로 출력된다.\n",
        "                                          # 3. 어떤함수()에서 ()의 존재는 이 어떤함수의 입력이 존재한다는 의미이다 cf)() 만 쓰면?---> 입력이 존재하지 않는 입력이 존재한것! cf) 공백은 '무'로 취급된다!\n",
        "print(abs)                                          #   print(어떤함수(...))은 그 어떤함수의 리턴값을 출력한다!---> 속함수가 온전히 실행된다 함을 인지해라!\n",
        "                                           # cf) 함수가 리턴값이 있는 상태로 정의되어 있는 특수한 경우에는 그 함수(...)을 해도 리턴값이 출력된다!\n",
        "                                           # 함수가 리턴값이 (None이면) 정의되어있지 않으면, 그저 함수의 기능을 충실히 수행한다. 그 함수(...)는\n",
        "\n"
      ]
    },
    {
      "cell_type": "code",
      "execution_count": null,
      "metadata": {
        "colab": {
          "base_uri": "https://localhost:8080/"
        },
        "id": "lN3X-ShpTIDS",
        "outputId": "0eff1c2f-2273-4d5b-e899-e36c89bf2089"
      },
      "outputs": [
        {
          "name": "stdout",
          "output_type": "stream",
          "text": [
            "Hello!\n"
          ]
        }
      ],
      "source": [
        "def greet():\n",
        "    print(\"Hello!\")             # 함수를 정의할때 꼭 매개변수를 안써도 된다!             (매개변수가 없다--->나중에 함수를 호출할때 입력한 존재를 저장할 변수가 존재하지 않는다!(는 곧, 호출할때 입력할수 없다!) (단, 여기서의 입력은, 입력이 존재하지 않는 입력 제외!))---> 현학적인 part!\n",
        "                                # just 이렇게 이해하자---> 매개변수 1개---> 한개의 값// 매개변수 0개---> 0개의 값! ...\n",
        "                                # 파이썬에서 함수를 정의할 때는 함수명 뒤에 괄호 ()가 필요합니다.\n",
        "                                # 매개변수 없이 함수를 정의할 때는 괄호를 (안쓸수 없고)비워둘 수 없고, 반드시 ()를 사용하여 함수를 정의해야 합니다.\n",
        "greet() # 함수 호출\n",
        "\n",
        "            # 매개변수(parameter)는 함수가 호출될 때 함수의 입력으로 전달되는 값을 저장하는 변수입니다. cf) 공백은 '무'로 취급된다!"
      ]
    }
  ],
  "metadata": {
    "colab": {
      "provenance": []
    },
    "kernelspec": {
      "display_name": "Python 3",
      "name": "python3"
    },
    "language_info": {
      "codemirror_mode": {
        "name": "ipython",
        "version": 3
      },
      "file_extension": ".py",
      "mimetype": "text/x-python",
      "name": "python",
      "nbconvert_exporter": "python",
      "pygments_lexer": "ipython3",
      "version": "3.12.3"
    }
  },
  "nbformat": 4,
  "nbformat_minor": 0
}
