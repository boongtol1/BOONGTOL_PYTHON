{
  "nbformat": 4,
  "nbformat_minor": 0,
  "metadata": {
    "colab": {
      "provenance": []
    },
    "kernelspec": {
      "name": "python3",
      "display_name": "Python 3"
    },
    "language_info": {
      "name": "python"
    }
  },
  "cells": [
    {
      "cell_type": "code",
      "execution_count": null,
      "metadata": {
        "colab": {
          "base_uri": "https://localhost:8080/"
        },
        "id": "nsS7PTAMIar3",
        "outputId": "6f85e331-67f9-4b29-d05d-d96a8105f3ae"
      },
      "outputs": [
        {
          "output_type": "stream",
          "name": "stdout",
          "text": [
            "제 이름은 뭉이입니다!\n",
            "주인의 이름은 승훈입니다!\n",
            "뭉이 <<승훈>>\n",
            "str(moong) = 뭉이 <<승훈>>\n",
            "뭉이 <<승훈>>\n",
            "승훈\n",
            "<bound method Pet.__str__ of <__main__.Pet object at 0x7af8e375ae30>>\n",
            "<class '__main__.Pet'>\n"
          ]
        }
      ],
      "source": [
        "# 애완동물 클래스\n",
        "\n",
        "class Pet:\n",
        "    \"\"\"애완 동물 클래스\"\"\"\n",
        "\n",
        "    def __init__(tt, name: str, master: str) -> None:     # 파이썬에서 클래스의 생성자는 __init__ 메서드와 같은 의미이다.(곧, __init__ 메서드는 클래스의 생성자!)\n",
        "        \"\"\"생성자\"\"\"                                          # 생성자의 주요 목적은 객체의 초기화를 수행하는 것입니다. how?--> 초기화 변수를 정의함으로써!!!\n",
        "                                                            # 객체가 만들어짐과 동시에 자동으로 호출된다!--> 객체가 만들어진다함?--> Pet('Kurt', '소영')과 같이 한다함!\n",
        "                                                           # Pet('Kurt', '소영') 과 같이 할때 생성자의 첫번째 위치의 매개변수를 제치고 그 다음부터 차례대로 값이 입력된다. // self는 예약어가 아니다!\n",
        "        tt.t = name\n",
        "        tt.s = master\n",
        "                                                            # 초기화 변수의 특징?--> 'self.'이 무조건 선행되는 형식을 지닌다! and 무조건 정의적인 변수!\n",
        "                                                            # 초기화 변수의 구조?--> 1.'self'--> 현재 객체를 의미함 ,2. '.'--> '의'를 의미함. 3.초기화 변수의 나머지 part-->현재 객체의 속성(성질)을 의미함!\n",
        "    def introduce(tt) -> None:                            # 이때, 초기화 변수는 self.R 자체(덩어리)를 말한다! --> 초기화 변수는 변수의 이름 각각에 의미가 부여되어 있다.\n",
        "        \"\"\"자기소개\"\"\"                                       # 이때, 속성의 이름이 1개 or 2개의 _ 로 시작하면?--> 관례적으로 이 클래스 밖에서 이 속성에 관해 쓰지 말라는 소리! but 강제성은 없다!(메서드도 같은 맥락에서의 관례를 따른다!--> _ 2개!)\n",
        "        print('제 이름은 {}입니다!'.format(tt.t))            # what is 클래스 밖?--> 클래스에 종속되어있지 않은 코딩공간! , 속성에 접근한다 함?--> 속성의 이름을 쓰는것을 의미함! 메서드에 접근한다 함도 메서드의 이름을 쓰는 것을 의미한다!(9단원 필기 참고!)\n",
        "        print('주인의 이름은 {}입니다!'.format(tt.s))          # 접근의 뜻 : (현재) 기억 장치에(메모리에) 들어 있는 데이터를 탐색하고 읽는(인식하는) 과정.(속성과 메서드 뿐만아니라 임의의 객체에서도 적용 가능!)\n",
        "\n",
        "    def __str__(tt) -> str:\n",
        "        \"\"\"문자열화\"\"\"\n",
        "        return tt.t + ' <<' + tt.s + '>>'\n",
        "\n",
        "    def print(tt) -> None:\n",
        "        \"\"\"출력(__str__이 리턴하는 문자열을 출력하고 개행)\"\"\"\n",
        "        print(tt.__str__())\n",
        "\n",
        "# 애완동물 클래스 테스트\n",
        "moong = Pet('뭉이', '승훈')\n",
        "moong = Pet('뭉이', '승훈')\n",
        "moong.introduce()\n",
        "print(moong)\n",
        "print('str(moong) = ' + str(moong))\n",
        "moong.print()\n",
        "print(moong.s)\n",
        "print(moong.__str__)\n",
        "print(type(moong))"
      ]
    },
    {
      "cell_type": "code",
      "source": [
        "class MyClass:\n",
        "    def __init__(self, value):\n",
        "        self._protected_variable = value\n",
        "\n",
        "# 클래스의 인스턴스 생성\n",
        "obj = MyClass(42)\n",
        "\n",
        "# 외부에서 직접 속성에 접근 (비추천)\n",
        "print(obj._protected_variable)  # 출력: 42\n"
      ],
      "metadata": {
        "colab": {
          "base_uri": "https://localhost:8080/"
        },
        "id": "FC7KCSRcuMvq",
        "outputId": "3879f97f-cb96-40fa-9daa-08db0e5dac60"
      },
      "execution_count": null,
      "outputs": [
        {
          "output_type": "stream",
          "name": "stdout",
          "text": [
            "42\n"
          ]
        }
      ]
    },
    {
      "cell_type": "code",
      "source": [
        "class MyClass:\n",
        "    def __init__(self, name):\n",
        "        self.name = name\n",
        "\n",
        "    def print_name(self):\n",
        "        print(\"이름:\", self.name)\n",
        "\n",
        "# 객체(instance) 생성\n",
        "obj = MyClass(\"John\")\n",
        "\n",
        "# 메서드 호출 (self가 자동으로 전달됨)\n",
        "obj.print_name()\n"
      ],
      "metadata": {
        "id": "MHy0zxwWHFik"
      },
      "execution_count": null,
      "outputs": []
    }
  ]
}