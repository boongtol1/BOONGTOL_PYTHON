{
  "nbformat": 4,
  "nbformat_minor": 0,
  "metadata": {
    "colab": {
      "provenance": []
    },
    "kernelspec": {
      "name": "python3",
      "display_name": "Python 3"
    },
    "language_info": {
      "name": "python"
    }
  },
  "cells": [
    {
      "cell_type": "code",
      "execution_count": null,
      "metadata": {
        "colab": {
          "base_uri": "https://localhost:8080/"
        },
        "id": "YEajj65g-rZB",
        "outputId": "cd10dce0-8281-48dd-eb17-cc22dacc029d"
      },
      "outputs": [
        {
          "output_type": "stream",
          "name": "stdout",
          "text": [
            "a, b, c = 5, 7, 7\n",
            "id(5) = 132098771550576\n",
            "id(7) = 132098771550640\n",
            "id(a) = 132098771550576\n",
            "id(b) = 132098771550640\n",
            "id(c) = 132098771550640\n",
            "\n",
            "a와 b를 교환하고, c를 1 증가\n",
            "a, b, c = 7, 5, 8\n",
            "id(5) = 132098771550576\n",
            "id(7) = 132098771550640\n",
            "id(8) = 132098771550672\n",
            "id(a) = 132098771550640\n",
            "id(b) = 132098771550576\n",
            "id(c) = 132098771550672\n",
            "a is 5 = False\n",
            "a is 7 = True\n",
            "a is 8 = False\n"
          ]
        },
        {
          "output_type": "stream",
          "name": "stderr",
          "text": [
            "<>:24: SyntaxWarning: \"is\" with a literal. Did you mean \"==\"?\n",
            "<>:25: SyntaxWarning: \"is\" with a literal. Did you mean \"==\"?\n",
            "<>:26: SyntaxWarning: \"is\" with a literal. Did you mean \"==\"?\n",
            "<>:24: SyntaxWarning: \"is\" with a literal. Did you mean \"==\"?\n",
            "<>:25: SyntaxWarning: \"is\" with a literal. Did you mean \"==\"?\n",
            "<>:26: SyntaxWarning: \"is\" with a literal. Did you mean \"==\"?\n",
            "<ipython-input-1-fd50376b997a>:24: SyntaxWarning: \"is\" with a literal. Did you mean \"==\"?\n",
            "  print('a is 5 = {}'.format(a is 5))\n",
            "<ipython-input-1-fd50376b997a>:25: SyntaxWarning: \"is\" with a literal. Did you mean \"==\"?\n",
            "  print('a is 7 = {}'.format(a is 7))\n",
            "<ipython-input-1-fd50376b997a>:26: SyntaxWarning: \"is\" with a literal. Did you mean \"==\"?\n",
            "  print('a is 8 = {}'.format(a is 8))\n"
          ]
        }
      ],
      "source": [
        "# 5장 정리\n",
        "\n",
        "a, b = 5, 7\n",
        "c = b\n",
        "print('a, b, c = {}, {}, {}'.format(a, b, c))\n",
        "print('id(5) = {}'.format(id(5)))\n",
        "print('id(7) = {}'.format(id(7)))\n",
        "print('id(a) = {}'.format(id(a)))\n",
        "print('id(b) = {}'.format(id(b)))\n",
        "print('id(c) = {}'.format(id(c)))\n",
        "print()\n",
        "\n",
        "a, b = b, a     #a=7 , b=5\n",
        "c += 1         #c=8\n",
        "\n",
        "print('a와 b를 교환하고, c를 1 증가')\n",
        "print('a, b, c = {}, {}, {}'.format(a, b, c))\n",
        "print('id(5) = {}'.format(id(5)))\n",
        "print('id(7) = {}'.format(id(7)))\n",
        "print('id(8) = {}'.format(id(8)))\n",
        "print('id(a) = {}'.format(id(a)))\n",
        "print('id(b) = {}'.format(id(b)))\n",
        "print('id(c) = {}'.format(id(c)))\n",
        "print('a is 5 = {}'.format(a is 5))\n",
        "print('a is 7 = {}'.format(a is 7))\n",
        "print('a is 8 = {}'.format(a is 8))\n"
      ]
    },
    {
      "cell_type": "code",
      "source": [
        "n=''\n",
        "id(n)"
      ],
      "metadata": {
        "colab": {
          "base_uri": "https://localhost:8080/"
        },
        "id": "vtd-dzfrWkSJ",
        "outputId": "1ba29ef9-d6f5-4c02-e94f-53e65ba102a4"
      },
      "execution_count": null,
      "outputs": [
        {
          "output_type": "execute_result",
          "data": {
            "text/plain": [
              "132368774876112"
            ]
          },
          "metadata": {},
          "execution_count": 10
        }
      ]
    },
    {
      "cell_type": "code",
      "source": [],
      "metadata": {
        "id": "Rde2FaFoWmHu"
      },
      "execution_count": null,
      "outputs": []
    }
  ]
}