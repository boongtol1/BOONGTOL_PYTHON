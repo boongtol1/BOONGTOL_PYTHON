{
  "nbformat": 4,
  "nbformat_minor": 0,
  "metadata": {
    "colab": {
      "provenance": []
    },
    "kernelspec": {
      "name": "python3",
      "display_name": "Python 3"
    },
    "language_info": {
      "name": "python"
    }
  },
  "cells": [
    {
      "cell_type": "code",
      "execution_count": null,
      "metadata": {
        "id": "a7RaVfTMqfQc",
        "colab": {
          "base_uri": "https://localhost:8080/"
        },
        "outputId": "f7357b70-21e1-4edb-85de-978fd6e9fdfb"
      },
      "outputs": [
        {
          "output_type": "stream",
          "name": "stdout",
          "text": [
            "0001 # 13장 정리1(파일 자기 자신의 내용을 행 번호와 함께 출력하기) \n",
            "0002 \n",
            "0003 with open('gist1.py', 'r', encoding='utf8') as f:\n",
            "0004     for i, line in enumerate(f, 1):\n",
            "0005         print(f'{i:04} {line}', end='')\n"
          ]
        }
      ],
      "source": [
        "# 13장 정리1(파일 자기 자신의 내용을 행 번호와 함께 출력하기)\n",
        "\n",
        "with open('gist1.py', 'r', encoding='utf8') as f:\n",
        "     for i, line in enumerate(f, 1):    # enumerate(f, 1)는 파일 f의 각 줄을 순회하면서, 각 줄에 대한 인덱스(여기서는 줄 번호)와 그 줄의 내용을 반환합니다.\n",
        "        print(f'{i:04} {line}', end='')\n",
        "\n",
        "# 요약하자면, 파이썬의 표준 라이브러리 io 모듈의 _io.TextIOWrapper 클래스가 존재하는데, open 함수의 반환값이 _io.TextIOWrapper 클래스의 파일 객체이다.\n",
        "# 클래스의 인스턴스가 어떤 과정이던지 존재했으니까 _io.TextIOWrapper 클래스의 생성자(__init__)가 호출되고 __enter__와__exit__ 메서드들도 자동으로 호출된다. 이때,\n",
        "# 0. __init__ 메서드가 호출되어 초기화를 수행한다.\n",
        "# 1.__enter__ 메서드가 호출되어 파일이 열리고 파일 객체가 반환됩니다.--> 다시한번 생성자의 호출이 일어나지 않음!\n",
        "# 2.with 블록의 코드가 실행됩니다.\n",
        "# 3.블록의 실행이 끝나면, __exit__ 메서드가 호출되어 파일이 자동으로 닫힙니다.\n",
        "# 객체가 이미 생성되었다면, 일반적으로 생성자(__init__)를 다시 호출할 필요는 없습니다.\n",
        "# 객체의 생명주기 중에서 생성자는 객체가 처음 생성될 때 단 한 번 호출되어 객체의 초기 상태를 설정합니다.\n"
      ]
    },
    {
      "cell_type": "code",
      "source": [
        "f=open('gist1.py', 'r', encoding='utf8')    # Python에서 open 함수는 파일 객체를 반환합니다.\n",
        "f.close                                     # 파이썬의 open 함수가 반환하는 \"파일 객체\"는 파일과 상호작용할 수 있는 특별한 종류의 객체입니다.\n",
        "print(f)"
      ],
      "metadata": {
        "colab": {
          "base_uri": "https://localhost:8080/"
        },
        "id": "V2U0a4vR_x-h",
        "outputId": "a18dca7b-9ddb-413b-a82c-30bafff5586e"
      },
      "execution_count": null,
      "outputs": [
        {
          "output_type": "stream",
          "name": "stdout",
          "text": [
            "<_io.TextIOWrapper name='gist1.py' mode='r' encoding='utf8'>\n"
          ]
        }
      ]
    },
    {
      "cell_type": "code",
      "source": [
        "class TextIOWrapper:\n",
        "    def __init__(self, filename):\n",
        "        self.filename = filename\n",
        "\n",
        "    def __enter__(self):\n",
        "        self.file = open(self.filename, 'r')\n",
        "        return self.file\n",
        "\n",
        "    def __exit__(self, exc_type, exc_val, exc_tb):\n",
        "        if self.file:\n",
        "            self.file.close()\n",
        "        if exc_type is not None:\n",
        "            print(f\"An exception occurred: {exc_val}\")\n",
        "        return True  # 예외가 있어도 계속 진행\n",
        "\n"
      ],
      "metadata": {
        "id": "g1vlhsUUKl4s"
      },
      "execution_count": null,
      "outputs": []
    },
    {
      "cell_type": "code",
      "source": [
        "# 파일을 열고, 내용을 읽은 후, 파일을 닫는 코드\n",
        "f = open('gist1.py', 'r')  # 파일을 읽기 모드로 열기\n",
        "print(type(f))  # <class '_io.TextIOWrapper'>\n"
      ],
      "metadata": {
        "colab": {
          "base_uri": "https://localhost:8080/"
        },
        "id": "7dxj1tOcWDqk",
        "outputId": "36698281-9e66-4b9d-b41f-ae74b8dd7bb0"
      },
      "execution_count": null,
      "outputs": [
        {
          "output_type": "stream",
          "name": "stdout",
          "text": [
            "<class '_io.TextIOWrapper'>\n"
          ]
        }
      ]
    },
    {
      "cell_type": "code",
      "source": [
        "print(enumerate(f, 1))"
      ],
      "metadata": {
        "colab": {
          "base_uri": "https://localhost:8080/"
        },
        "id": "jYygAFRZz0NT",
        "outputId": "2cbfedc2-9d39-4944-e80b-f49f89c07b76"
      },
      "execution_count": null,
      "outputs": [
        {
          "output_type": "stream",
          "name": "stdout",
          "text": [
            "<enumerate object at 0x79b718c5d6c0>\n"
          ]
        }
      ]
    }
  ]
}