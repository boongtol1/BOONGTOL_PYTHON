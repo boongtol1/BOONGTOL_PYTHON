{
  "nbformat": 4,
  "nbformat_minor": 0,
  "metadata": {
    "colab": {
      "provenance": []
    },
    "kernelspec": {
      "name": "python3",
      "display_name": "Python 3"
    },
    "language_info": {
      "name": "python"
    }
  },
  "cells": [
    {
      "cell_type": "code",
      "execution_count": null,
      "metadata": {
        "colab": {
          "base_uri": "https://localhost:8080/"
        },
        "id": "-oJShR1Ra3so",
        "outputId": "fd9a0f7b-e899-4690-ce6c-3862c9e1af23"
      },
      "outputs": [
        {
          "output_type": "stream",
          "name": "stdout",
          "text": [
            "문자열 s1：ㅓㅓ\n",
            "문자열 s2：ㅓ\n",
            "ㅓㅓ\n",
            "ㅓ\n",
            "\n",
            "해당 부분을 반전하였습니다.\n",
            "ㅓㅓ\n",
            "\n",
            "해당 부분을 삭제했습니다.\n",
            "\n",
            "\n",
            "실수 값：9.8\n",
            "전체 자릿수：9\n",
            "소수부 자릿수：9\n",
            "9.800000000\n"
          ]
        }
      ],
      "source": [
        "# 6장 정리\n",
        "\n",
        "s1 = input('문자열 s1：')\n",
        "s2 = input('문자열 s2：')\n",
        "\n",
        "idx = s1.find(s2)\n",
        "if idx == -1:\n",
        "    print('s1에 s2는 포합되어 있지 않습니다.')\n",
        "else:\n",
        "    print(s1)\n",
        "    # 공백 idx개 뒤에 s2를 출력\n",
        "    print(' ' * idx, end='')\n",
        "    print(s2)\n",
        "\n",
        "    # s1에 포함된 s2 전체를 반전\n",
        "    s1 = s1.replace(s2, s2[::-1])  #s1.replace(s2, s2[::-1])은 s1에서 s2를 s2[::-1]로 대체합니다.\n",
        "    print()\n",
        "    print('해당 부분을 반전하였습니다.')\n",
        "    print(s1)\n",
        "\n",
        "    # s1에 포함된 s2[::-1] 전체를 제거\n",
        "    s1 = s1.replace(s2[::-1], '')\n",
        "    print()\n",
        "    print('해당 부분을 삭제했습니다.')\n",
        "    print(s1)\n",
        "print()\n",
        "\n",
        "# format 메소드의 용례\n",
        "x = float(input('실수 값：'))\n",
        "w = int(input('전체 자릿수：'))\n",
        "p = int(input('소수부 자릿수：'))\n",
        "\n",
        "print('{{:{}.{}f}}'.format(w, p).format(x))\n"
      ]
    },
    {
      "cell_type": "code",
      "source": [
        "s1 = \"HelloWorld\"\n",
        "s2 = \"e\"\n",
        "\n",
        "idx = s1.find(s2)\n",
        "\n",
        "if idx != -1:\n",
        "    print(f\"'{s2}'는 '{s1}'에서 {idx}번째 위치에서 발견되었습니다.\")\n",
        "else:\n",
        "    print(f\"'{s2}'는 '{s1}'에 포함되어 있지 않습니다.\")\n"
      ],
      "metadata": {
        "colab": {
          "base_uri": "https://localhost:8080/"
        },
        "id": "Rhlj1sTtl3MC",
        "outputId": "b19ca83e-fe5b-4113-c2a5-cb23ffaf2085"
      },
      "execution_count": null,
      "outputs": [
        {
          "output_type": "stream",
          "name": "stdout",
          "text": [
            "'e'는 'HelloWorld'에서 1번째 위치에서 발견되었습니다.\n"
          ]
        }
      ]
    },
    {
      "cell_type": "code",
      "source": [
        "x = float(input('실수 값：'))\n",
        "w = int(input('전체 자릿수：'))\n",
        "p = int(input('소수부 자릿수：'))\n"
      ],
      "metadata": {
        "colab": {
          "base_uri": "https://localhost:8080/"
        },
        "id": "iueMMnSVrcoV",
        "outputId": "ea188a6e-b2d8-4d0b-a19b-f185ba287ca8"
      },
      "execution_count": null,
      "outputs": [
        {
          "output_type": "stream",
          "name": "stdout",
          "text": [
            "실수 값：7\n",
            "전체 자릿수：7\n",
            "소수부 자릿수：8\n",
            ":7.8f\n"
          ]
        }
      ]
    },
    {
      "cell_type": "code",
      "source": [
        "print('{:9.2f}'.format(3.14159))  #--->ipynb의 특성!(출력되는 이유가)\n"
      ],
      "metadata": {
        "colab": {
          "base_uri": "https://localhost:8080/"
        },
        "id": "7THIkKUTCQny",
        "outputId": "dc3b7428-ec72-489b-8ad0-6a7c12ac0ecf"
      },
      "execution_count": null,
      "outputs": [
        {
          "output_type": "stream",
          "name": "stdout",
          "text": [
            "     3.14\n"
          ]
        }
      ]
    },
    {
      "cell_type": "code",
      "source": [],
      "metadata": {
        "id": "ZyoNxn6eSVzY"
      },
      "execution_count": null,
      "outputs": []
    },
    {
      "cell_type": "markdown",
      "source": [
        "Google Colab에서 \"런타임\"은 코드를 실행하는 동안 사용되는 환경이다.\n",
        "\n",
        "Colab에서 런타임은 사용자가 할당받은 가상 머신(VM) 환경을 의미한다.\n",
        "\n",
        "이 작업은 Google의 클라우드 서버에서 이루어진다.\n",
        "\n",
        "disconnect and delete runtime: 구글 코랩이 연결된 구글 서버와 연결을 끊고,현재 코딩환경을 (default) 로 초기화 해라.\n",
        "\n",
        "restart runtime: 환경을 다시 시작해라.(현재 코딩환경을 (default) 로 초기화 해라.) restart runtime? 사용 X 하자 왜냐면 불확실함... 따라서 필요성이 느껴지면 그때 use 할 생각 하자!!"
      ],
      "metadata": {
        "id": "RkThAJnM0f8u"
      }
    },
    {
      "cell_type": "code",
      "source": [
        "x = float(input('실수 값：'))\n",
        "w = int(input('전체 자릿수：'))\n",
        "p = int(input('소수부 자릿수：'))\n",
        "\n",
        "print('{{:{}.{}f}}'.format(w,p).format(x))         ## 2.format 메서드가 1개이상인 경우 ---> 문자열 (따옴표) 내의 {} 는 의미를 지니는 중괄호!!\n"
      ],
      "metadata": {
        "id": "PWPImqnJUwto",
        "colab": {
          "base_uri": "https://localhost:8080/"
        },
        "outputId": "3a8bb593-f1a9-4c71-8b22-9ed27ad5d122"
      },
      "execution_count": null,
      "outputs": [
        {
          "output_type": "stream",
          "name": "stdout",
          "text": [
            "실수 값：7.8\n",
            "전체 자릿수：9\n",
            "소수부 자릿수：7\n",
            "7.8000000\n"
          ]
        }
      ]
    },
    {
      "cell_type": "code",
      "source": [
        "print('{{:2.6f}}'.format().format(9.765))"
      ],
      "metadata": {
        "colab": {
          "base_uri": "https://localhost:8080/"
        },
        "id": "cjfCYk0wU78c",
        "outputId": "e7b6ff87-d640-4682-fb9a-622811f230d6"
      },
      "execution_count": null,
      "outputs": [
        {
          "output_type": "stream",
          "name": "stdout",
          "text": [
            "9.765000\n"
          ]
        }
      ]
    },
    {
      "cell_type": "code",
      "source": [
        "x = float(input('실수 값：'))\n",
        "w = int(input('전체 자릿수：'))\n",
        "p = int(input('소수부 자릿수：'))                   # 알아서 반올림한다!\n",
        "\n",
        "print('{{:{}.{}f}}'.format(w, p).format(x))    #괄호 한쌍({})에서 .format 하면 그 괄호 대신 format의 내용물이 표시됨.(여기서는 표시됨이라는 명령밖에 존재 안함 왜냐면 괄호 안에 아무 명령이 존재 X)\n",
        "                                                #이때, {:67.4f}와 같은 괄호에 format을 사용하면?---> :67.4f의 의미를 읽고 그에 맞는 표시물을 표시!\n"
      ],
      "metadata": {
        "colab": {
          "base_uri": "https://localhost:8080/"
        },
        "id": "CzY-1jF2WHk6",
        "outputId": "a8fbc62e-8d98-4fab-96f5-08312ef7e82d"
      },
      "execution_count": null,
      "outputs": [
        {
          "output_type": "stream",
          "name": "stdout",
          "text": [
            "실수 값：3.4456\n",
            "전체 자릿수：55\n",
            "소수부 자릿수：3\n",
            "                                                  3.446\n"
          ]
        }
      ]
    },
    {
      "cell_type": "code",
      "source": [
        "print('{{5.8}}'.format(x))"
      ],
      "metadata": {
        "colab": {
          "base_uri": "https://localhost:8080/"
        },
        "id": "4-AlZUGgKKrK",
        "outputId": "25f31c0e-efc4-48ec-c15e-90710329f6bc"
      },
      "execution_count": null,
      "outputs": [
        {
          "output_type": "stream",
          "name": "stdout",
          "text": [
            "{5.8}\n"
          ]
        }
      ]
    },
    {
      "cell_type": "code",
      "source": [
        "w = 2\n",
        "p = 2\n",
        "x = 123.456789\n",
        "\n",
        "print('{:.{}f}'.format(x,p))\n"
      ],
      "metadata": {
        "colab": {
          "base_uri": "https://localhost:8080/"
        },
        "id": "qq_KoinZK-zP",
        "outputId": "2082b324-c212-43ee-d522-23e29c21d09e"
      },
      "execution_count": null,
      "outputs": [
        {
          "output_type": "stream",
          "name": "stdout",
          "text": [
            "123.46\n"
          ]
        }
      ]
    },
    {
      "cell_type": "code",
      "source": [
        "x = float(input('실수 값：'))\n",
        "w = int(input('전체 자릿수：'))\n",
        "p = int(input('소수부 자릿수：'))\n",
        "\n",
        "print('{{:{}.{}f}}'.format(x,5))\n"
      ],
      "metadata": {
        "colab": {
          "base_uri": "https://localhost:8080/"
        },
        "id": "1lnG5zzFKXSU",
        "outputId": "12715a9c-c4bf-487b-f45a-e702d8ebc274"
      },
      "execution_count": null,
      "outputs": [
        {
          "output_type": "stream",
          "name": "stdout",
          "text": [
            "실수 값：2\n",
            "전체 자릿수：3\n",
            "소수부 자릿수：4\n",
            "{:2.0.5f}\n"
          ]
        }
      ]
    },
    {
      "cell_type": "code",
      "source": [],
      "metadata": {
        "id": "gaQpTGU5Ri59"
      },
      "execution_count": null,
      "outputs": []
    },
    {
      "cell_type": "code",
      "source": [
        "print('{{}}'.format(2, 3).format(4.5))"
      ],
      "metadata": {
        "colab": {
          "base_uri": "https://localhost:8080/"
        },
        "id": "xFarObgAX4v7",
        "outputId": "a2508b6c-0ed9-45ed-bb8a-ad447124d2f7"
      },
      "execution_count": null,
      "outputs": [
        {
          "output_type": "stream",
          "name": "stdout",
          "text": [
            "4.5\n"
          ]
        }
      ]
    },
    {
      "cell_type": "code",
      "source": [
        "print('{:.7f}'.format(3.14))\n",
        "print('{:12f}'.format(3.14))\n",
        "print('{:9.7f}'.format(3.14))"
      ],
      "metadata": {
        "colab": {
          "base_uri": "https://localhost:8080/"
        },
        "id": "t_5nLfmVZwGC",
        "outputId": "51f80b77-70ec-4dc7-e81c-31e422153038"
      },
      "execution_count": null,
      "outputs": [
        {
          "output_type": "stream",
          "name": "stdout",
          "text": [
            "3.1400000\n",
            "    3.140000\n",
            "3.1400000\n"
          ]
        }
      ]
    },
    {
      "cell_type": "code",
      "source": [
        "print('{:9.9f}'.format(4.5))"
      ],
      "metadata": {
        "colab": {
          "base_uri": "https://localhost:8080/"
        },
        "id": "Pf4jjS3OcmJ5",
        "outputId": "dea6933a-7f43-4f58-e8f4-30c7181839bb"
      },
      "execution_count": null,
      "outputs": [
        {
          "output_type": "stream",
          "name": "stdout",
          "text": [
            "4.500000000\n"
          ]
        }
      ]
    },
    {
      "cell_type": "code",
      "source": [
        "\n",
        "double_brace = \"{{{{{{{{}}}}}}}}\"           # 이해의 key?---> 문자를 나타내는 중괄호와 의미를 지니는 중괄호의 차이 (인지)탐구!!! ---> 둘의 차이는 format 메서드의 존재로 인해 구분된다!\n",
        "                                                                                             # 1.format 메서드가 0개인 경우 ---> 문자열 (따옴표) 내의 {} 는 just 문자 덩어리 (2개의 문자로 이루어진)(아무 의미 지니지 X인)\n",
        "# {  {{}}  }                                                                                    # 2.format 메서드가 1개이상인 경우 ---> 문자열 (따옴표) 내의 {} 는 의미를 지니는 중괄호!!\n",
        "                                                                                             # 이때, '문자' 중괄호 1쌍을 출력하고 싶을때?---> 이중 중괄호({{}}) use!!!!! cf) 중괄호를 따질때에는 밖에서부터 따져야 한다!\n",
        "                                                                                          #cf) 문자 중괄호는 항상 의미를 지니는 중괄호가 될 가능성이 존재한다!!\n",
        "print(double_brace.format(8).format(2).format(7).format(1))                                   # format의 개수가 n개일때 '문자' 중괄호 한 쌍을 출력하려면, 2의 n 제곱 개의 중괄호쌍이 필요하다!! 이유는 모르겠다... 단 n은 0 또는 자연수\n",
        "                                                                                                        # 여기서 만약 2의 제곱수가 아닌 수 ex)9--->9개의 중괄호를 쓰면 에러가 발생한다.\n",
        "print(\"{{{{}}}}\".format(8).format(2).format(7).format(1))                                            # format 의 개수가 4개일때,우리는 이미 문자 중괄호 한쌍을 표현하려면 2의 4제곱개의 중첩된 중괄호 쌍이 있어야 함을 알고있다.\n",
        "                                                                                                        # 이때, 중괄호가 2의 4제곱개 미만일때는 어떤 현상이 벌어지는지 보자. 결론부터 말하면, 중괄호의 개수가 2의 0제곱부터 ...으로 대응된다.(이때의 중괄호는 의미를 지니는 중괄호!)\n",
        "                                                                                             # 그럼 중괄호가 2의 4제곱개 초과일때는? {8},{2}...이러식으로 뜬다!...\n",
        "\n",
        "\n",
        "print(\"{{}}\".format(2))"
      ],
      "metadata": {
        "colab": {
          "base_uri": "https://localhost:8080/"
        },
        "id": "ftzUe2wXfF9w",
        "outputId": "83ed61a0-d790-4ba1-91b3-e3cdae494725"
      },
      "execution_count": null,
      "outputs": [
        {
          "output_type": "stream",
          "name": "stdout",
          "text": [
            "1\n",
            "7\n",
            "{}\n"
          ]
        }
      ]
    },
    {
      "cell_type": "code",
      "source": [
        "x = float(input('실수 값：'))\n",
        "w = int(input('전체 자릿수：'))\n",
        "p = int(input('소수부 자릿수：'))\n",
        "\n",
        "print('{{:{}.{}f}}'.format(w, p).format(x))\n"
      ],
      "metadata": {
        "colab": {
          "base_uri": "https://localhost:8080/"
        },
        "id": "Wqcc9YmFRjfv",
        "outputId": "14617a62-f181-469d-9a20-4fb37b9a2b3f"
      },
      "execution_count": null,
      "outputs": [
        {
          "output_type": "stream",
          "name": "stdout",
          "text": [
            "실수 값：4.5\n",
            "전체 자릿수：5\n",
            "소수부 자릿수：5\n",
            "{:5.5f}\n"
          ]
        }
      ]
    },
    {
      "cell_type": "code",
      "source": [
        "print('{{:2.4f}}'.format(x).format(x))"
      ],
      "metadata": {
        "colab": {
          "base_uri": "https://localhost:8080/"
        },
        "id": "FrAYKVRkW8Pt",
        "outputId": "07b5ecfe-4544-40b1-9cd7-c2ab0e33a271"
      },
      "execution_count": null,
      "outputs": [
        {
          "output_type": "stream",
          "name": "stdout",
          "text": [
            "4.5000\n"
          ]
        }
      ]
    },
    {
      "cell_type": "code",
      "source": [
        "print('{{}}'.format(2).format(x))"
      ],
      "metadata": {
        "colab": {
          "base_uri": "https://localhost:8080/"
        },
        "id": "jrEKcGM4SOQI",
        "outputId": "723f03d1-2eee-450e-bf3b-c661eca20e41"
      },
      "execution_count": null,
      "outputs": [
        {
          "output_type": "stream",
          "name": "stdout",
          "text": [
            "3.4456\n"
          ]
        }
      ]
    },
    {
      "cell_type": "code",
      "source": [
        "print(\"This is an example of {}.\".format(\"string formatting\"))\n",
        "# 출력: This is an example of string formatting.\n",
        "\n",
        "print(\"This is an example of {{}}.\".format())\n",
        "# 출력: This is an example of {}.\n"
      ],
      "metadata": {
        "colab": {
          "base_uri": "https://localhost:8080/"
        },
        "id": "PmFuNc87Qn3B",
        "outputId": "bc31332b-651f-4ef0-9833-e3a279f76dfc"
      },
      "execution_count": null,
      "outputs": [
        {
          "output_type": "stream",
          "name": "stdout",
          "text": [
            "This is an example of string formatting.\n",
            "This is an example of {}.\n"
          ]
        }
      ]
    },
    {
      "cell_type": "code",
      "source": [
        "\n",
        "double_brace = \"{{{}}}\"           # 이해의 key?---> 문자를 나타내는 중괄호와 의미를 지니는 중괄호의 차이 (인지)탐구!!! ---> 둘의 차이는 format 메서드의 존재로 인해 구분된다!\n",
        "                                # 1.format 메서드가 0개인 경우 ---> 문자열 (따옴표) 내의 {} 는 just 문자 덩어리 (2개의 문자로 이루어진)(아무 의미 지니지 X인)\n",
        "                               # 2.format 메서드가 1개이상인 경우 ---> 문자열 (따옴표) 내의 {} 는 의미를 지니는 중괄호!!\n",
        "                                    # 이때, '문자' 중괄호 1쌍을 출력하고 싶을때?---> 이중 중괄호({{}}) use!!!!! cf) 중괄호를 따질때에는 밖에서부터 따져야 한다!\n",
        "                                    #cf) 문자 중괄호는 항상 의미를 지니는 중괄호가 될 가능성이 존재한다!!\n",
        "print(double_brace.format(8))     # format의 개수가 n개일때 '문자' 중괄호 한 쌍을 출력하려면, 2의 n 제곱 개의 중괄호쌍이 필요하다!! 이유는 모르겠다... 단 n은 0 또는 자연수\n",
        "\n",
        "                                    #and 적 사고 필수!(2.format 메서드가 1개이상인 경우 ---> 문자열 (따옴표) 내의 {} 는 의미를 지니는 중괄호!!////이때, '문자' 중괄호 1쌍을 출력하고 싶을때?---> 이중 중괄호({{}}) use!!!!!)"
      ],
      "metadata": {
        "colab": {
          "base_uri": "https://localhost:8080/"
        },
        "id": "gC_qCkiRG4bP",
        "outputId": "fae1055b-79eb-4b24-f1eb-49cf73fabac7"
      },
      "execution_count": null,
      "outputs": [
        {
          "output_type": "stream",
          "name": "stdout",
          "text": [
            "{8}\n"
          ]
        }
      ]
    },
    {
      "cell_type": "code",
      "source": [
        "print('{:.7f}'.format(3.14))       #소숫점 7자리까지 표시!\n",
        "print('{:12f}'.format(3.14))       #default=소숫점 6자리까지 표시 and 12자리 수로 표시!\n",
        "print('{:12.7f}'.format(3.14))     #12자리 수로 표시 and 소숫점 7자리까지 표시!"
      ],
      "metadata": {
        "colab": {
          "base_uri": "https://localhost:8080/"
        },
        "id": "IjoQZzSPYm5r",
        "outputId": "a79fe4a1-47f5-4131-8fcf-47e850370ad1"
      },
      "execution_count": null,
      "outputs": [
        {
          "output_type": "stream",
          "name": "stdout",
          "text": [
            "3.1400000\n",
            "    3.140000\n",
            "   3.1400000\n"
          ]
        }
      ]
    }
  ]
}