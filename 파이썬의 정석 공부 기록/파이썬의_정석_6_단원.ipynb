version https://git-lfs.github.com/spec/v1
oid sha256:81f87f5b602c535b2c5b474c07b1161358ebb930cc1dc0b39a849e21efaa9caa
size 20587
