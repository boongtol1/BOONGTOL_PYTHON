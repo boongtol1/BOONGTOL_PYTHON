{
  "nbformat": 4,
  "nbformat_minor": 0,
  "metadata": {
    "colab": {
      "provenance": []
    },
    "kernelspec": {
      "name": "python3",
      "display_name": "Python 3"
    },
    "language_info": {
      "name": "python"
    }
  },
  "cells": [
    {
      "cell_type": "code",
      "execution_count": null,
      "metadata": {
        "id": "W9XVTix7NPOf",
        "outputId": "33ab8acf-7280-46d6-967a-037b36f33ae5",
        "colab": {
          "base_uri": "https://localhost:8080/",
          "height": 144
        }
      },
      "outputs": [
        {
          "output_type": "error",
          "ename": "IndentationError",
          "evalue": "ignored",
          "traceback": [
            "\u001b[0;36m  File \u001b[0;32m\"<ipython-input-21-7eb62223ce52>\"\u001b[0;36m, line \u001b[0;32m3\u001b[0m\n\u001b[0;31m    def __init__(self, name: str, master: str) -> None:     #--> Pet 클래스 내에서 kurt 라는 객체의 _name , _master 속성을 각각 name , master 라고 한다.\u001b[0m\n\u001b[0m    ^\u001b[0m\n\u001b[0;31mIndentationError\u001b[0m\u001b[0;31m:\u001b[0m expected an indented block after class definition on line 2\n"
          ]
        }
      ],
      "source": [
        "# 애완동물 클래스 // 코드 전체에서 들여쓰기가 n번 (n은 자연수) 사용될때 첫 행에서 들여쓰기를 n번 하면 에러가 발생한다!(그 외에는 에러 발생 X)--> ipynb 의 특징중 하나!\n",
        "\n",
        "class Pet:\n",
        "    def __init__(self, name: str, master: str) -> None:     #--> Pet 클래스 내에서 kurt 라는 객체의 _name , _master 속성을 각각 name , master 라고 한다.\n",
        "        \"\"\"생성자\"\"\"\n",
        "        self._name = name           # 이름\n",
        "        self._master = master       # 주인의 이름       //      어떤 객체에 접근한다 함은 이 객체의 이름을 쓰는 것과 같다!\n",
        "\n",
        "    def introduce(self) -> None:\n",
        "        \"\"\"자기소개\"\"\"\n",
        "        print('제 이름은 {}입니다!'.format(self._name))         #--> 존재하지 않는 객체의 _name , _master 속성 if self 로 일관되지 않으면! // 초기화변수는 덩어리적 변수가 아니라 그 내부를 해석해야 하는 변수다!\n",
        "        print('주인의 이름은 {}입니다!'.format(self._master))\n",
        "\n",
        "    def __str__(self) -> str:\n",
        "        \"\"\"문자열화\"\"\"\n",
        "        return self._name + ' <<' + self._master + '>>'\n",
        "\n",
        "    def print(self) -> None:\n",
        "        \"\"\"출력(__str__이 리턴하는 문자열을 출력하고 개행)\"\"\"\n",
        "        print(self.__str__())\n",
        "\n",
        "# 애완동물 클래스 테스트\n",
        "kurt = Pet('Kurt', '소영')     # Pet 이라는 클래스의 kurt 라는 객체를 만들었으니 kurt.__init__('Kurt','소영')이 자동으로 호출된다.\n",
        "kurt.introduce()\n",
        "print(kurt)         # print(kurt) 이라고 입력하면, 자동으로 kurt.__str__()이 자동으로 호출된다. 그리고 그 리턴값을 출력한다.// print(kurt)는 내부적으로 kurt.__str__() 메서드를 호출한 결과(리턴값)를 출력합니다.\n",
        "print('str(Kurt) = ' + str(kurt)) # str(kurt): 이 부분은 kurt 객체를 문자열로 변환합니다. 이때, 파이썬은 내부적으로 kurt.__str__() 메서드를 호출하여 해당 객체의 문자열 표현을 얻어옵니다.\n",
        "kurt.print()\n",
        "\n",
        "# object 클래스의 기본 __str__ 메서드는 해당 객체의 주소를 나타내는 문자열을 반환합니다. 만약 Pet 클래스에서 def __str__(self) -> str: 부분이 없다면, 파이썬은 기본적으로 객체의 문자열 표현을 제공하는 메서드인 __str__()을 찾지 못하고, 부모 클래스인 object의 기본 __str__() 메서드를 사용합니다.\n",
        "\n",
        "# 파이썬에서 모든 클래스는 기본적으로 object 클래스를 상속합니다.\n"
      ]
    },
    {
      "cell_type": "code",
      "source": [
        "    # 애완동물 클래스\n",
        "class Pet:\n",
        "\n",
        "    def __init__(self, name: str, master: str) -> None:     #--> Pet 클래스 내에서 kurt 라는 객체의 _name , _master 속성을 각각 name , master 라고 한다.\n",
        "        \"\"\"생성자\"\"\"\n",
        "        self._name = name           # 이름\n",
        "        self._master = master       # 주인의 이름       //      어떤 객체에 접근한다 함은 이 객체의 이름을 쓰는 것과 같다!\n",
        "\n",
        "    def introduce(self) -> None:\n",
        "        \"\"\"자기소개\"\"\"\n",
        "        print('제 이름은 {}입니다!'.format(self._name))         #--> 존재하지 않는 객체의 _name , _master 속성 if self 로 일관되지 않으면! // 초기화변수는 덩어리적 변수가 아니라 그 안을 해석해야 하는 변수다!\n",
        "        print('주인의 이름은 {}입니다!'.format(self._master))\n",
        "\n",
        "    def __str__(self) -> str:\n",
        "        \"\"\"문자열화\"\"\"\n",
        "        return self._name + ' <<' + self._master + '>>'\n",
        "\n",
        "    def print(self) -> None:\n",
        "        \"\"\"출력(__str__이 리턴하는 문자열을 출력하고 개행)\"\"\"\n",
        "        print(self.__str__())\n",
        "\n",
        "# 애완동물 클래스 테스트\n",
        "kurt = Pet('Kurt', '소영')     # Pet 이라는 클래스의 kurt 라는 객체를 만들었으니 kurt.__init__('Kurt','소영')이 자동으로 호출된다.\n",
        "kurt.introduce()\n",
        "print(kurt)         # print(kurt) 이라고 입력하면, 자동으로 kurt.__str__()이 자동으로 호출된다. 그리고 그 리턴값을 출력한다.// print(kurt)는 내부적으로 kurt.__str__() 메서드를 호출한 결과(리턴값)를 출력합니다.\n",
        "print('str(Kurt) = ' + str(kurt)) # str(kurt): 이 부분은 kurt 객체를 문자열로 변환합니다. 이때, 파이썬은 내부적으로 kurt.__str__() 메서드를 호출하여 해당 객체의 문자열 표현을 얻어옵니다.\n",
        "kurt.print()\n",
        "\n",
        "# object 클래스의 기본 __str__ 메서드는 해당 객체의 주소를 나타내는 문자열을 반환합니다. 만약 Pet 클래스에서 def __str__(self) -> str: 부분이 없다면, 파이썬은 기본적으로 객체의 문자열 표현을 제공하는 메서드인 __str__()을 찾지 못하고, 부모 클래스인 object의 기본 __str__() 메서드를 사용합니다.\n",
        "\n",
        "# 파이썬에서 모든 클래스는 기본적으로 object 클래스를 상속합니다.\n"
      ],
      "metadata": {
        "id": "rfVfzFitQMa_",
        "outputId": "9208a9f3-8c06-44be-ef6f-56d8c04615eb",
        "colab": {
          "base_uri": "https://localhost:8080/",
          "height": 144
        }
      },
      "execution_count": null,
      "outputs": [
        {
          "output_type": "error",
          "ename": "IndentationError",
          "evalue": "ignored",
          "traceback": [
            "\u001b[0;36m  File \u001b[0;32m\"<ipython-input-28-9e34f274535e>\"\u001b[0;36m, line \u001b[0;32m4\u001b[0m\n\u001b[0;31m    def __init__(self, name: str, master: str) -> None:     #--> Pet 클래스 내에서 kurt 라는 객체의 _name , _master 속성을 각각 name , master 라고 한다.\u001b[0m\n\u001b[0m    ^\u001b[0m\n\u001b[0;31mIndentationError\u001b[0m\u001b[0;31m:\u001b[0m expected an indented block after class definition on line 2\n"
          ]
        }
      ]
    },
    {
      "cell_type": "code",
      "source": [
        "class Dog:                              # 클래스의 이름은 변수가 아니라 그냥 클래스의 이름일 뿐이다!(첫?--> 알파벳 대문자!(관례 not 필수))\n",
        "    def __init__(self, name, age):      # 클래스의 생성자의 첫번째 위치의 매개변수는 현재 객체와 같다!\n",
        "        self.name = name                 # self.name은 현재 객체의 name이라는 속성(attribute)을 나타냅니다.(객체가 생성되어야지, 온전한 해석이 가능하다!)\n",
        "        self.age = age                  # 클래스의 생성자는 객체가 생성될 때마다 자동으로 호출되는 특별한 메서드를 의미합니다.--> 줄여서 그냥 생성자라고 부르기도 함!\n",
        "                                        # 클래스(...) 의 ...은(객체의 인자들은) 클래스의 생성자의 두번째 위치의 매개변수부터 차례대로 저장된다.\n",
        "                                        # 파이썬 전체에서 클래스의 생성자는 곧 , __init__ 메서드와 같다!\n",
        "                                        # self는 파이썬에서의 모든 클래스 내의 메서드의 첫 번째 매개변수로 사용되는 특별한 매개변수입니다. 이것은 현재 객체를 가리키는데 사용됩니다.\n",
        "                                        # 기본적으로 메서드를 호출할 때는 객체(instance)가 메서드에 전달되어야 하지만, self를 사용하면 객체 자체가 자동으로 전달됩니다.\n",
        "my_dog = Dog(\"Buddy\",3)                 # 파이썬에 문자 라는 값 형태는 존재하지 않는다! 대신 문자열이라는 값 형태는 존재한다!\n",
        "\n",
        "my_dog.__init__('aa',8)\n",
        "\n",
        "class MyClass:\n",
        "    def my_method(self):\n",
        "        print(\"메서드가 호출되었습니다.\")\n",
        "\n",
        "obj = MyClass()\n",
        "obj.my_method()\n",
        "\n",
        "class MyClass:\n",
        "    def print_message(self, message):\n",
        "        print(message)\n",
        "\n",
        "# 객체(instance) 생성\n",
        "obj = MyClass()\n",
        "\n",
        "# 명시적으로 객체를 전달하여 메서드 호출\n",
        "MyClass.print_message(obj, \"Hello, world!\")  # 클래스 이름(MyClass)을 통해 메서드를 호출하고 있습니다. 메서드가 클래스에 속해 있다면, 해당 클래스의 인스턴스를 생성하지 않고도 직접 클래스 이름을 사용하여 메서드를 호출할 수 있습니다.\n",
        "\n",
        "\n",
        "# my_dog = Dog(\"Buddy\",3) 는 my_dog = Dog(\"Buddy\",3) --> 이 행이 온전히 인식되는 순간, 객체의 name 이라는 속성에는 \"Buddy\" 가 age 라는 속성에는 3이 저장된다!\n",
        "                          # my_dog.__init__(\"Buddy\",3) 과 같은 의미이다! // 이 행이 온전히 인식되는 순간, 객체의 name 속성에 age 가 age라는 속성에도 age가 입력된다!\n",
        "\n",
        "# 메서드(함수)의 괄호 안에는 메서드에 전달하고자 하는 인자(argument)들을 써야 할 경우에는 써야 한다! 아님 에러 발생!\n",
        "# 속성: 사물의 특징이나 성질\n",
        "# 파이썬에서 속성은 객체의 특징이나 상태를 나타내는 값으로, 객체가 가지고 있는 데이터를 말합니다. 변수가 변할때 마지막만 저장되듯이 속성의 변화도 마지막만 저장된다!\n",
        "# 객체는 데이터와 해당 데이터를 조작하는 메서드를 함께 포함하는 독립적인 단위이며, 속성은 이 객체의 데이터를 표현합니다.-->? 아직 잘 이해 안감...\n",
        "# 2행만 보고 미래에 Dog 클래스의 객체가 만들어질때 그 객체는 서로다른 2개의 속성을 가지는군!을 알 수 있어야한다!\n"
      ],
      "metadata": {
        "id": "ywh5i_DOstud",
        "colab": {
          "base_uri": "https://localhost:8080/"
        },
        "outputId": "0231fc40-9431-45ad-92a8-fcf20ceb0fa5"
      },
      "execution_count": null,
      "outputs": [
        {
          "output_type": "stream",
          "name": "stdout",
          "text": [
            "메서드가 호출되었습니다.\n",
            "Hello, world!\n"
          ]
        }
      ]
    },
    {
      "cell_type": "code",
      "source": [
        "print(my_dog.name)  # 출력: Buddy\n",
        "print(my_dog.age)   # 출력: 3\n"
      ],
      "metadata": {
        "colab": {
          "base_uri": "https://localhost:8080/"
        },
        "id": "iDDOQfC9Lq2d",
        "outputId": "986592ff-f0c0-4d15-cfcb-fd890de8a7cf"
      },
      "execution_count": null,
      "outputs": [
        {
          "output_type": "stream",
          "name": "stdout",
          "text": [
            "8\n",
            "8\n"
          ]
        }
      ]
    },
    {
      "cell_type": "code",
      "source": [
        "class MyClass:\n",
        "    # 생성자가 명시적으로 정의되지 않음\n",
        "\n",
        "# MyClass 클래스의 인스턴스 생성\n",
        "my_instance = MyClass()\n",
        "\n",
        "# 생성된 객체는 빈 생성자를 갖고 있으므로 특별한 초기화 작업이 없음\n",
        "\n",
        "# 클래스 내에 생성자(__init__ 메서드)가 명시적으로 정의되지 않으면,\n",
        "# 클래스는 기본적으로 빈 생성자를 갖게 됩니다. 이 경우에는 객체를 생성할 때 아무런 초기화 작업이 수행되지 않습니다.\n"
      ],
      "metadata": {
        "id": "vSNTOL_cfa66"
      },
      "execution_count": null,
      "outputs": []
    },
    {
      "cell_type": "code",
      "source": [
        "class Person:\n",
        "    def __init__(self, name, age):\n",
        "        self.name = name\n",
        "        self.age = age\n",
        "\n",
        "    def introduce(self):\n",
        "        print(f\"안녕하세요, 제 이름은 {self.name}이고, 나이는 {self.age}살입니다.\")\n",
        "\n",
        "# Person 클래스의 인스턴스 생성\n",
        "person_instance = Person(\"홍길동\", 30)\n",
        "\n",
        "# introduce 메서드 호출\n",
        "person_instance.introduce()\n"
      ],
      "metadata": {
        "id": "E0FOKQVChGp8"
      },
      "execution_count": null,
      "outputs": []
    },
    {
      "cell_type": "code",
      "source": [
        "class MyClass:\n",
        "    def example_method(self, parameter1, parameter2):\n",
        "        # 메서드 내에서 parameter1과 parameter2를 활용\n",
        "        result = parameter1 + parameter2\n",
        "        return result\n",
        "\n",
        "# MyClass 클래스의 인스턴스 생성\n",
        "my_instance = MyClass()\n",
        "\n",
        "# example_method 호출 시 인자로 값을 전달\n",
        "result_value = my_instance.example_method(3,4)\n",
        "\n",
        "# 메서드가 실행되면서 전달된 인자들이 parameter1과 parameter2에 대응됨\n",
        "# 따라서 result_value는 10 + 20 = 30이 됨\n",
        "print(result_value)  # 출력: 30\n"
      ],
      "metadata": {
        "colab": {
          "base_uri": "https://localhost:8080/"
        },
        "id": "qDmLXgOcjOQC",
        "outputId": "cff8c7d0-3465-4d36-ac04-51c903a1ea6b"
      },
      "execution_count": null,
      "outputs": [
        {
          "output_type": "stream",
          "name": "stdout",
          "text": [
            "7\n"
          ]
        }
      ]
    },
    {
      "cell_type": "markdown",
      "source": [
        "함수와 메서드는 비슷하다. 클래스 내에 정의된 함수를 메서드라고 한다. 이 둘의 차이는 이 둘 각각이 호출될때 들어나는데,\n",
        "함수는 함수이름(...)이고 메서드는 객체.메서드(...)이다.\n",
        "cf) argument(인자):어떤 사물의 원인이 되는 낱낱의 요소나 물질."
      ],
      "metadata": {
        "id": "lYtEgPjXlLcW"
      }
    },
    {
      "cell_type": "code",
      "source": [
        "class MyClass:\n",
        "    class_variable = 0  # 클래스 변수\n",
        "\n",
        "    def method_without_self(x, y):         # 메서드를 정의할 때 self를 명시하지 않으면 파이썬은 해당 메서드를 일반 함수로 간주하게 됩니다.\n",
        "                                           # 이때, 함수로 간주된 그 함수는 클래스 내의 메서드가 아닌 함수가 된다!\n",
        "        # self를 사용하지 않기 때문에 인스턴스 속성에 접근할 수 없음\n",
        "        result = x + y + MyClass.class_variable\n",
        "        return result\n",
        "\n",
        "# MyClass 클래스의 인스턴스 생성\n",
        "my_instance = MyClass()\n",
        "\n",
        "# method_without_self 호출 시 오류 발생\n",
        "# TypeError: method_without_self() takes 2 positional arguments but 3 were given\n",
        "result_value = MyClass.method_without_self(5, 15)\n",
        "\n",
        "print(result_value)\n"
      ],
      "metadata": {
        "colab": {
          "base_uri": "https://localhost:8080/",
          "height": 228
        },
        "id": "mW510heSn8zP",
        "outputId": "e1b53079-4b38-4aaf-b27a-de0b29e23573"
      },
      "execution_count": null,
      "outputs": [
        {
          "output_type": "stream",
          "name": "stdout",
          "text": [
            "20\n"
          ]
        },
        {
          "output_type": "error",
          "ename": "NameError",
          "evalue": "ignored",
          "traceback": [
            "\u001b[0;31m---------------------------------------------------------------------------\u001b[0m",
            "\u001b[0;31mNameError\u001b[0m                                 Traceback (most recent call last)",
            "\u001b[0;32m<ipython-input-3-a4162f553fdb>\u001b[0m in \u001b[0;36m<cell line: 18>\u001b[0;34m()\u001b[0m\n\u001b[1;32m     16\u001b[0m \u001b[0;34m\u001b[0m\u001b[0m\n\u001b[1;32m     17\u001b[0m \u001b[0mprint\u001b[0m\u001b[0;34m(\u001b[0m\u001b[0mresult_value\u001b[0m\u001b[0;34m)\u001b[0m\u001b[0;34m\u001b[0m\u001b[0;34m\u001b[0m\u001b[0m\n\u001b[0;32m---> 18\u001b[0;31m \u001b[0mprint\u001b[0m\u001b[0;34m(\u001b[0m\u001b[0mmethod_without_self\u001b[0m\u001b[0;34m)\u001b[0m\u001b[0;34m\u001b[0m\u001b[0;34m\u001b[0m\u001b[0m\n\u001b[0m",
            "\u001b[0;31mNameError\u001b[0m: name 'method_without_self' is not defined"
          ]
        }
      ]
    },
    {
      "cell_type": "code",
      "source": [
        "class MyClass:\n",
        "    class_variable = 0  # 클래스 변수\n",
        "\n",
        "    def class_level_method(x, y):\n",
        "        result = x + y + MyClass.class_variable\n",
        "        return result\n",
        "\n",
        "# MyClass 클래스의 인스턴스 생성\n",
        "my_instance = MyClass()\n",
        "\n",
        "# 클래스 레벨에서 정의된 메서드 호출\n",
        "result_value = MyClass.class_level_method(5, 15)\n",
        "\n",
        "print(result_value)  # 출력: 20\n"
      ],
      "metadata": {
        "colab": {
          "base_uri": "https://localhost:8080/"
        },
        "id": "LtR3gb9QrjDZ",
        "outputId": "65bf4001-5bf5-4e4f-f18d-b283f2a96136"
      },
      "execution_count": null,
      "outputs": [
        {
          "output_type": "stream",
          "name": "stdout",
          "text": [
            "20\n"
          ]
        }
      ]
    },
    {
      "cell_type": "code",
      "source": [
        "class MyClass:\n",
        "    class_variable = 0  # 클래스 변수\n",
        "\n",
        "    @staticmethod  # 정적 메서드로 선언       --> 일반적으로는 클래스 메서드나 정적 메서드를 명시적으로 표현하는 것이 좋습니다.\n",
        "                                        # @classmethod나 @staticmethod 데코레이터를 사용하여 명시적으로 클래스 메서드나 정적 메서드로 선언하는 방법이 있다!\n",
        "    def function_inside_class(x, y):\n",
        "        result = x + y + MyClass.class_variable\n",
        "        return result\n",
        "\n",
        "# MyClass 클래스의 인스턴스 생성\n",
        "my_instance = MyClass()\n",
        "\n",
        "# 클래스 내부에서 정의한 함수 호출\n",
        "result_value = my_instance.function_inside_class(5, 15)\n",
        "\n",
        "print(result_value)  # 출력: 20\n"
      ],
      "metadata": {
        "colab": {
          "base_uri": "https://localhost:8080/"
        },
        "id": "awwrBFj9qalI",
        "outputId": "784bae6a-a5ab-4c29-9d97-dbf25f1253d3"
      },
      "execution_count": null,
      "outputs": [
        {
          "output_type": "stream",
          "name": "stdout",
          "text": [
            "20\n"
          ]
        }
      ]
    },
    {
      "cell_type": "code",
      "source": [
        "my_dog = Dog(\"Buddy\", 3)  # 객체 생성 및 __init__ 메서드 호출\n",
        "\n",
        "# 다음과 같이 직접 __init__ 메서드 호출\n",
        "my_dog.__init__('aa', 8)\n",
        "\n",
        "# 직접 __init__ 메서드를 호출하는 것은 일반적으로 권장되지 않지만, 경우에 따라 필요할 수 있습니다. 파이썬에서는 직접 호출할 수 있습니다.\n",
        "\n",
        "# 이렇게 하면 my_dog 객체의 속성이 \"aa\"와 8로 업데이트됩니다."
      ],
      "metadata": {
        "id": "rGNmKxAd0OBr"
      },
      "execution_count": null,
      "outputs": []
    },
    {
      "cell_type": "code",
      "source": [
        "class Pet:              # What is 인스턴스??--> 인스턴스(instance)는 객체 지향 프로그래밍에서 클래스를 기반으로 생성된 구체적인 개체를 나타냅니다.\n",
        "                        # 클래스는 일종의 템플릿이며, 이를 기반으로 실제 데이터를 가지고 있는 메모리에 할당된 것이 인스턴스입니다.\n",
        "                        # \"템플릿(Template)\"은 일종의 모델이나 또는 틀로, 어떤 것을 만들기 위한 기본 구조나 형태를 제공하는 것을 의미합니다.\n",
        "    \"\"\"애완 동물 클래스\"\"\"\n",
        "\n",
        "    def __init__(self, name: str, master: str) -> None:     # class 에 종속되어 있는 함수를 메서드 라고 새롭게 칭한다!//참조?-->바로가기 아이콘 떠올리기!\n",
        "        \"\"\"생성자\"\"\"                                         # __init__ 메서드는 파이썬에서 특별한 목적을 가지는 메서드 중 하나로, 클래스의 인스턴스가 생성될 때 자동으로 호출되는 초기화 메서드입니다.\n",
        "                                                            # 초기화?--> 존재정보를의 초기화!\n",
        "        self._name = name           # 이름//  # 언더스코어(_)는 변수명 앞에 붙어 있는 경우, 보통 해당 변수가 클래스의 내부에서만 사용되는 \"내부 변수\" 혹은 \"보호 변수\"임을 나타내는 관례입니다.\n",
        "                                    # 이것은 해당 변수에 직접 접근하지 않는 것이 권장되지만, 강제되지는 않습니다.\n",
        "                                    # 변수의 이름이 name 이라는 것에 주목하자!\n",
        "        self._master = master\n",
        "\n",
        "Pet('a','b')\n",
        "print(self._name)"
      ],
      "metadata": {
        "colab": {
          "base_uri": "https://localhost:8080/",
          "height": 211
        },
        "id": "_fvu8PaxPbXI",
        "outputId": "a9e73570-fcb8-41d0-f348-3c60162a4703"
      },
      "execution_count": null,
      "outputs": [
        {
          "output_type": "error",
          "ename": "NameError",
          "evalue": "ignored",
          "traceback": [
            "\u001b[0;31m---------------------------------------------------------------------------\u001b[0m",
            "\u001b[0;31mNameError\u001b[0m                                 Traceback (most recent call last)",
            "\u001b[0;32m<ipython-input-6-900412f21400>\u001b[0m in \u001b[0;36m<cell line: 15>\u001b[0;34m()\u001b[0m\n\u001b[1;32m     13\u001b[0m \u001b[0;34m\u001b[0m\u001b[0m\n\u001b[1;32m     14\u001b[0m \u001b[0mPet\u001b[0m\u001b[0;34m(\u001b[0m\u001b[0;34m'a'\u001b[0m\u001b[0;34m,\u001b[0m\u001b[0;34m'b'\u001b[0m\u001b[0;34m)\u001b[0m\u001b[0;34m\u001b[0m\u001b[0;34m\u001b[0m\u001b[0m\n\u001b[0;32m---> 15\u001b[0;31m \u001b[0mprint\u001b[0m\u001b[0;34m(\u001b[0m\u001b[0mself\u001b[0m\u001b[0;34m.\u001b[0m\u001b[0m_name\u001b[0m\u001b[0;34m)\u001b[0m\u001b[0;34m\u001b[0m\u001b[0;34m\u001b[0m\u001b[0m\n\u001b[0m",
            "\u001b[0;31mNameError\u001b[0m: name 'self' is not defined"
          ]
        }
      ]
    }
  ]
}