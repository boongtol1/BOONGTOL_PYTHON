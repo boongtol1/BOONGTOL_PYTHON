{
  "cells": [
    {
      "cell_type": "code",
      "execution_count": null,
      "metadata": {
        "colab": {
          "base_uri": "https://localhost:8080/"
        },
        "id": "g_p-lfqBp1SP",
        "outputId": "b95e705e-7724-4ee0-e5f6-4b64603267d9"
      },
      "outputs": [
        {
          "name": "stdout",
          "output_type": "stream",
          "text": [
            "정수 a：55\n",
            "정수 b：7\n",
            "범위를 벗어났습니다.\n",
            "수고하셨습니다.\n"
          ]
        }
      ],
      "source": [
        "# 12장 정리1\n",
        "\n",
        "class RangeException(Exception):        # 상속을 사용하면 '부모 클래스' (또는 '슈퍼 클래스', '베이스 클래스')의 모든 속성과 메서드를 '자식 클래스' (또는 '서브 클래스', '파생 클래스')가 이어받습니다.\n",
        "                                        # 자식 클래스는 추가적인 속성이나 메서드를 정의할 수 있고, 부모 클래스의 메서드를 재정의(오버라이딩)할 수도 있습니다.\n",
        "    \"\"\"범위를 벗어난 예외\"\"\"\n",
        "    pass                \n",
        "\n",
        "class ParameterRangeException(RangeException):\n",
        "    \"\"\"매개 변수의 범위를 벗어난 예외\"\"\"\n",
        "    pass\n",
        "\n",
        "class ResultException(RangeException):\n",
        "    \"\"\"리턴 값의 범위를 벗어난 예외\"\"\"\n",
        "    pass\n",
        "\n",
        "def is_valid(value: int) -> bool:\n",
        "    \"\"\"value는 0~9인가?\"\"\"\n",
        "    return 0 <= value <= 9\n",
        "\n",
        "def add(a: int, b: int) -> int:\n",
        "    \"\"\"a와 b의 합을 리턴\n",
        "\n",
        "    사전 조건 : a와 b는 0~9\n",
        "             충족하지 않은 경우 ParameterRangeException를 전송\n",
        "\n",
        "    사후 조건 : 리턴하는 합은 0~9\n",
        "             충족하지 않은 경우 ResultRangeException를 전송\n",
        "\n",
        "    \"\"\"                                     # raise ParameterRangeException 문이 실행되어 ParameterRangeException 예외가 발생합니다.\n",
        "    if not is_valid(a):\n",
        "        raise ParameterRangeException       # 예외가 발생하면 그 시점에서 현재 실행 중인 함수의 나머지 부분은 실행되지 않습니다.\n",
        "                                            # 대신, 예외가 발생한 지점에서 즉시 프로그램 제어가 호출 스택을 따라 이동하여 적절한 예외 처리기(try-except 블록)를 찾습니다.\n",
        "                                            # 만약 처리기를 찾지 못하면, 프로그램은 예외 메시지와 함께 종료됩니다.\n",
        "    if not is_valid(b):\n",
        "        raise ParameterRangeException       # raise 문은 클래스를 구별해주는 기준이라 할 수 있다!\n",
        "\n",
        "    result = a + b\n",
        "\n",
        "    if not is_valid(result):\n",
        "        raise ResultException\n",
        "    return result\n",
        "\n",
        "a = int(input('정수 a：'))\n",
        "b = int(input('정수 b：'))\n",
        "\n",
        "try:\n",
        "    print('두 수의 합은 {}입니다.'.format(add(a, b)))\n",
        "except ParameterRangeException:      # except 라는 영어 뜻과는 좀 다르다!(실제 코딩에서의 의미는!), 48 행의 의미는?--> ParameterRangeException 이라는 예외가 발생할때, 실행된다!\n",
        "    print('범위를 벗어났습니다.')   # 일치하는 except 블록을 찾으면 그 블록의 코드를 실행하고, 나머지 except 블록은 무시됩니다.\n",
        "except:                         # Python 프로그래밍에서는 except 블록이 순차적으로 평가되고 실행됩니다.\n",
        "    print('예외가 발생하였습니다.')\n",
        "finally:\n",
        "    print('수고하셨습니다.')\n"
      ]
    },
    {
      "cell_type": "code",
      "execution_count": null,
      "metadata": {
        "colab": {
          "base_uri": "https://localhost:8080/"
        },
        "id": "uvNI4eDt_A54",
        "outputId": "636f3fd7-a0c8-476d-b37a-740c47ce65c2"
      },
      "outputs": [
        {
          "name": "stdout",
          "output_type": "stream",
          "text": [
            "<class '__main__.RangeException'>\n"
          ]
        }
      ],
      "source": [
        "print(RangeException)"
      ]
    }
  ],
  "metadata": {
    "colab": {
      "provenance": []
    },
    "kernelspec": {
      "display_name": "Python 3",
      "name": "python3"
    },
    "language_info": {
      "name": "python"
    }
  },
  "nbformat": 4,
  "nbformat_minor": 0
}
