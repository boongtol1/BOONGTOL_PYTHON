{
  "nbformat": 4,
  "nbformat_minor": 0,
  "metadata": {
    "colab": {
      "provenance": []
    },
    "kernelspec": {
      "name": "python3",
      "display_name": "Python 3"
    },
    "language_info": {
      "name": "python"
    }
  },
  "cells": [
    {
      "cell_type": "code",
      "execution_count": null,
      "metadata": {
        "id": "-MNUIuyx-3YL",
        "colab": {
          "base_uri": "https://localhost:8080/",
          "height": 53
        },
        "outputId": "94ce2529-130c-4b88-9182-beeab099faef"
      },
      "outputs": [
        {
          "name": "stdout",
          "output_type": "stream",
          "text": [
            "att\n"
          ]
        },
        {
          "output_type": "execute_result",
          "data": {
            "text/plain": [
              "'tt'"
            ],
            "application/vnd.google.colaboratory.intrinsic+json": {
              "type": "string"
            }
          },
          "metadata": {},
          "execution_count": 3
        }
      ],
      "source": [
        "\n",
        "\n",
        "input('a')"
      ]
    },
    {
      "cell_type": "code",
      "source": [
        "# 입력받은 정수가 두 자리 이상인지 알아보기 1\n",
        "\n",
        "n = 7\n",
        "\n",
        "if n <= -10 or n >= 10:             # 두 자리 이상\n",
        "    print('이 숫자는 두 자리 이상의 수입니다.')\n",
        "else:                               # 두 자리 미만\n",
        "    print('이 숫자는 두 자리 미만의 수입니다.')\n"
      ],
      "metadata": {
        "colab": {
          "base_uri": "https://localhost:8080/"
        },
        "id": "Car5u2zZ5Xpn",
        "outputId": "4a1c5d21-65ed-46ef-e663-6e93fb0f9429"
      },
      "execution_count": null,
      "outputs": [
        {
          "output_type": "stream",
          "name": "stdout",
          "text": [
            "정수 값：7\n",
            "이 숫자는 두 자리 미만의 수입니다.\n"
          ]
        }
      ]
    },
    {
      "cell_type": "code",
      "source": [
        "x = 5\n",
        "y = -9\n",
        "\n",
        "if False:\n",
        "    print(\"Both x and y are positive.\")\n"
      ],
      "metadata": {
        "id": "XeaGq-AU_sv4"
      },
      "execution_count": null,
      "outputs": []
    },
    {
      "cell_type": "code",
      "source": [
        "c = int(input('정수 c：'))\n",
        "print('c는 ' + '홀수' if c % 2 else '짝수' + '입니다.' )"
      ],
      "metadata": {
        "colab": {
          "base_uri": "https://localhost:8080/"
        },
        "id": "_WxBHb5kC126",
        "outputId": "ae83ce9f-0f53-4d70-8ee4-3745bfadf713"
      },
      "execution_count": null,
      "outputs": [
        {
          "output_type": "stream",
          "name": "stdout",
          "text": [
            "정수 c：9\n",
            "c는 홀수\n"
          ]
        }
      ]
    },
    {
      "cell_type": "code",
      "source": [
        "# 2장 정리\n",
        "\n",
        "print('ABC', 'XYZ')\n",
        "print('ABC', 'XYZ', end='8') \t\t# 행의 마지막에서 개행하지 않음\n",
        "print('ABC', 'XYZ', sep='') \t\t# 구분을 위한 공백을 넣지 않음\n",
        "print()\t\t\t\t# 개행\n",
        "print('ABC\\n\\nXYZ','ㅎㅎ' ,sep=' ') \t# 중간에 두 번 개행  #\n",
        "print()\t\t\t\t# 개행\n",
        "\n",
        "s = input('문자열:')\n",
        "print('당신은' ,  s  , '을입력하였습니다.')\n",
        "print('당신은' + s + '을입력하였습니다.')\n",
        "print('당신은{}을입력하였습니다.'.format(s))\n",
        "print()\n",
        "\n",
        "no = int(input('정수 값:'))\n",
        "print('마지막 자리의 값 : ', str(no % 10), sep='')\n",
        "print('2진수 : ' + bin(no)) \t# 2진 문자열으로 변환\n",
        "print('8진수 : ' + oct(no)) \t# 8진 문자열으로 변환\n",
        "print('10진수 : ' + str(no)) \t# 10진 문자열으로 변환\n",
        "print('16진수 : ' + hex(no)) \t# 16진 문자열으로 변환\n",
        "print()\n",
        "\n",
        "PI = 3.14159 \t# 원주율을 나타내는 수\n",
        "print('사각형과 원의 넓이를 구하겠습니다.')\n",
        "width = float(input('사각형 가로의 길이 : '))\n",
        "height = float(input('사각형 세로의 길이 : '))\n",
        "radius = float(input('원의 지름 : '))\n",
        "\n",
        "print('사각형 : {}'.format(width*height))\n",
        "print('원 : {}'.format(PI * radius * radius))\n"
      ],
      "metadata": {
        "colab": {
          "base_uri": "https://localhost:8080/",
          "height": 263
        },
        "id": "0ED092z4DK6x",
        "outputId": "c1861ef4-8313-4878-a44b-6d6591bf59fd"
      },
      "execution_count": null,
      "outputs": [
        {
          "output_type": "stream",
          "name": "stdout",
          "text": [
            "ABC XYZ\n"
          ]
        },
        {
          "output_type": "error",
          "ename": "TypeError",
          "evalue": "ignored",
          "traceback": [
            "\u001b[0;31m---------------------------------------------------------------------------\u001b[0m",
            "\u001b[0;31mTypeError\u001b[0m                                 Traceback (most recent call last)",
            "\u001b[0;32m<ipython-input-6-563fb8b8b2d5>\u001b[0m in \u001b[0;36m<cell line: 4>\u001b[0;34m()\u001b[0m\n\u001b[1;32m      2\u001b[0m \u001b[0;34m\u001b[0m\u001b[0m\n\u001b[1;32m      3\u001b[0m \u001b[0mprint\u001b[0m\u001b[0;34m(\u001b[0m\u001b[0;34m'ABC'\u001b[0m\u001b[0;34m,\u001b[0m \u001b[0;34m'XYZ'\u001b[0m\u001b[0;34m)\u001b[0m\u001b[0;34m\u001b[0m\u001b[0;34m\u001b[0m\u001b[0m\n\u001b[0;32m----> 4\u001b[0;31m \u001b[0minput\u001b[0m\u001b[0;34m(\u001b[0m\u001b[0;34m'ABC'\u001b[0m\u001b[0;34m,\u001b[0m \u001b[0;34m'XYZ'\u001b[0m\u001b[0;34m,\u001b[0m \u001b[0mend\u001b[0m\u001b[0;34m=\u001b[0m\u001b[0;34m'8'\u001b[0m\u001b[0;34m)\u001b[0m            \u001b[0;31m# 행의 마지막에서 개행하지 않음\u001b[0m\u001b[0;34m\u001b[0m\u001b[0;34m\u001b[0m\u001b[0m\n\u001b[0m\u001b[1;32m      5\u001b[0m \u001b[0mprint\u001b[0m\u001b[0;34m(\u001b[0m\u001b[0;34m'ABC'\u001b[0m\u001b[0;34m,\u001b[0m \u001b[0;34m'XYZ'\u001b[0m\u001b[0;34m,\u001b[0m \u001b[0msep\u001b[0m\u001b[0;34m=\u001b[0m\u001b[0;34m''\u001b[0m\u001b[0;34m)\u001b[0m             \u001b[0;31m# 구분을 위한 공백을 넣지 않음\u001b[0m\u001b[0;34m\u001b[0m\u001b[0;34m\u001b[0m\u001b[0m\n\u001b[1;32m      6\u001b[0m \u001b[0mprint\u001b[0m\u001b[0;34m(\u001b[0m\u001b[0;34m)\u001b[0m                         \u001b[0;31m# 개행\u001b[0m\u001b[0;34m\u001b[0m\u001b[0;34m\u001b[0m\u001b[0m\n",
            "\u001b[0;31mTypeError\u001b[0m: Kernel.raw_input() got an unexpected keyword argument 'end'"
          ]
        }
      ]
    },
    {
      "cell_type": "code",
      "source": [
        "print(\"Hello\",\"World!\")\n",
        "print(8)"
      ],
      "metadata": {
        "colab": {
          "base_uri": "https://localhost:8080/"
        },
        "id": "CmgBEuRREO8o",
        "outputId": "e878b565-d9c1-470c-a325-91deb35ad1b0"
      },
      "execution_count": null,
      "outputs": [
        {
          "output_type": "stream",
          "name": "stdout",
          "text": [
            "Hello World!\n",
            "8\n"
          ]
        }
      ]
    },
    {
      "cell_type": "code",
      "source": [
        "print('ABC', 'XYZ','xx', sep=' ') \t\t# 구분을 위한 공백을 넣지 않음"
      ],
      "metadata": {
        "colab": {
          "base_uri": "https://localhost:8080/"
        },
        "id": "djjU7UonKPhf",
        "outputId": "13e602a6-674a-4905-d4df-11ac6452f873"
      },
      "execution_count": null,
      "outputs": [
        {
          "output_type": "stream",
          "name": "stdout",
          "text": [
            "ABC XYZ xx\n"
          ]
        }
      ]
    },
    {
      "cell_type": "code",
      "source": [
        "# 2장 정리\n",
        "\n",
        "print('ABC', 'XYZ')\n",
        "print('ABC', 'XYZ', end='') \t\t# 행의 마지막에서 개행하지 않음\n",
        "print('ABC', 'XYZ', sep='') \t\t# 구분을 위한 공백을 넣지 않음\n",
        "print()\t\t\t\t# 개행\n",
        "print('ABC\\n\\nXYZ', sep='') \t# 중간에 두 번 개행\n",
        "print()\t\t\t\t# 개행\n",
        "\n",
        "s = input('문자열:')\n",
        "print('당신은' ,  s  , '을입력하였습니다.')\n",
        "print('당신은' + s + '을입력하였습니다.')\n",
        "print('당신은{}을입력하였습니다.'.format(s))\n",
        "print()\n",
        "\n",
        "no = int(input('정수 값:'))\n",
        "print('마지막 자리의 값 : ', str(no % 10), sep='')\n",
        "print('2진수 : ' + bin(no)) \t# 2진 문자열으로 변환\n",
        "print('8진수 : ' + oct(no)) \t# 8진 문자열으로 변환\n",
        "print('10진수 : ' + str(no)) \t# 10진 문자열으로 변환\n",
        "print('16진수 : ' + hex(no)) \t# 16진 문자열으로 변환\n",
        "print()\n",
        "\n",
        "PI = 3.14159 \t# 원주율을 나타내는 수\n",
        "print('사각형과 원의 넓이를 구하겠습니다.')\n",
        "width = float(input('사각형 가로의 길이 : '))\n",
        "height = float(input('사각형 세로의 길이 : '))\n",
        "radius = float(input('원의 지름 : '))\n",
        "\n",
        "print('사각형 : {}'.format(width*height))\n",
        "print('원 : {}'.format(PI * radius * radius))\n"
      ],
      "metadata": {
        "colab": {
          "base_uri": "https://localhost:8080/"
        },
        "id": "uoi4xItFzIaX",
        "outputId": "9287f2c1-8772-4f06-98fc-e0d7f0fc4371"
      },
      "execution_count": null,
      "outputs": [
        {
          "output_type": "stream",
          "name": "stdout",
          "text": [
            "ABC XYZ\n",
            "ABC XYZABCXYZ\n",
            "\n",
            "ABC\n",
            "\n",
            "XYZ\n",
            "\n",
            "문자열:ㅎㅎ\n",
            "당신은 ㅎㅎ 을입력하였습니다.\n",
            "당신은ㅎㅎ을입력하였습니다.\n",
            "당신은ㅎㅎ을입력하였습니다.\n",
            "\n",
            "정수 값:9\n",
            "마지막 자리의 값 : 9\n",
            "2진수 : 0b1001\n",
            "8진수 : 0o11\n",
            "10진수 : 9\n",
            "16진수 : 0x9\n",
            "\n",
            "사각형과 원의 넓이를 구하겠습니다.\n",
            "사각형 가로의 길이 : 9\n",
            "사각형 세로의 길이 : 8\n",
            "원의 지름 : 2\n",
            "사각형 : 72.0\n",
            "원 : 12.56636\n"
          ]
        }
      ]
    },
    {
      "cell_type": "code",
      "source": [
        "# 4장 정리\n",
        "\n",
        "while True:\n",
        "    n = int(input('0～100 사이의 정수：'))\n",
        "    if 0 <= n <= 100:\n",
        "        break\n",
        "c = n\n",
        "\n",
        "# '*'을 c개 출력하기\n",
        "while n > 0:\n",
        "    print('*', end='')\n",
        "    n -= 1\n",
        "print()\n",
        "\n",
        "# '1234567890'을 반복하여 출력총 c회）\n",
        "for i in range(1, c + 1):\n",
        "    print(i % 10, end='')\n",
        "print()\n",
        "\n",
        "# 넓이가 s이고, 세로와 가로가 정수인 사각형의 변의 길이\n",
        "s = int(input('넓이：'))\n",
        "print('넓이가 {}(이)고, 세로와 길이가 정수인 '\n",
        "      '사각형의 변의 길이'.format(s))   #format 메서드를 사용해 print 할때는 문자열들을 연결할때 , 나 + 을 사용하지 않아도 연결된다. 만약 , 나 + 를 사용한다면 format 메서드는 무시(없는 취급이) 된다.\n",
        "for i in range(1, s + 1):\n",
        "    if i * i > s: break\n",
        "    if s % i: continue\n",
        "    print('{}×{}'.format(i, s // i))\n",
        "print()\n",
        "\n",
        "# n개의 '*'을 w째 마다 개행하면서 출력하기\n",
        "n = int(input('*을 총 몇 개 출력할까요：'))\n",
        "w = int(input('몇 번째마다 개행할까요：'))\n",
        "for i in range(1, n + 1):\n",
        "    print('*', end='')\n",
        "    if i % w == 0:\n",
        "        print()\n",
        "if n % w != 1:\n",
        "    print()\n",
        "print()\n",
        "\n",
        "# 숫자로 사각형 그리기\n",
        "h = int(input('가로：'))\n",
        "w = int(input('세로：'))\n",
        "for i in range(1, h + 1):\n",
        "    for j in range(1, w + 1):\n",
        "        print((i + j - 1) % 10, end='')\n",
        "    print()\n"
      ],
      "metadata": {
        "colab": {
          "base_uri": "https://localhost:8080/"
        },
        "id": "dFWSVQqr4gmP",
        "outputId": "be7ab7c4-2513-42d3-91d5-dd0ff350d83b"
      },
      "execution_count": null,
      "outputs": [
        {
          "output_type": "stream",
          "name": "stdout",
          "text": [
            "0～100 사이의 정수：4\n",
            "****\n",
            "1234\n",
            "\n",
            "넓이：5\n",
            "넓이가 5(이)고, 세로와 길이가 정수인 사각형의 변의 길이\n",
            "1×5\n",
            "\n",
            "*을 총 몇 개 출력할까요：4\n",
            "몇 번째마다 개행할까요：1\n",
            "*\n",
            "*\n",
            "*\n",
            "*\n",
            "\n",
            "\n",
            "가로：4\n",
            "세로：76\n",
            "1234567890123456789012345678901234567890123456789012345678901234567890123456\n",
            "2345678901234567890123456789012345678901234567890123456789012345678901234567\n",
            "3456789012345678901234567890123456789012345678901234567890123456789012345678\n",
            "4567890123456789012345678901234567890123456789012345678901234567890123456789\n"
          ]
        }
      ]
    },
    {
      "cell_type": "code",
      "source": [
        "while True:\n",
        "    n = int(input('0～100 사이의 정수: '))\n",
        "    if 0 <= n and n<=100:\n",
        "        break"
      ],
      "metadata": {
        "colab": {
          "base_uri": "https://localhost:8080/"
        },
        "id": "LHsSuQorAaCM",
        "outputId": "811bbb42-f8d0-4943-c080-8b8a6eb9c511"
      },
      "execution_count": null,
      "outputs": [
        {
          "name": "stdout",
          "output_type": "stream",
          "text": [
            "0～100 사이의 정수: 999\n",
            "0～100 사이의 정수: 88\n"
          ]
        }
      ]
    },
    {
      "cell_type": "code",
      "source": [
        "while True:\n",
        "    n = int(input('0～100 사이의 정수: '))\n",
        "    if n <=100 and 0 <= n:\n",
        "        break"
      ],
      "metadata": {
        "colab": {
          "base_uri": "https://localhost:8080/"
        },
        "id": "92D_BtEjAdyu",
        "outputId": "014d4be7-df76-486f-db27-d2e1e5ac69fd"
      },
      "execution_count": null,
      "outputs": [
        {
          "name": "stdout",
          "output_type": "stream",
          "text": [
            "0～100 사이의 정수: 7\n"
          ]
        }
      ]
    },
    {
      "cell_type": "code",
      "source": [
        "while True:\n",
        "    n = int(input('0～100 사이의 정수: '))\n",
        "    if 0 <= n <=100:    # 헷갈리지 않을려면 just '범위 내에 있다' 정도의 해석까지만 하자 not using and 연산자!!!\n",
        "        break"
      ],
      "metadata": {
        "colab": {
          "base_uri": "https://localhost:8080/"
        },
        "id": "KRmIQIoZ6Fn2",
        "outputId": "e22ea4a7-3386-4447-c7c9-bd429ca5821c"
      },
      "execution_count": null,
      "outputs": [
        {
          "name": "stdout",
          "output_type": "stream",
          "text": [
            "0～100 사이의 정수: 5\n"
          ]
        }
      ]
    },
    {
      "cell_type": "code",
      "source": [
        "# '*'을 c개 출력하기\n",
        "while n > 0:\n",
        "    print('*', end=' ')\n",
        "    n -= 1\n",
        "print()"
      ],
      "metadata": {
        "colab": {
          "base_uri": "https://localhost:8080/"
        },
        "id": "ChvA9X1fQx4Y",
        "outputId": "0dc74b1e-2cfc-4c1f-c8bf-4d0b346fdb3a"
      },
      "execution_count": null,
      "outputs": [
        {
          "output_type": "stream",
          "name": "stdout",
          "text": [
            "* * * * * * * * * \n"
          ]
        }
      ]
    },
    {
      "cell_type": "code",
      "source": [
        "for i in range(1, 99):\n",
        "    print(i, end='  ')\n"
      ],
      "metadata": {
        "colab": {
          "base_uri": "https://localhost:8080/"
        },
        "id": "-Ocr2UguSuxi",
        "outputId": "6fa26bb2-2dba-4a3b-bb06-e44cceb5f054"
      },
      "execution_count": null,
      "outputs": [
        {
          "output_type": "stream",
          "name": "stdout",
          "text": [
            "1  2  3  4  5  6  7  8  9  10  11  12  13  14  15  16  17  18  19  20  21  22  23  24  25  26  27  28  29  30  31  32  33  34  35  36  37  38  39  40  41  42  43  44  45  46  47  48  49  50  51  52  53  54  55  56  57  58  59  60  61  62  63  64  65  66  67  68  69  70  71  72  73  74  75  76  77  78  79  80  81  82  83  84  85  86  87  88  89  90  91  92  93  94  95  96  97  98  "
          ]
        }
      ]
    },
    {
      "cell_type": "code",
      "source": [
        "# 넓이가 s이고, 세로와 가로가 정수인 사각형의 변의 길이\n",
        "s = int(input('넓이：'))\n",
        "print('넓이가 {}이고, 세로와 길이가 정수인 ' '나머지 한 사각형의 변의 길이'.format(s))\n",
        "         #cf) format() 은 문자열,숫자,진리값 모두 사용 가능!!!\n",
        "for i in range(1, s+1):\n",
        "    if i * i > s: break      #세로의 길이(i) 보다 가로의 길이가 작은 상황을 방지!\n",
        "    if s % i: continue     #s가 i로 나누어떨어지지 않는다면 ---> continue=현재 반복을 멈추고 다음 루프를 이동한다!\n",
        "    print('{}×{}'.format(i, s // i))  # print i 와 s를 i로 나눴을때의 몫"
      ],
      "metadata": {
        "colab": {
          "base_uri": "https://localhost:8080/"
        },
        "id": "KRtJeIPDYPdA",
        "outputId": "206163d1-0531-46e4-8f93-caa51e59f208"
      },
      "execution_count": null,
      "outputs": [
        {
          "output_type": "stream",
          "name": "stdout",
          "text": [
            "넓이：72\n",
            "넓이가 72이고, 세로와 길이가 정수인 나머지 한 사각형의 변의 길이\n",
            "1×72\n",
            "2×36\n",
            "3×24\n",
            "4×18\n",
            "6×12\n",
            "8×9\n"
          ]
        }
      ]
    },
    {
      "cell_type": "code",
      "source": [],
      "metadata": {
        "colab": {
          "base_uri": "https://localhost:8080/",
          "height": 141
        },
        "id": "AbDq0ECA-Q11",
        "outputId": "9085f7a6-92af-4f67-d3a1-143ae1c329c5"
      },
      "execution_count": null,
      "outputs": [
        {
          "output_type": "error",
          "ename": "SyntaxError",
          "evalue": "ignored",
          "traceback": [
            "\u001b[0;36m  File \u001b[0;32m\"<ipython-input-23-cca15a83a499>\"\u001b[0;36m, line \u001b[0;32m1\u001b[0m\n\u001b[0;31m    print(8\u001b[0m\n\u001b[0m          ^\u001b[0m\n\u001b[0;31mSyntaxError\u001b[0m\u001b[0;31m:\u001b[0m invalid syntax. Perhaps you forgot a comma?\n"
          ]
        }
      ]
    },
    {
      "cell_type": "code",
      "source": [
        "for i in range(1, 11):  # 1부터 10까지의 숫자에 대해 반복\n",
        "    if i % 2 == 0:  # 만약 i가 짝수라면\n",
        "        continue  # 현재 반복(과정)을 중단하고 다음 반복으로 넘어감\n",
        "    print(i,end=\" \")  # 홀수만 출력"
      ],
      "metadata": {
        "colab": {
          "base_uri": "https://localhost:8080/"
        },
        "id": "WOwxxzFW0Fz9",
        "outputId": "117854ac-434f-4f5f-c21d-f65cd507883a"
      },
      "execution_count": null,
      "outputs": [
        {
          "output_type": "stream",
          "name": "stdout",
          "text": [
            "1 3 5 7 9 "
          ]
        }
      ]
    },
    {
      "cell_type": "code",
      "source": [
        "for i in range(1, 11):  # 1부터 10까지의 숫자에 대해 반복\n",
        "    if i % 2 == 0:  # 만약 i가 짝수라면\n",
        "       print(i)   # 현재 반복을 중단하고 다음 반복으로 넘어감\n",
        "      # 홀수만 출력\n"
      ],
      "metadata": {
        "colab": {
          "base_uri": "https://localhost:8080/"
        },
        "id": "gYbsUdb1iUUb",
        "outputId": "dbbe6ae6-18b9-43af-ae90-b6d7aa4206df"
      },
      "execution_count": null,
      "outputs": [
        {
          "output_type": "stream",
          "name": "stdout",
          "text": [
            "2\n",
            "4\n",
            "6\n",
            "8\n",
            "10\n"
          ]
        }
      ]
    },
    {
      "cell_type": "code",
      "source": [
        "print('넓이가 {}이고, 세로와 길이가 정수인'       '사각형의 변의 길이'.format(2))"
      ],
      "metadata": {
        "colab": {
          "base_uri": "https://localhost:8080/"
        },
        "id": "1HGejwFSkxEh",
        "outputId": "13764617-77e4-4a25-c080-4385172e1f38"
      },
      "execution_count": null,
      "outputs": [
        {
          "output_type": "stream",
          "name": "stdout",
          "text": [
            "넓이가 2이고, 세로와 길이가 정수인사각형의 변의 길이\n"
          ]
        }
      ]
    },
    {
      "cell_type": "code",
      "source": [
        "print(8)\n",
        "print('\\n')   #\\n의 본질은 이스케이프 시퀀스(특수한 (2개의 문자로 이루어진) 문자)!!문자열 안에서(따옴표 안에서!) 특수한 의미를 나타내는 문자(덩어리)!\n",
        "print(0)"
      ],
      "metadata": {
        "colab": {
          "base_uri": "https://localhost:8080/"
        },
        "id": "vf3pizwmf8Zr",
        "outputId": "4f9d10ff-171c-43a8-a748-e172e68eceb7"
      },
      "execution_count": null,
      "outputs": [
        {
          "output_type": "stream",
          "name": "stdout",
          "text": [
            "8\n",
            " \n",
            "0\n"
          ]
        }
      ]
    },
    {
      "cell_type": "code",
      "source": [
        "c=21\n",
        "for i in range(1, c + 1):\n",
        "    print(i % 10, end=' ')"
      ],
      "metadata": {
        "colab": {
          "base_uri": "https://localhost:8080/"
        },
        "id": "O0FKMPIaf8fK",
        "outputId": "633d385e-ddda-4802-dd9f-aac75bae326f"
      },
      "execution_count": null,
      "outputs": [
        {
          "output_type": "stream",
          "name": "stdout",
          "text": [
            "1 2 3 4 5 6 7 8 9 0 1 2 3 4 5 6 7 8 9 0 1 "
          ]
        }
      ]
    },
    {
      "cell_type": "code",
      "source": [
        "# n개의 '*'을 w째 마다 개행하면서 출력하기\n",
        "n = int(input('*을 총 몇 개 출력할까요：'))\n",
        "w = int(input('몇 번째마다 개행할까요：'))\n",
        "for i in range(1, n + 1):\n",
        "    print('*', end='')\n",
        "    if i % w == 0:\n",
        "        print()\n",
        "if n % w != 1:\n",
        "    print()"
      ],
      "metadata": {
        "colab": {
          "base_uri": "https://localhost:8080/"
        },
        "id": "GpRLb4V83s7k",
        "outputId": "e16658fb-2ff8-4728-fca1-0046033a870b"
      },
      "execution_count": null,
      "outputs": [
        {
          "output_type": "stream",
          "name": "stdout",
          "text": [
            "*을 총 몇 개 출력할까요：10\n",
            "몇 번째마다 개행할까요：3\n",
            "***\n",
            "***\n",
            "***\n",
            "*"
          ]
        }
      ]
    },
    {
      "cell_type": "code",
      "source": [
        "# 숫자로 사각형 그리기\n",
        "h = int(input('가로：'))\n",
        "w = int(input('세로：'))\n",
        "for i in range(1, h + 1):\n",
        "    for j in range(1, w + 1):\n",
        "        print((i + j - 1) % 10, end='')\n",
        "    print()\n"
      ],
      "metadata": {
        "colab": {
          "base_uri": "https://localhost:8080/"
        },
        "id": "piONkAtB75wd",
        "outputId": "0e0aa882-16ba-41ca-e592-8de2e79510fc"
      },
      "execution_count": null,
      "outputs": [
        {
          "output_type": "stream",
          "name": "stdout",
          "text": [
            "가로：4\n",
            "세로：5\n",
            "12345\n",
            "23456\n",
            "34567\n",
            "45678\n"
          ]
        }
      ]
    },
    {
      "cell_type": "code",
      "source": [
        "for i in range(5):\n",
        "    print(i)\n",
        "\n",
        "print(\"반복이 끝났습니다.\")\n"
      ],
      "metadata": {
        "colab": {
          "base_uri": "https://localhost:8080/"
        },
        "id": "e_sGfxxAmMHQ",
        "outputId": "ac14e6ae-c02e-420a-c4f4-67d65ef36dbd"
      },
      "execution_count": null,
      "outputs": [
        {
          "output_type": "stream",
          "name": "stdout",
          "text": [
            "0\n",
            "1\n",
            "2\n",
            "3\n",
            "4\n",
            "반복이 끝났습니다.\n"
          ]
        }
      ]
    }
  ]
}