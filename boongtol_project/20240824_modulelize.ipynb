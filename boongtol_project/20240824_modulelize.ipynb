version https://git-lfs.github.com/spec/v1
oid sha256:6e25db10172cd451c80e8b4554bda7daf30364b44d6c4a6285c6532188a34cbe
size 12589
