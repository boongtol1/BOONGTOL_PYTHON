{
 "cells": [
  {
   "cell_type": "code",
   "execution_count": 8,
   "metadata": {},
   "outputs": [
    {
     "ename": "ModuleNotFoundError",
     "evalue": "No module named 'music21'",
     "output_type": "error",
     "traceback": [
      "\u001b[0;31m---------------------------------------------------------------------------\u001b[0m",
      "\u001b[0;31mModuleNotFoundError\u001b[0m                       Traceback (most recent call last)",
      "Cell \u001b[0;32mIn[8], line 1\u001b[0m\n\u001b[0;32m----> 1\u001b[0m \u001b[38;5;28;01mfrom\u001b[39;00m \u001b[38;5;21;01mmusic21\u001b[39;00m \u001b[38;5;28;01mimport\u001b[39;00m stream, note\n\u001b[1;32m      3\u001b[0m \u001b[38;5;66;03m# 스트림 생성\u001b[39;00m\n\u001b[1;32m      4\u001b[0m s \u001b[38;5;241m=\u001b[39m stream\u001b[38;5;241m.\u001b[39mStream()\n",
      "\u001b[0;31mModuleNotFoundError\u001b[0m: No module named 'music21'"
     ]
    }
   ],
   "source": [
    "from music21 import stream, note\n",
    "\n",
    "# 스트림 생성\n",
    "s = stream.Stream()\n",
    "s.append(note.Note(\"C4\", quarterLength=1))\n",
    "s.append(note.Note(\"E4\", quarterLength=1))\n",
    "s.append(note.Note(\"G4\", quarterLength=2))\n",
    "\n",
    "# 텍스트로 출력\n",
    "s.show('text')\n",
    "\n",
    "# 악보로 시각화\n",
    "s.show('midi')  # MIDI 재생\n",
    "s.show('musicxml')  # 악보 이미지 생성 (별도 소프트웨어 필요)\n"
   ]
  }
 ],
 "metadata": {
  "kernelspec": {
   "display_name": "myenv",
   "language": "python",
   "name": "python3"
  },
  "language_info": {
   "codemirror_mode": {
    "name": "ipython",
    "version": 3
   },
   "file_extension": ".py",
   "mimetype": "text/x-python",
   "name": "python",
   "nbconvert_exporter": "python",
   "pygments_lexer": "ipython3",
   "version": "3.12.6"
  }
 },
 "nbformat": 4,
 "nbformat_minor": 2
}
