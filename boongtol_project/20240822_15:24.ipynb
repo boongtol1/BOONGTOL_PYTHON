version https://git-lfs.github.com/spec/v1
oid sha256:ddf0f68b2ef348cd7c958d1645a128f62f02e943f824b5dbe4dd3db640e58aaf
size 42299
