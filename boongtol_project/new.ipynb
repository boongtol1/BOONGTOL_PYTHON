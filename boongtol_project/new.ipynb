version https://git-lfs.github.com/spec/v1
oid sha256:ec6440dde83b3bba411ffd0d1244b88becf2e8609656cc769106332365404b9f
size 10611
