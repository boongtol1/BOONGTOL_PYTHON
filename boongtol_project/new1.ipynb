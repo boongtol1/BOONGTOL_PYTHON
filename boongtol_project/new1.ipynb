version https://git-lfs.github.com/spec/v1
oid sha256:2373abcbf706d3d8fa9c3d849bbe6529729539f1418dc496edd6f98cfa9e2faf
size 47079
