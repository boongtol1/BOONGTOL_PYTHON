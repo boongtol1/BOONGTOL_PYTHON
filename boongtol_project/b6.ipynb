version https://git-lfs.github.com/spec/v1
oid sha256:2537761e0201c0dd616c9f2dd9868399da6d7a7ea48f6be0ea37e8858a8605ae
size 44378
