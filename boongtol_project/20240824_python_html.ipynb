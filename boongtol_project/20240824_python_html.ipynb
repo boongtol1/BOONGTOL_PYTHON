version https://git-lfs.github.com/spec/v1
oid sha256:fc6bfae1ddac40fbfc9ef06dbceed4603cc2fcebe53940f61d5ce73d97e958b2
size 44278
