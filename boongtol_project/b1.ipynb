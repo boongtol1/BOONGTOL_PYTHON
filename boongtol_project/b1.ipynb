version https://git-lfs.github.com/spec/v1
oid sha256:6c0d89218bd29e92e3fbb2fc58c2d73981fe570ac20a30530b38965d28f3b2a4
size 14565
