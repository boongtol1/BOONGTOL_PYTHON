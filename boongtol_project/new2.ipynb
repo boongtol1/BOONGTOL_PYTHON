version https://git-lfs.github.com/spec/v1
oid sha256:ea16d7451d12984aa6764a6919e7a3893d2e1b693e2eab9754b02468c10ac1a6
size 42956
